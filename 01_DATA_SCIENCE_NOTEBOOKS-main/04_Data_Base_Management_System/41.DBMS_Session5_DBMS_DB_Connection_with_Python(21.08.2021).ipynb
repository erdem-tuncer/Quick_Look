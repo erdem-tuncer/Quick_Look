{
 "cells": [
  {
   "cell_type": "code",
   "execution_count": 1,
   "id": "d401471e",
   "metadata": {},
   "outputs": [],
   "source": [
    "import pyodbc"
   ]
  },
  {
   "cell_type": "code",
   "execution_count": 2,
   "id": "8508bd67",
   "metadata": {},
   "outputs": [
    {
     "name": "stdout",
     "output_type": "stream",
     "text": [
      "Requirement already satisfied: pyodbc in c:\\users\\contravolta\\anaconda3\\lib\\site-packages (4.0.0-unsupported)\n",
      "Note: you may need to restart the kernel to use updated packages.\n"
     ]
    }
   ],
   "source": [
    "pip install pyodbc"
   ]
  },
  {
   "cell_type": "markdown",
   "id": "fa842527",
   "metadata": {},
   "source": [
    "## SQL Server Connection"
   ]
  },
  {
   "cell_type": "code",
   "execution_count": 3,
   "id": "af103380",
   "metadata": {},
   "outputs": [],
   "source": [
    "def create_server_connection(driver, server, database, user, password):\n",
    "    conn = None\n",
    "    try:\n",
    "        conn = pyodbc.connect(DRIVER = driver, SERVER= server, DATABASE = database, UID= user, PWD= password)\n",
    "        print(\"Successfull\")\n",
    "    except Error as err:\n",
    "        print(f\"Error:'{err}'\")\n",
    "    return conn"
   ]
  },
  {
   "cell_type": "markdown",
   "id": "5f01cd2d",
   "metadata": {},
   "source": [
    "Asıl mevzumuz pyodbc metodunu kullanarak bir connect oluşturmak. İstenilenleri ister bunun içine yazmak ya da dışarda oluşturup aşağıda yazmak. Buradaki fonksiyon aslında connection un başarılı olup olmadığını kontrol etmek."
   ]
  },
  {
   "cell_type": "code",
   "execution_count": 4,
   "id": "0207f178",
   "metadata": {},
   "outputs": [
    {
     "name": "stdout",
     "output_type": "stream",
     "text": [
      "Successfull\n"
     ]
    }
   ],
   "source": [
    "driver = '{ODBC Driver 17 for SQL Server}'\n",
    "server = 'localhost' #şu anda server her birimizin kendi makinesi\n",
    "database = 'master'#yeni bir db oluşturacağız fakat mevcut bir database'e bağlanacaksak onu yazarız.\n",
    "user = 'sa'\n",
    "password = 'Emrhn1031.'\n",
    "conn = create_server_connection(driver, server, database, user, password)"
   ]
  },
  {
   "cell_type": "markdown",
   "id": "bacaefd6",
   "metadata": {},
   "source": [
    "### windows authentication"
   ]
  },
  {
   "cell_type": "markdown",
   "id": "4ffeda34",
   "metadata": {},
   "source": [
    "Burada yaptığımız ise bir trusted connection oluşturmak."
   ]
  },
  {
   "cell_type": "code",
   "execution_count": 167,
   "id": "0f0d8687",
   "metadata": {},
   "outputs": [],
   "source": [
    "conn_string = \"driver={ODBC Driver 17 for SQL Server}; server=localhost; database=master; TRUSTED_CONNECTION=yes;\""
   ]
  },
  {
   "cell_type": "code",
   "execution_count": 168,
   "id": "99a6d16c",
   "metadata": {},
   "outputs": [],
   "source": [
    "conn = pyodbc.connect(conn_string);  # connection objesi"
   ]
  },
  {
   "cell_type": "code",
   "execution_count": 169,
   "id": "ac3f2c71",
   "metadata": {},
   "outputs": [],
   "source": [
    "crs = conn.cursor()  # database içindeki verilere satır satır ulaşmayı sağlayan araçtır"
   ]
  },
  {
   "cell_type": "code",
   "execution_count": 170,
   "id": "be9d0069",
   "metadata": {},
   "outputs": [],
   "source": [
    "conn.autocommit = True # conn.commit() we did automatically"
   ]
  },
  {
   "cell_type": "code",
   "execution_count": 76,
   "id": "9cd9ecaa",
   "metadata": {},
   "outputs": [],
   "source": [
    "create_database_query = 'Create database test_1'"
   ]
  },
  {
   "cell_type": "code",
   "execution_count": 10,
   "id": "b9f73a37",
   "metadata": {},
   "outputs": [],
   "source": [
    "def create_database (conn, create_database_query):\n",
    "    crs = conn.cursor()\n",
    "    try:\n",
    "        crs.execute(create_database_query)\n",
    "        print(\"Database is created succesfully\")\n",
    "    except Error as err:\n",
    "        print(f\"Error:'{err}'\")"
   ]
  },
  {
   "cell_type": "code",
   "execution_count": 11,
   "id": "bec8a0ae",
   "metadata": {},
   "outputs": [
    {
     "name": "stdout",
     "output_type": "stream",
     "text": [
      "Database is created succesfully\n"
     ]
    }
   ],
   "source": [
    "create_database(conn, create_database_query)"
   ]
  },
  {
   "cell_type": "markdown",
   "id": "97f5117b",
   "metadata": {},
   "source": [
    "#### aslında bu aşağıdaki aynı yukarıda olduğu gibidir."
   ]
  },
  {
   "cell_type": "markdown",
   "id": "42d56481",
   "metadata": {},
   "source": [
    "Biz bu execute query i kullanarak use test1 i çalıştıracağız."
   ]
  },
  {
   "cell_type": "code",
   "execution_count": 163,
   "id": "f56c78b7",
   "metadata": {},
   "outputs": [],
   "source": [
    "def execute_query(conn, query):\n",
    "    crs = conn.cursor()\n",
    "    try:\n",
    "        crs.execute(query)\n",
    "        conn.commit()\n",
    "        print(\"Query Succeessful!\")\n",
    "    except Error as err:\n",
    "        print(f\"Error:'{err}'\")"
   ]
  },
  {
   "cell_type": "code",
   "execution_count": 165,
   "id": "4d814901",
   "metadata": {},
   "outputs": [
    {
     "name": "stdout",
     "output_type": "stream",
     "text": [
      "Query Succeessful!\n"
     ]
    }
   ],
   "source": [
    "query = 'USE test_1'\n",
    "execute_query(conn,query)"
   ]
  },
  {
   "cell_type": "markdown",
   "id": "f38a7998",
   "metadata": {},
   "source": [
    "## Create Table"
   ]
  },
  {
   "cell_type": "markdown",
   "id": "4c480c73",
   "metadata": {},
   "source": [
    "Şifre girmemek için Windows Authenticaion ile bağlandık"
   ]
  },
  {
   "cell_type": "code",
   "execution_count": 14,
   "id": "0ccf9fcf",
   "metadata": {},
   "outputs": [
    {
     "name": "stdout",
     "output_type": "stream",
     "text": [
      "Query Succeessful!\n"
     ]
    }
   ],
   "source": [
    "query = 'CREATE TABLE TestA (\\\n",
    "           ID INT IDENTITY (1,1) NOT NULL, \\\n",
    "           FirstName VARCHAR(255) NOT NULL,\\\n",
    "           LastName VARCHAR(255) NOT NULL,\\\n",
    "           PRIMARY KEY(ID))'\n",
    "execute_query(conn, query)"
   ]
  },
  {
   "cell_type": "markdown",
   "id": "b661a839",
   "metadata": {},
   "source": [
    "artık test1 database i altında TestA tablosu oluşturdum."
   ]
  },
  {
   "cell_type": "markdown",
   "id": "72f03458",
   "metadata": {},
   "source": [
    "## Insert (tabloya veri insert etme)"
   ]
  },
  {
   "cell_type": "markdown",
   "id": "f6eb0269",
   "metadata": {},
   "source": [
    "cursor üzerinde execute ile alttaki syntaxımızı çalıştıracağız. Her seferinde commit yapmak zorundaydık ama biz auto cmmit yaptığımız için ***conn.commit()*** e gerek yok"
   ]
  },
  {
   "cell_type": "code",
   "execution_count": 15,
   "id": "8eb295e3",
   "metadata": {},
   "outputs": [
    {
     "data": {
      "text/plain": [
       "<pyodbc.Cursor at 0x23eb00b7cb0>"
      ]
     },
     "execution_count": 15,
     "metadata": {},
     "output_type": "execute_result"
    }
   ],
   "source": [
    "crs = conn.cursor()\n",
    "crs.execute(\"INSERT TestA(FirstName,LastName) VALUES('Bob', 'Marley')\")\n",
    "#conn.commit()"
   ]
  },
  {
   "cell_type": "markdown",
   "id": "835b65d1",
   "metadata": {},
   "source": [
    "***Bob Marley insert edilmiş oldu***"
   ]
  },
  {
   "cell_type": "code",
   "execution_count": 16,
   "id": "66f8a5b8",
   "metadata": {},
   "outputs": [
    {
     "data": {
      "text/plain": [
       "<pyodbc.Cursor at 0x23eb00b7cb0>"
      ]
     },
     "execution_count": 16,
     "metadata": {},
     "output_type": "execute_result"
    }
   ],
   "source": [
    "crs.execute(\"INSERT TestA (FirstName, LastName) VALUES (?,?)\",'Bruce', 'Lee')"
   ]
  },
  {
   "cell_type": "code",
   "execution_count": 17,
   "id": "bb6d3066",
   "metadata": {},
   "outputs": [
    {
     "data": {
      "text/plain": [
       "<pyodbc.Cursor at 0x23eb00b7cb0>"
      ]
     },
     "execution_count": 17,
     "metadata": {},
     "output_type": "execute_result"
    }
   ],
   "source": [
    "crs.execute(\"INSERT TestA (FirstName, LastName) VALUES (?,?)\",'Tom', 'Hanks')"
   ]
  },
  {
   "cell_type": "code",
   "execution_count": 18,
   "id": "2d5dbd7a",
   "metadata": {},
   "outputs": [
    {
     "data": {
      "text/plain": [
       "<pyodbc.Cursor at 0x23eb00b7cb0>"
      ]
     },
     "execution_count": 18,
     "metadata": {},
     "output_type": "execute_result"
    }
   ],
   "source": [
    "crs.execute(\"INSERT TestA (FirstName, LastName) VALUES (?,?)\",'Bart', 'Simpson')"
   ]
  },
  {
   "cell_type": "code",
   "execution_count": 19,
   "id": "3f0f96b2",
   "metadata": {},
   "outputs": [
    {
     "data": {
      "text/plain": [
       "<pyodbc.Cursor at 0x23eb00b7cb0>"
      ]
     },
     "execution_count": 19,
     "metadata": {},
     "output_type": "execute_result"
    }
   ],
   "source": [
    "crs.execute(\"INSERT TestA (FirstName, LastName) VALUES (?,?)\",'Tom', 'Cat')"
   ]
  },
  {
   "cell_type": "code",
   "execution_count": 20,
   "id": "96c2fc05",
   "metadata": {},
   "outputs": [
    {
     "data": {
      "text/plain": [
       "<pyodbc.Cursor at 0x23eb00b7cb0>"
      ]
     },
     "execution_count": 20,
     "metadata": {},
     "output_type": "execute_result"
    }
   ],
   "source": [
    "crs.execute(\"INSERT TestA (FirstName, LastName) VALUES (?,?)\",'Jerry', 'Mouse')"
   ]
  },
  {
   "cell_type": "code",
   "execution_count": 21,
   "id": "674f404d",
   "metadata": {},
   "outputs": [
    {
     "data": {
      "text/plain": [
       "<pyodbc.Cursor at 0x23eb00b7cb0>"
      ]
     },
     "execution_count": 21,
     "metadata": {},
     "output_type": "execute_result"
    }
   ],
   "source": [
    "crs.execute(\"INSERT TestA (FirstName, LastName) VALUES (?,?)\",'Owen', 'William')"
   ]
  },
  {
   "cell_type": "code",
   "execution_count": 22,
   "id": "a2244de1",
   "metadata": {},
   "outputs": [
    {
     "data": {
      "text/plain": [
       "<pyodbc.Cursor at 0x23eb00b7cb0>"
      ]
     },
     "execution_count": 22,
     "metadata": {},
     "output_type": "execute_result"
    }
   ],
   "source": [
    "crs.execute(\"INSERT TestA (FirstName, LastName) VALUES (?,?)\",'Stefan', 'Müller')"
   ]
  },
  {
   "cell_type": "markdown",
   "id": "fe4128d7",
   "metadata": {},
   "source": [
    "## Delete"
   ]
  },
  {
   "cell_type": "code",
   "execution_count": 23,
   "id": "5f205a3d",
   "metadata": {},
   "outputs": [
    {
     "data": {
      "text/plain": [
       "<pyodbc.Cursor at 0x23eb00b7cb0>"
      ]
     },
     "execution_count": 23,
     "metadata": {},
     "output_type": "execute_result"
    }
   ],
   "source": [
    "crs.execute(\"DELETE FROM TestA WHERE FirstName = 'Jerry'\")  # first name i Jerry olanı id si ile birlikte siler"
   ]
  },
  {
   "cell_type": "code",
   "execution_count": 24,
   "id": "81754a3e",
   "metadata": {},
   "outputs": [
    {
     "data": {
      "text/plain": [
       "<pyodbc.Cursor at 0x23eb00b7cb0>"
      ]
     },
     "execution_count": 24,
     "metadata": {},
     "output_type": "execute_result"
    }
   ],
   "source": [
    "crs.execute(\"DELETE FROM TestA WHERE FirstName = 'Bob'\") "
   ]
  },
  {
   "cell_type": "code",
   "execution_count": 25,
   "id": "59ee90d2",
   "metadata": {},
   "outputs": [
    {
     "data": {
      "text/plain": [
       "<pyodbc.Cursor at 0x23eb00b7cb0>"
      ]
     },
     "execution_count": 25,
     "metadata": {},
     "output_type": "execute_result"
    }
   ],
   "source": [
    "crs.execute(\"DELETE FROM TestA WHERE FirstName = ?\" ,'Stefan')"
   ]
  },
  {
   "cell_type": "markdown",
   "id": "9556a1c5",
   "metadata": {},
   "source": [
    "## Rowcount "
   ]
  },
  {
   "cell_type": "markdown",
   "id": "75f8c6d9",
   "metadata": {},
   "source": [
    "Son yapılan execute işlem sonucunda etkilenen işlem sayısını gösterir."
   ]
  },
  {
   "cell_type": "code",
   "execution_count": 26,
   "id": "9341c653",
   "metadata": {},
   "outputs": [
    {
     "data": {
      "text/plain": [
       "1"
      ]
     },
     "execution_count": 26,
     "metadata": {},
     "output_type": "execute_result"
    }
   ],
   "source": [
    "crs.rowcount"
   ]
  },
  {
   "cell_type": "code",
   "execution_count": 27,
   "id": "61c62680",
   "metadata": {},
   "outputs": [
    {
     "name": "stdout",
     "output_type": "stream",
     "text": [
      "1 row(s) deleted\n"
     ]
    }
   ],
   "source": [
    "print(crs.rowcount,\"row(s) deleted\")"
   ]
  },
  {
   "cell_type": "markdown",
   "id": "b6a53624",
   "metadata": {},
   "source": [
    "## Read Data"
   ]
  },
  {
   "cell_type": "markdown",
   "id": "9768ab06",
   "metadata": {},
   "source": [
    "## fetchone()"
   ]
  },
  {
   "cell_type": "markdown",
   "id": "505ec984",
   "metadata": {},
   "source": [
    "Sql deki verileri database e gitmeden verileri yakalayıp görüntülemeye yarar."
   ]
  },
  {
   "cell_type": "code",
   "execution_count": 28,
   "id": "d7338a27",
   "metadata": {},
   "outputs": [
    {
     "data": {
      "text/plain": [
       "('Bruce', 'Lee')"
      ]
     },
     "execution_count": 28,
     "metadata": {},
     "output_type": "execute_result"
    }
   ],
   "source": [
    "crs.execute('SELECT FirstName, LastName FROM TestA')\n",
    "row = crs.fetchone() # tablodaki ilk kaydı getirir\n",
    "row"
   ]
  },
  {
   "cell_type": "code",
   "execution_count": 45,
   "id": "a4e16675",
   "metadata": {},
   "outputs": [
    {
     "data": {
      "text/plain": [
       "('Tom', 'Hanks')"
      ]
     },
     "execution_count": 45,
     "metadata": {},
     "output_type": "execute_result"
    }
   ],
   "source": [
    "row = crs.fetchone() # artık ilk veriyi atlar ve ikinci kaydı getirdi\n",
    "row"
   ]
  },
  {
   "cell_type": "code",
   "execution_count": 32,
   "id": "b4d9cd5d",
   "metadata": {},
   "outputs": [
    {
     "data": {
      "text/plain": [
       "('Bruce', 'Lee')"
      ]
     },
     "execution_count": 32,
     "metadata": {},
     "output_type": "execute_result"
    }
   ],
   "source": [
    "crs.execute('SELECT FirstName, LastName FROM TestA')\n",
    "row = crs.fetchone() \n",
    "row"
   ]
  },
  {
   "cell_type": "markdown",
   "id": "13a08d96",
   "metadata": {},
   "source": [
    "eğer atlayıp ikinciden gitmesini değil en baştan başlamasını isterseniz en başına tekrardan şunu yazmak gerek.\n",
    "\n",
    "***crs.execute('SELECT FirstName, LastName FROM TestA')***"
   ]
  },
  {
   "cell_type": "code",
   "execution_count": 46,
   "id": "4048afef",
   "metadata": {},
   "outputs": [
    {
     "data": {
      "text/plain": [
       "'Tom'"
      ]
     },
     "execution_count": 46,
     "metadata": {},
     "output_type": "execute_result"
    }
   ],
   "source": [
    "row.FirstName  # cursorun mevcut olduğu satırdaki istenen column verisini getirdi"
   ]
  },
  {
   "cell_type": "code",
   "execution_count": 53,
   "id": "19441219",
   "metadata": {},
   "outputs": [
    {
     "data": {
      "text/plain": [
       "'Hanks'"
      ]
     },
     "execution_count": 53,
     "metadata": {},
     "output_type": "execute_result"
    }
   ],
   "source": [
    "row.LastName  # cursorun mevcut olduğu satırdaki istenen column verisini getirdi"
   ]
  },
  {
   "cell_type": "markdown",
   "id": "14c0a29f",
   "metadata": {},
   "source": [
    "## fetchall()"
   ]
  },
  {
   "cell_type": "code",
   "execution_count": 54,
   "id": "0327ffe4",
   "metadata": {},
   "outputs": [
    {
     "data": {
      "text/plain": [
       "[(2, 'Bruce', 'Lee'),\n",
       " (3, 'Tom', 'Hanks'),\n",
       " (4, 'Bart', 'Simpson'),\n",
       " (5, 'Tom', 'Cat'),\n",
       " (7, 'Owen', 'William')]"
      ]
     },
     "execution_count": 54,
     "metadata": {},
     "output_type": "execute_result"
    }
   ],
   "source": [
    "crs.execute('SELECT ID, FirstName, LastName FROM TestA')\n",
    "rows = crs.fetchall()\n",
    "rows"
   ]
  },
  {
   "cell_type": "code",
   "execution_count": 55,
   "id": "2a2b28fb",
   "metadata": {},
   "outputs": [
    {
     "name": "stdout",
     "output_type": "stream",
     "text": [
      "2 Bruce Lee\n",
      "3 Tom Hanks\n",
      "4 Bart Simpson\n",
      "5 Tom Cat\n",
      "7 Owen William\n"
     ]
    }
   ],
   "source": [
    "for row in rows:\n",
    "    print(row.ID, row.FirstName, row.LastName)"
   ]
  },
  {
   "cell_type": "markdown",
   "id": "1071a888",
   "metadata": {},
   "source": [
    "3 tırnak işareti ile önceden kullandığımız kodu tekrar çağırabiliriz) Aşağıdaki sorgu şunla aynıdır= ***SELECT * FROM TestA***"
   ]
  },
  {
   "cell_type": "code",
   "execution_count": 56,
   "id": "be9c53c0",
   "metadata": {},
   "outputs": [
    {
     "data": {
      "text/plain": [
       "[(2, 'Bruce', 'Lee'),\n",
       " (3, 'Tom', 'Hanks'),\n",
       " (4, 'Bart', 'Simpson'),\n",
       " (5, 'Tom', 'Cat'),\n",
       " (7, 'Owen', 'William')]"
      ]
     },
     "execution_count": 56,
     "metadata": {},
     "output_type": "execute_result"
    }
   ],
   "source": [
    "crs.execute(\"\"\"SELECT ID, FirstName, LastName\n",
    "                FROM TestA\"\"\")\n",
    "rows = crs.fetchall()\n",
    "rows"
   ]
  },
  {
   "cell_type": "code",
   "execution_count": 57,
   "id": "ec3f5bea",
   "metadata": {},
   "outputs": [
    {
     "data": {
      "text/plain": [
       "list"
      ]
     },
     "execution_count": 57,
     "metadata": {},
     "output_type": "execute_result"
    }
   ],
   "source": [
    "type(rows)  # datatype leara bakar"
   ]
  },
  {
   "cell_type": "code",
   "execution_count": 58,
   "id": "d71b49cd",
   "metadata": {},
   "outputs": [
    {
     "data": {
      "text/plain": [
       "[(7, 'Owen', 'William')]"
      ]
     },
     "execution_count": 58,
     "metadata": {},
     "output_type": "execute_result"
    }
   ],
   "source": [
    "# filtreleme yapabiliriz.\n",
    "\n",
    "crs.execute(\"\"\"SELECT ID, FirstName, LastName\n",
    "               FROM TestA\n",
    "               WHERE FirstName = ? and LastName = ?\"\"\", ['Owen', 'William'])\n",
    "rows = crs.fetchall()\n",
    "rows"
   ]
  },
  {
   "cell_type": "markdown",
   "id": "7a44dffe",
   "metadata": {},
   "source": [
    "## fetchmany()"
   ]
  },
  {
   "cell_type": "markdown",
   "id": "2e76619a",
   "metadata": {},
   "source": [
    "İstediğimiz kadar, döndürmeyi sağlar"
   ]
  },
  {
   "cell_type": "code",
   "execution_count": 62,
   "id": "429275f9",
   "metadata": {},
   "outputs": [
    {
     "data": {
      "text/plain": [
       "[(2, 'Bruce', 'Lee'),\n",
       " (3, 'Tom', 'Hanks'),\n",
       " (4, 'Bart', 'Simpson'),\n",
       " (5, 'Tom', 'Cat'),\n",
       " (7, 'Owen', 'William')]"
      ]
     },
     "execution_count": 62,
     "metadata": {},
     "output_type": "execute_result"
    }
   ],
   "source": [
    "crs.execute(\"\"\"SELECT ID, FirstName, LastName\n",
    "               FROM TestA\"\"\")\n",
    "rows = crs.fetchmany(5)\n",
    "rows"
   ]
  },
  {
   "cell_type": "markdown",
   "id": "b7c3cce7",
   "metadata": {},
   "source": [
    "## Fetchval()"
   ]
  },
  {
   "cell_type": "markdown",
   "id": "ed168ecc",
   "metadata": {},
   "source": [
    "değeri yani value yi yakalar"
   ]
  },
  {
   "cell_type": "code",
   "execution_count": 63,
   "id": "80028f92",
   "metadata": {},
   "outputs": [
    {
     "data": {
      "text/plain": [
       "7"
      ]
     },
     "execution_count": 63,
     "metadata": {},
     "output_type": "execute_result"
    }
   ],
   "source": [
    "crs.execute(\"SELECT MAX(ID) FROM TestA\").fetchval()"
   ]
  },
  {
   "cell_type": "code",
   "execution_count": 65,
   "id": "53cfd94d",
   "metadata": {},
   "outputs": [
    {
     "data": {
      "text/plain": [
       "'Lee'"
      ]
     },
     "execution_count": 65,
     "metadata": {},
     "output_type": "execute_result"
    }
   ],
   "source": [
    "crs.execute(\"SELECT LastName FROM TestA\").fetchval()"
   ]
  },
  {
   "cell_type": "markdown",
   "id": "9bfc4a5a",
   "metadata": {},
   "source": [
    "## Pandas Methods"
   ]
  },
  {
   "cell_type": "code",
   "execution_count": 66,
   "id": "872b184c",
   "metadata": {},
   "outputs": [],
   "source": [
    "import pandas as pd"
   ]
  },
  {
   "cell_type": "markdown",
   "id": "b54a67c4",
   "metadata": {},
   "source": [
    "Burada pandas'ın read Sql metodunu göreceğiz."
   ]
  },
  {
   "cell_type": "code",
   "execution_count": 85,
   "id": "1447117a",
   "metadata": {},
   "outputs": [],
   "source": [
    "def read_query (conn, query): #connection nesnesi yukarıda tanımlanmıştı.\n",
    "    crs = conn. cursor()\n",
    "    results = None\n",
    "    crs.execute(query)\n",
    "    results = crs.fetchall()\n",
    "    return results"
   ]
  },
  {
   "cell_type": "code",
   "execution_count": 86,
   "id": "65ee69ed",
   "metadata": {},
   "outputs": [],
   "source": [
    "query = \"\"\"SELECT ID, FirstName, LastName\n",
    "               FROM TestA\"\"\""
   ]
  },
  {
   "cell_type": "code",
   "execution_count": 70,
   "id": "e396bf4a",
   "metadata": {},
   "outputs": [],
   "source": [
    "# crs = conn.cursor()"
   ]
  },
  {
   "cell_type": "code",
   "execution_count": 87,
   "id": "b93ad038",
   "metadata": {},
   "outputs": [],
   "source": [
    "result = read_query (conn, query)"
   ]
  },
  {
   "cell_type": "code",
   "execution_count": 88,
   "id": "7fb609b8",
   "metadata": {},
   "outputs": [],
   "source": [
    "from_db = []\n",
    "for result in result:\n",
    "    result = list(result)\n",
    "    from_db.append(result)"
   ]
  },
  {
   "cell_type": "code",
   "execution_count": 89,
   "id": "f25c44ed",
   "metadata": {},
   "outputs": [
    {
     "data": {
      "text/html": [
       "<div>\n",
       "<style scoped>\n",
       "    .dataframe tbody tr th:only-of-type {\n",
       "        vertical-align: middle;\n",
       "    }\n",
       "\n",
       "    .dataframe tbody tr th {\n",
       "        vertical-align: top;\n",
       "    }\n",
       "\n",
       "    .dataframe thead th {\n",
       "        text-align: right;\n",
       "    }\n",
       "</style>\n",
       "<table border=\"1\" class=\"dataframe\">\n",
       "  <thead>\n",
       "    <tr style=\"text-align: right;\">\n",
       "      <th></th>\n",
       "      <th>ID</th>\n",
       "      <th>FirstName</th>\n",
       "      <th>LastName</th>\n",
       "    </tr>\n",
       "  </thead>\n",
       "  <tbody>\n",
       "    <tr>\n",
       "      <th>0</th>\n",
       "      <td>2</td>\n",
       "      <td>Bruce</td>\n",
       "      <td>Lee</td>\n",
       "    </tr>\n",
       "    <tr>\n",
       "      <th>1</th>\n",
       "      <td>3</td>\n",
       "      <td>Tom</td>\n",
       "      <td>Hanks</td>\n",
       "    </tr>\n",
       "    <tr>\n",
       "      <th>2</th>\n",
       "      <td>4</td>\n",
       "      <td>Bart</td>\n",
       "      <td>Simpson</td>\n",
       "    </tr>\n",
       "    <tr>\n",
       "      <th>3</th>\n",
       "      <td>5</td>\n",
       "      <td>Tom</td>\n",
       "      <td>Cat</td>\n",
       "    </tr>\n",
       "    <tr>\n",
       "      <th>4</th>\n",
       "      <td>7</td>\n",
       "      <td>Owen</td>\n",
       "      <td>William</td>\n",
       "    </tr>\n",
       "  </tbody>\n",
       "</table>\n",
       "</div>"
      ],
      "text/plain": [
       "   ID FirstName LastName\n",
       "0   2     Bruce      Lee\n",
       "1   3       Tom    Hanks\n",
       "2   4      Bart  Simpson\n",
       "3   5       Tom      Cat\n",
       "4   7      Owen  William"
      ]
     },
     "execution_count": 89,
     "metadata": {},
     "output_type": "execute_result"
    }
   ],
   "source": [
    "columns = ['ID','FirstName', 'LastName']\n",
    "df = pd.DataFrame(from_db, columns = columns)\n",
    "df"
   ]
  },
  {
   "cell_type": "code",
   "execution_count": 90,
   "id": "2633a631",
   "metadata": {},
   "outputs": [
    {
     "name": "stdout",
     "output_type": "stream",
     "text": [
      "Query Succeessful!\n"
     ]
    }
   ],
   "source": [
    "query = 'USE BikeStores'\n",
    "execute_query(conn,query)"
   ]
  },
  {
   "cell_type": "code",
   "execution_count": 91,
   "id": "2068cb40",
   "metadata": {},
   "outputs": [
    {
     "data": {
      "text/plain": [
       "[(1, 'Electra'),\n",
       " (2, 'Haro'),\n",
       " (3, 'Heller'),\n",
       " (4, 'Pure Cycles'),\n",
       " (5, 'Ritchey'),\n",
       " (6, 'Strider'),\n",
       " (7, 'Sun Bicycles'),\n",
       " (8, 'Surly'),\n",
       " (9, 'Trek')]"
      ]
     },
     "execution_count": 91,
     "metadata": {},
     "output_type": "execute_result"
    }
   ],
   "source": [
    "crs.execute(\"SELECT * FROM production.brands\").fetchall()"
   ]
  },
  {
   "cell_type": "code",
   "execution_count": 92,
   "id": "17dad06c",
   "metadata": {},
   "outputs": [
    {
     "data": {
      "text/html": [
       "<div>\n",
       "<style scoped>\n",
       "    .dataframe tbody tr th:only-of-type {\n",
       "        vertical-align: middle;\n",
       "    }\n",
       "\n",
       "    .dataframe tbody tr th {\n",
       "        vertical-align: top;\n",
       "    }\n",
       "\n",
       "    .dataframe thead th {\n",
       "        text-align: right;\n",
       "    }\n",
       "</style>\n",
       "<table border=\"1\" class=\"dataframe\">\n",
       "  <thead>\n",
       "    <tr style=\"text-align: right;\">\n",
       "      <th></th>\n",
       "      <th>brand_id</th>\n",
       "      <th>brand_name</th>\n",
       "    </tr>\n",
       "  </thead>\n",
       "  <tbody>\n",
       "    <tr>\n",
       "      <th>0</th>\n",
       "      <td>1</td>\n",
       "      <td>Electra</td>\n",
       "    </tr>\n",
       "    <tr>\n",
       "      <th>1</th>\n",
       "      <td>2</td>\n",
       "      <td>Haro</td>\n",
       "    </tr>\n",
       "    <tr>\n",
       "      <th>2</th>\n",
       "      <td>3</td>\n",
       "      <td>Heller</td>\n",
       "    </tr>\n",
       "    <tr>\n",
       "      <th>3</th>\n",
       "      <td>4</td>\n",
       "      <td>Pure Cycles</td>\n",
       "    </tr>\n",
       "    <tr>\n",
       "      <th>4</th>\n",
       "      <td>5</td>\n",
       "      <td>Ritchey</td>\n",
       "    </tr>\n",
       "    <tr>\n",
       "      <th>5</th>\n",
       "      <td>6</td>\n",
       "      <td>Strider</td>\n",
       "    </tr>\n",
       "    <tr>\n",
       "      <th>6</th>\n",
       "      <td>7</td>\n",
       "      <td>Sun Bicycles</td>\n",
       "    </tr>\n",
       "    <tr>\n",
       "      <th>7</th>\n",
       "      <td>8</td>\n",
       "      <td>Surly</td>\n",
       "    </tr>\n",
       "    <tr>\n",
       "      <th>8</th>\n",
       "      <td>9</td>\n",
       "      <td>Trek</td>\n",
       "    </tr>\n",
       "  </tbody>\n",
       "</table>\n",
       "</div>"
      ],
      "text/plain": [
       "   brand_id    brand_name\n",
       "0         1       Electra\n",
       "1         2          Haro\n",
       "2         3        Heller\n",
       "3         4   Pure Cycles\n",
       "4         5       Ritchey\n",
       "5         6       Strider\n",
       "6         7  Sun Bicycles\n",
       "7         8         Surly\n",
       "8         9          Trek"
      ]
     },
     "execution_count": 92,
     "metadata": {},
     "output_type": "execute_result"
    }
   ],
   "source": [
    "pd.read_sql(\"SELECT * FROM production.brands\", con = conn)"
   ]
  },
  {
   "cell_type": "code",
   "execution_count": 93,
   "id": "5f1b238d",
   "metadata": {},
   "outputs": [
    {
     "data": {
      "text/html": [
       "<div>\n",
       "<style scoped>\n",
       "    .dataframe tbody tr th:only-of-type {\n",
       "        vertical-align: middle;\n",
       "    }\n",
       "\n",
       "    .dataframe tbody tr th {\n",
       "        vertical-align: top;\n",
       "    }\n",
       "\n",
       "    .dataframe thead th {\n",
       "        text-align: right;\n",
       "    }\n",
       "</style>\n",
       "<table border=\"1\" class=\"dataframe\">\n",
       "  <thead>\n",
       "    <tr style=\"text-align: right;\">\n",
       "      <th></th>\n",
       "      <th>product_id</th>\n",
       "      <th>product_name</th>\n",
       "      <th>brand_id</th>\n",
       "      <th>category_id</th>\n",
       "      <th>model_year</th>\n",
       "      <th>list_price</th>\n",
       "    </tr>\n",
       "  </thead>\n",
       "  <tbody>\n",
       "    <tr>\n",
       "      <th>0</th>\n",
       "      <td>1</td>\n",
       "      <td>Trek 820 - 2016</td>\n",
       "      <td>9</td>\n",
       "      <td>6</td>\n",
       "      <td>2016</td>\n",
       "      <td>379.99</td>\n",
       "    </tr>\n",
       "    <tr>\n",
       "      <th>1</th>\n",
       "      <td>2</td>\n",
       "      <td>Ritchey Timberwolf Frameset - 2016</td>\n",
       "      <td>5</td>\n",
       "      <td>6</td>\n",
       "      <td>2016</td>\n",
       "      <td>749.99</td>\n",
       "    </tr>\n",
       "    <tr>\n",
       "      <th>2</th>\n",
       "      <td>3</td>\n",
       "      <td>Surly Wednesday Frameset - 2016</td>\n",
       "      <td>8</td>\n",
       "      <td>6</td>\n",
       "      <td>2016</td>\n",
       "      <td>999.99</td>\n",
       "    </tr>\n",
       "    <tr>\n",
       "      <th>3</th>\n",
       "      <td>4</td>\n",
       "      <td>Trek Fuel EX 8 29 - 2016</td>\n",
       "      <td>9</td>\n",
       "      <td>6</td>\n",
       "      <td>2016</td>\n",
       "      <td>2899.99</td>\n",
       "    </tr>\n",
       "    <tr>\n",
       "      <th>4</th>\n",
       "      <td>5</td>\n",
       "      <td>Heller Shagamaw Frame - 2016</td>\n",
       "      <td>3</td>\n",
       "      <td>6</td>\n",
       "      <td>2016</td>\n",
       "      <td>1320.99</td>\n",
       "    </tr>\n",
       "    <tr>\n",
       "      <th>5</th>\n",
       "      <td>6</td>\n",
       "      <td>Surly Ice Cream Truck Frameset - 2016</td>\n",
       "      <td>8</td>\n",
       "      <td>6</td>\n",
       "      <td>2016</td>\n",
       "      <td>469.99</td>\n",
       "    </tr>\n",
       "    <tr>\n",
       "      <th>6</th>\n",
       "      <td>7</td>\n",
       "      <td>Trek Slash 8 27.5 - 2016</td>\n",
       "      <td>9</td>\n",
       "      <td>6</td>\n",
       "      <td>2016</td>\n",
       "      <td>3999.99</td>\n",
       "    </tr>\n",
       "    <tr>\n",
       "      <th>7</th>\n",
       "      <td>8</td>\n",
       "      <td>Trek Remedy 29 Carbon Frameset - 2016</td>\n",
       "      <td>9</td>\n",
       "      <td>6</td>\n",
       "      <td>2016</td>\n",
       "      <td>1799.99</td>\n",
       "    </tr>\n",
       "    <tr>\n",
       "      <th>8</th>\n",
       "      <td>9</td>\n",
       "      <td>Trek Conduit+ - 2016</td>\n",
       "      <td>9</td>\n",
       "      <td>5</td>\n",
       "      <td>2016</td>\n",
       "      <td>2999.99</td>\n",
       "    </tr>\n",
       "    <tr>\n",
       "      <th>9</th>\n",
       "      <td>10</td>\n",
       "      <td>Surly Straggler - 2016</td>\n",
       "      <td>8</td>\n",
       "      <td>4</td>\n",
       "      <td>2016</td>\n",
       "      <td>1549.00</td>\n",
       "    </tr>\n",
       "  </tbody>\n",
       "</table>\n",
       "</div>"
      ],
      "text/plain": [
       "   product_id                           product_name  brand_id  category_id  \\\n",
       "0           1                        Trek 820 - 2016         9            6   \n",
       "1           2     Ritchey Timberwolf Frameset - 2016         5            6   \n",
       "2           3        Surly Wednesday Frameset - 2016         8            6   \n",
       "3           4               Trek Fuel EX 8 29 - 2016         9            6   \n",
       "4           5           Heller Shagamaw Frame - 2016         3            6   \n",
       "5           6  Surly Ice Cream Truck Frameset - 2016         8            6   \n",
       "6           7               Trek Slash 8 27.5 - 2016         9            6   \n",
       "7           8  Trek Remedy 29 Carbon Frameset - 2016         9            6   \n",
       "8           9                   Trek Conduit+ - 2016         9            5   \n",
       "9          10                 Surly Straggler - 2016         8            4   \n",
       "\n",
       "   model_year  list_price  \n",
       "0        2016      379.99  \n",
       "1        2016      749.99  \n",
       "2        2016      999.99  \n",
       "3        2016     2899.99  \n",
       "4        2016     1320.99  \n",
       "5        2016      469.99  \n",
       "6        2016     3999.99  \n",
       "7        2016     1799.99  \n",
       "8        2016     2999.99  \n",
       "9        2016     1549.00  "
      ]
     },
     "execution_count": 93,
     "metadata": {},
     "output_type": "execute_result"
    }
   ],
   "source": [
    "df_prod = pd.read_sql(\"SELECT * FROM production.products\", con = conn)\n",
    "df_prod.head(10)"
   ]
  },
  {
   "cell_type": "markdown",
   "id": "9d63678d",
   "metadata": {},
   "source": [
    "## DF to Database"
   ]
  },
  {
   "cell_type": "code",
   "execution_count": 94,
   "id": "718399cf",
   "metadata": {},
   "outputs": [],
   "source": [
    "import sqlalchemy\n",
    "import urllib"
   ]
  },
  {
   "cell_type": "code",
   "execution_count": 171,
   "id": "591b071a",
   "metadata": {},
   "outputs": [],
   "source": [
    "create_database_query = 'Create database Emirhan'"
   ]
  },
  {
   "cell_type": "code",
   "execution_count": 172,
   "id": "de3b59a1",
   "metadata": {},
   "outputs": [],
   "source": [
    "def create_database (conn, create_database_query):\n",
    "    crs = conn.cursor()\n",
    "    try:\n",
    "        crs.execute(create_database_query)\n",
    "        print(\"Database is created succesfully\")\n",
    "    except Error as err:\n",
    "        print(f\"Error:'{err}'\")"
   ]
  },
  {
   "cell_type": "code",
   "execution_count": 173,
   "id": "55538a9b",
   "metadata": {},
   "outputs": [
    {
     "name": "stdout",
     "output_type": "stream",
     "text": [
      "Database is created succesfully\n"
     ]
    }
   ],
   "source": [
    "create_database(conn, create_database_query)"
   ]
  },
  {
   "cell_type": "code",
   "execution_count": 174,
   "id": "82cd3c60",
   "metadata": {},
   "outputs": [],
   "source": [
    "def execute_query(conn, query):\n",
    "    crs = conn.cursor()\n",
    "    try:\n",
    "        crs.execute(query)\n",
    "        conn.commit()\n",
    "        print(\"Query Succeessful!\")\n",
    "    except Error as err:\n",
    "        print(f\"Error:'{err}'\")"
   ]
  },
  {
   "cell_type": "code",
   "execution_count": 175,
   "id": "ef8a4810",
   "metadata": {},
   "outputs": [
    {
     "data": {
      "text/plain": [
       "<pyodbc.Cursor at 0x23eb2e029b0>"
      ]
     },
     "execution_count": 175,
     "metadata": {},
     "output_type": "execute_result"
    }
   ],
   "source": [
    "crs.execute('USE Emirhan')"
   ]
  },
  {
   "cell_type": "code",
   "execution_count": 176,
   "id": "4e5e941d",
   "metadata": {},
   "outputs": [],
   "source": [
    "driver = '{ODBC Driver 17 for SQL Server}'\n",
    "server = 'localhost' #şu anda server her birimizin kendi makinesi\n",
    "database = 'Emirhan'#yeni bir db oluşturacağız\n",
    "user = 'sa'\n",
    "password = 'Emrhn1031.' "
   ]
  },
  {
   "cell_type": "code",
   "execution_count": 177,
   "id": "b4d20671",
   "metadata": {},
   "outputs": [],
   "source": [
    "params = 'DRIVER='+driver + ';SERVER=' + server +';PORT=1433;DATABASE='+ database + ';UID=' + user + ';PWD=' + password"
   ]
  },
  {
   "cell_type": "code",
   "execution_count": 178,
   "id": "fada6450",
   "metadata": {},
   "outputs": [],
   "source": [
    "db_params = urllib.parse.quote_plus (params)\n",
    "engine = sqlalchemy.create_engine(\"mssql+pyodbc:///?odbc_connect={}\".format(db_params))"
   ]
  },
  {
   "cell_type": "code",
   "execution_count": null,
   "id": "d1daa8be",
   "metadata": {},
   "outputs": [],
   "source": []
  },
  {
   "cell_type": "code",
   "execution_count": 179,
   "id": "67264ff2",
   "metadata": {},
   "outputs": [
    {
     "ename": "DatabaseError",
     "evalue": "Execution failed on sql 'SELECT * FROM production.products where product_id <10': ('42S02', \"[42S02] [Microsoft][ODBC Driver 17 for SQL Server][SQL Server]Invalid object name 'production.products'. (208) (SQLExecDirectW)\")",
     "output_type": "error",
     "traceback": [
      "\u001b[1;31m---------------------------------------------------------------------------\u001b[0m",
      "\u001b[1;31mProgrammingError\u001b[0m                          Traceback (most recent call last)",
      "\u001b[1;32m~\\anaconda3\\lib\\site-packages\\pandas\\io\\sql.py\u001b[0m in \u001b[0;36mexecute\u001b[1;34m(self, *args, **kwargs)\u001b[0m\n\u001b[0;32m   1724\u001b[0m         \u001b[1;32mtry\u001b[0m\u001b[1;33m:\u001b[0m\u001b[1;33m\u001b[0m\u001b[1;33m\u001b[0m\u001b[0m\n\u001b[1;32m-> 1725\u001b[1;33m             \u001b[0mcur\u001b[0m\u001b[1;33m.\u001b[0m\u001b[0mexecute\u001b[0m\u001b[1;33m(\u001b[0m\u001b[1;33m*\u001b[0m\u001b[0margs\u001b[0m\u001b[1;33m,\u001b[0m \u001b[1;33m**\u001b[0m\u001b[0mkwargs\u001b[0m\u001b[1;33m)\u001b[0m\u001b[1;33m\u001b[0m\u001b[1;33m\u001b[0m\u001b[0m\n\u001b[0m\u001b[0;32m   1726\u001b[0m             \u001b[1;32mreturn\u001b[0m \u001b[0mcur\u001b[0m\u001b[1;33m\u001b[0m\u001b[1;33m\u001b[0m\u001b[0m\n",
      "\u001b[1;31mProgrammingError\u001b[0m: ('42S02', \"[42S02] [Microsoft][ODBC Driver 17 for SQL Server][SQL Server]Invalid object name 'production.products'. (208) (SQLExecDirectW)\")",
      "\nThe above exception was the direct cause of the following exception:\n",
      "\u001b[1;31mDatabaseError\u001b[0m                             Traceback (most recent call last)",
      "\u001b[1;32m<ipython-input-179-d78f1f7fd63c>\u001b[0m in \u001b[0;36m<module>\u001b[1;34m\u001b[0m\n\u001b[1;32m----> 1\u001b[1;33m \u001b[0mdf_prod\u001b[0m \u001b[1;33m=\u001b[0m \u001b[0mpd\u001b[0m\u001b[1;33m.\u001b[0m\u001b[0mread_sql\u001b[0m\u001b[1;33m(\u001b[0m\u001b[1;34m\"SELECT * FROM production.products where product_id <10\"\u001b[0m\u001b[1;33m,\u001b[0m \u001b[0mcon\u001b[0m \u001b[1;33m=\u001b[0m \u001b[0mconn\u001b[0m\u001b[1;33m)\u001b[0m\u001b[1;33m\u001b[0m\u001b[1;33m\u001b[0m\u001b[0m\n\u001b[0m\u001b[0;32m      2\u001b[0m \u001b[0mdf_prod\u001b[0m\u001b[1;33m.\u001b[0m\u001b[0mhead\u001b[0m\u001b[1;33m(\u001b[0m\u001b[1;36m10\u001b[0m\u001b[1;33m)\u001b[0m\u001b[1;33m\u001b[0m\u001b[1;33m\u001b[0m\u001b[0m\n",
      "\u001b[1;32m~\\anaconda3\\lib\\site-packages\\pandas\\io\\sql.py\u001b[0m in \u001b[0;36mread_sql\u001b[1;34m(sql, con, index_col, coerce_float, params, parse_dates, columns, chunksize)\u001b[0m\n\u001b[0;32m    493\u001b[0m \u001b[1;33m\u001b[0m\u001b[0m\n\u001b[0;32m    494\u001b[0m     \u001b[1;32mif\u001b[0m \u001b[0misinstance\u001b[0m\u001b[1;33m(\u001b[0m\u001b[0mpandas_sql\u001b[0m\u001b[1;33m,\u001b[0m \u001b[0mSQLiteDatabase\u001b[0m\u001b[1;33m)\u001b[0m\u001b[1;33m:\u001b[0m\u001b[1;33m\u001b[0m\u001b[1;33m\u001b[0m\u001b[0m\n\u001b[1;32m--> 495\u001b[1;33m         return pandas_sql.read_query(\n\u001b[0m\u001b[0;32m    496\u001b[0m             \u001b[0msql\u001b[0m\u001b[1;33m,\u001b[0m\u001b[1;33m\u001b[0m\u001b[1;33m\u001b[0m\u001b[0m\n\u001b[0;32m    497\u001b[0m             \u001b[0mindex_col\u001b[0m\u001b[1;33m=\u001b[0m\u001b[0mindex_col\u001b[0m\u001b[1;33m,\u001b[0m\u001b[1;33m\u001b[0m\u001b[1;33m\u001b[0m\u001b[0m\n",
      "\u001b[1;32m~\\anaconda3\\lib\\site-packages\\pandas\\io\\sql.py\u001b[0m in \u001b[0;36mread_query\u001b[1;34m(self, sql, index_col, coerce_float, params, parse_dates, chunksize)\u001b[0m\n\u001b[0;32m   1769\u001b[0m \u001b[1;33m\u001b[0m\u001b[0m\n\u001b[0;32m   1770\u001b[0m         \u001b[0margs\u001b[0m \u001b[1;33m=\u001b[0m \u001b[0m_convert_params\u001b[0m\u001b[1;33m(\u001b[0m\u001b[0msql\u001b[0m\u001b[1;33m,\u001b[0m \u001b[0mparams\u001b[0m\u001b[1;33m)\u001b[0m\u001b[1;33m\u001b[0m\u001b[1;33m\u001b[0m\u001b[0m\n\u001b[1;32m-> 1771\u001b[1;33m         \u001b[0mcursor\u001b[0m \u001b[1;33m=\u001b[0m \u001b[0mself\u001b[0m\u001b[1;33m.\u001b[0m\u001b[0mexecute\u001b[0m\u001b[1;33m(\u001b[0m\u001b[1;33m*\u001b[0m\u001b[0margs\u001b[0m\u001b[1;33m)\u001b[0m\u001b[1;33m\u001b[0m\u001b[1;33m\u001b[0m\u001b[0m\n\u001b[0m\u001b[0;32m   1772\u001b[0m         \u001b[0mcolumns\u001b[0m \u001b[1;33m=\u001b[0m \u001b[1;33m[\u001b[0m\u001b[0mcol_desc\u001b[0m\u001b[1;33m[\u001b[0m\u001b[1;36m0\u001b[0m\u001b[1;33m]\u001b[0m \u001b[1;32mfor\u001b[0m \u001b[0mcol_desc\u001b[0m \u001b[1;32min\u001b[0m \u001b[0mcursor\u001b[0m\u001b[1;33m.\u001b[0m\u001b[0mdescription\u001b[0m\u001b[1;33m]\u001b[0m\u001b[1;33m\u001b[0m\u001b[1;33m\u001b[0m\u001b[0m\n\u001b[0;32m   1773\u001b[0m \u001b[1;33m\u001b[0m\u001b[0m\n",
      "\u001b[1;32m~\\anaconda3\\lib\\site-packages\\pandas\\io\\sql.py\u001b[0m in \u001b[0;36mexecute\u001b[1;34m(self, *args, **kwargs)\u001b[0m\n\u001b[0;32m   1735\u001b[0m \u001b[1;33m\u001b[0m\u001b[0m\n\u001b[0;32m   1736\u001b[0m             \u001b[0mex\u001b[0m \u001b[1;33m=\u001b[0m \u001b[0mDatabaseError\u001b[0m\u001b[1;33m(\u001b[0m\u001b[1;34mf\"Execution failed on sql '{args[0]}': {exc}\"\u001b[0m\u001b[1;33m)\u001b[0m\u001b[1;33m\u001b[0m\u001b[1;33m\u001b[0m\u001b[0m\n\u001b[1;32m-> 1737\u001b[1;33m             \u001b[1;32mraise\u001b[0m \u001b[0mex\u001b[0m \u001b[1;32mfrom\u001b[0m \u001b[0mexc\u001b[0m\u001b[1;33m\u001b[0m\u001b[1;33m\u001b[0m\u001b[0m\n\u001b[0m\u001b[0;32m   1738\u001b[0m \u001b[1;33m\u001b[0m\u001b[0m\n\u001b[0;32m   1739\u001b[0m     \u001b[1;33m@\u001b[0m\u001b[0mstaticmethod\u001b[0m\u001b[1;33m\u001b[0m\u001b[1;33m\u001b[0m\u001b[0m\n",
      "\u001b[1;31mDatabaseError\u001b[0m: Execution failed on sql 'SELECT * FROM production.products where product_id <10': ('42S02', \"[42S02] [Microsoft][ODBC Driver 17 for SQL Server][SQL Server]Invalid object name 'production.products'. (208) (SQLExecDirectW)\")"
     ]
    }
   ],
   "source": [
    "df_prod = pd.read_sql(\"SELECT * FROM production.products where product_id <10\", con = conn)\n",
    "df_prod.head(10)"
   ]
  },
  {
   "cell_type": "code",
   "execution_count": 180,
   "id": "6eb1f315",
   "metadata": {},
   "outputs": [],
   "source": [
    "df_prod.to_sql(\"products_bikes\", engine, index = False, if_exists = \"append\", schema = \"dbo\")"
   ]
  },
  {
   "cell_type": "code",
   "execution_count": null,
   "id": "a2c465ab",
   "metadata": {},
   "outputs": [],
   "source": []
  },
  {
   "cell_type": "code",
   "execution_count": null,
   "id": "763d7fb0",
   "metadata": {},
   "outputs": [],
   "source": []
  },
  {
   "cell_type": "code",
   "execution_count": null,
   "id": "34dea7b0",
   "metadata": {},
   "outputs": [],
   "source": []
  },
  {
   "cell_type": "code",
   "execution_count": null,
   "id": "4796dca8",
   "metadata": {},
   "outputs": [],
   "source": []
  },
  {
   "cell_type": "code",
   "execution_count": null,
   "id": "832b8a87",
   "metadata": {},
   "outputs": [],
   "source": []
  },
  {
   "cell_type": "code",
   "execution_count": null,
   "id": "35ba2cef",
   "metadata": {},
   "outputs": [],
   "source": []
  },
  {
   "cell_type": "code",
   "execution_count": null,
   "id": "b8acddc9",
   "metadata": {},
   "outputs": [],
   "source": []
  },
  {
   "cell_type": "code",
   "execution_count": null,
   "id": "8cfb070e",
   "metadata": {},
   "outputs": [],
   "source": []
  },
  {
   "cell_type": "code",
   "execution_count": null,
   "id": "46dd6e05",
   "metadata": {},
   "outputs": [],
   "source": []
  }
 ],
 "metadata": {
  "kernelspec": {
   "display_name": "Python 3",
   "language": "python",
   "name": "python3"
  },
  "language_info": {
   "codemirror_mode": {
    "name": "ipython",
    "version": 3
   },
   "file_extension": ".py",
   "mimetype": "text/x-python",
   "name": "python",
   "nbconvert_exporter": "python",
   "pygments_lexer": "ipython3",
   "version": "3.8.8"
  }
 },
 "nbformat": 4,
 "nbformat_minor": 5
}
