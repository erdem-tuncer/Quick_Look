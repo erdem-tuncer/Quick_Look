{
 "cells": [
  {
   "cell_type": "markdown",
   "metadata": {
    "id": "xSwVOspA2Zin"
   },
   "source": [
    "# WITH PANDAS AND MATPLOTLIB"
   ]
  },
  {
   "cell_type": "code",
   "execution_count": 1,
   "metadata": {
    "_cell_guid": "5fdcd462-5466-40f5-9992-dc31a9a174f2",
    "_uuid": "dab5021d92c7210270cec270470e4ae179a1de01",
    "id": "22qiZVq32Zir"
   },
   "outputs": [],
   "source": [
    "import numpy as np \n",
    "import pandas as pd\n",
    "import seaborn as sns\n",
    "import matplotlib.pyplot as plt\n",
    "from collections import Counter\n",
    "import warnings\n",
    "warnings.filterwarnings('ignore') "
   ]
  },
  {
   "cell_type": "markdown",
   "metadata": {
    "id": "Rsu0y4Ha2Zit"
   },
   "source": [
    "INSTRUCTIONS\n",
    "\n",
    "1. Number of people by gender\n",
    "1. Kill weapon\n",
    "1. Age of killed people\n",
    "1. Race of killed people\n",
    "1. Killed People According to Races (Pie Chart)\n",
    "1. Most common 15 Name or Surname of killed people\n",
    "\n",
    "<br>"
   ]
  },
  {
   "cell_type": "markdown",
   "metadata": {
    "id": "OTDjgwf53tr5"
   },
   "source": [
    "read data\n",
    "\n",
    "if didn't work you can use this parameters: encoding=\"windows-1252\""
   ]
  },
  {
   "cell_type": "code",
   "execution_count": 2,
   "metadata": {
    "_cell_guid": "abb0685f-f844-43f8-84c0-4cd54361c7bf",
    "_uuid": "9c06ed7c41db79ae9d940f2d52aeff23621b3037",
    "id": "NYz5lAPp2Ziu"
   },
   "outputs": [],
   "source": [
    "df = pd.read_csv(\"PoliceKillingsUS.csv\")"
   ]
  },
  {
   "cell_type": "markdown",
   "metadata": {
    "id": "wMFloMjW2Zi8"
   },
   "source": [
    "## 1: Plot number of people by gender"
   ]
  },
  {
   "cell_type": "code",
   "execution_count": 3,
   "metadata": {
    "colab": {
     "base_uri": "https://localhost:8080/",
     "height": 307
    },
    "executionInfo": {
     "elapsed": 12,
     "status": "ok",
     "timestamp": 1622926983505,
     "user": {
      "displayName": "Thomas Rico",
      "photoUrl": "",
      "userId": "03459133432310094050"
     },
     "user_tz": -180
    },
    "id": "g73Ix7402Zi9",
    "outputId": "3cc46e86-dfdd-46ef-b738-e1f0f1dd6d82"
   },
   "outputs": [
    {
     "data": {
      "text/html": [
       "<div>\n",
       "<style scoped>\n",
       "    .dataframe tbody tr th:only-of-type {\n",
       "        vertical-align: middle;\n",
       "    }\n",
       "\n",
       "    .dataframe tbody tr th {\n",
       "        vertical-align: top;\n",
       "    }\n",
       "\n",
       "    .dataframe thead th {\n",
       "        text-align: right;\n",
       "    }\n",
       "</style>\n",
       "<table border=\"1\" class=\"dataframe\">\n",
       "  <thead>\n",
       "    <tr style=\"text-align: right;\">\n",
       "      <th></th>\n",
       "      <th>id</th>\n",
       "      <th>name</th>\n",
       "      <th>date</th>\n",
       "      <th>manner_of_death</th>\n",
       "      <th>armed</th>\n",
       "      <th>age</th>\n",
       "      <th>gender</th>\n",
       "      <th>race</th>\n",
       "      <th>city</th>\n",
       "      <th>state</th>\n",
       "      <th>signs_of_mental_illness</th>\n",
       "      <th>threat_level</th>\n",
       "      <th>flee</th>\n",
       "      <th>body_camera</th>\n",
       "    </tr>\n",
       "  </thead>\n",
       "  <tbody>\n",
       "    <tr>\n",
       "      <th>0</th>\n",
       "      <td>3</td>\n",
       "      <td>Tim Elliot</td>\n",
       "      <td>02/01/15</td>\n",
       "      <td>shot</td>\n",
       "      <td>gun</td>\n",
       "      <td>53.0</td>\n",
       "      <td>M</td>\n",
       "      <td>A</td>\n",
       "      <td>Shelton</td>\n",
       "      <td>WA</td>\n",
       "      <td>True</td>\n",
       "      <td>attack</td>\n",
       "      <td>Not fleeing</td>\n",
       "      <td>False</td>\n",
       "    </tr>\n",
       "    <tr>\n",
       "      <th>1</th>\n",
       "      <td>4</td>\n",
       "      <td>Lewis Lee Lembke</td>\n",
       "      <td>02/01/15</td>\n",
       "      <td>shot</td>\n",
       "      <td>gun</td>\n",
       "      <td>47.0</td>\n",
       "      <td>M</td>\n",
       "      <td>W</td>\n",
       "      <td>Aloha</td>\n",
       "      <td>OR</td>\n",
       "      <td>False</td>\n",
       "      <td>attack</td>\n",
       "      <td>Not fleeing</td>\n",
       "      <td>False</td>\n",
       "    </tr>\n",
       "    <tr>\n",
       "      <th>2</th>\n",
       "      <td>5</td>\n",
       "      <td>John Paul Quintero</td>\n",
       "      <td>03/01/15</td>\n",
       "      <td>shot and Tasered</td>\n",
       "      <td>unarmed</td>\n",
       "      <td>23.0</td>\n",
       "      <td>M</td>\n",
       "      <td>H</td>\n",
       "      <td>Wichita</td>\n",
       "      <td>KS</td>\n",
       "      <td>False</td>\n",
       "      <td>other</td>\n",
       "      <td>Not fleeing</td>\n",
       "      <td>False</td>\n",
       "    </tr>\n",
       "    <tr>\n",
       "      <th>3</th>\n",
       "      <td>8</td>\n",
       "      <td>Matthew Hoffman</td>\n",
       "      <td>04/01/15</td>\n",
       "      <td>shot</td>\n",
       "      <td>toy weapon</td>\n",
       "      <td>32.0</td>\n",
       "      <td>M</td>\n",
       "      <td>W</td>\n",
       "      <td>San Francisco</td>\n",
       "      <td>CA</td>\n",
       "      <td>True</td>\n",
       "      <td>attack</td>\n",
       "      <td>Not fleeing</td>\n",
       "      <td>False</td>\n",
       "    </tr>\n",
       "    <tr>\n",
       "      <th>4</th>\n",
       "      <td>9</td>\n",
       "      <td>Michael Rodriguez</td>\n",
       "      <td>04/01/15</td>\n",
       "      <td>shot</td>\n",
       "      <td>nail gun</td>\n",
       "      <td>39.0</td>\n",
       "      <td>M</td>\n",
       "      <td>H</td>\n",
       "      <td>Evans</td>\n",
       "      <td>CO</td>\n",
       "      <td>False</td>\n",
       "      <td>attack</td>\n",
       "      <td>Not fleeing</td>\n",
       "      <td>False</td>\n",
       "    </tr>\n",
       "  </tbody>\n",
       "</table>\n",
       "</div>"
      ],
      "text/plain": [
       "   id                name      date   manner_of_death       armed   age  \\\n",
       "0   3          Tim Elliot  02/01/15              shot         gun  53.0   \n",
       "1   4    Lewis Lee Lembke  02/01/15              shot         gun  47.0   \n",
       "2   5  John Paul Quintero  03/01/15  shot and Tasered     unarmed  23.0   \n",
       "3   8     Matthew Hoffman  04/01/15              shot  toy weapon  32.0   \n",
       "4   9   Michael Rodriguez  04/01/15              shot    nail gun  39.0   \n",
       "\n",
       "  gender race           city state  signs_of_mental_illness threat_level  \\\n",
       "0      M    A        Shelton    WA                     True       attack   \n",
       "1      M    W          Aloha    OR                    False       attack   \n",
       "2      M    H        Wichita    KS                    False        other   \n",
       "3      M    W  San Francisco    CA                     True       attack   \n",
       "4      M    H          Evans    CO                    False       attack   \n",
       "\n",
       "          flee  body_camera  \n",
       "0  Not fleeing        False  \n",
       "1  Not fleeing        False  \n",
       "2  Not fleeing        False  \n",
       "3  Not fleeing        False  \n",
       "4  Not fleeing        False  "
      ]
     },
     "execution_count": 3,
     "metadata": {},
     "output_type": "execute_result"
    }
   ],
   "source": [
    "df.head()"
   ]
  },
  {
   "cell_type": "code",
   "execution_count": 4,
   "metadata": {},
   "outputs": [
    {
     "data": {
      "text/plain": [
       "array([2428,  107], dtype=int64)"
      ]
     },
     "execution_count": 4,
     "metadata": {},
     "output_type": "execute_result"
    }
   ],
   "source": [
    "df.gender.value_counts().values"
   ]
  },
  {
   "cell_type": "code",
   "execution_count": 5,
   "metadata": {},
   "outputs": [
    {
     "data": {
      "image/png": "[encoded data removed]",
      "text/plain": [
       "<Figure size 432x288 with 1 Axes>"
      ]
     },
     "metadata": {
      "needs_background": "light"
     },
     "output_type": "display_data"
    }
   ],
   "source": [
    "# with pandas\n",
    "y = df.gender.value_counts().values\n",
    "x = df.gender.value_counts().index\n",
    "\n",
    "df.gender.value_counts().plot.bar(title=\"Gender Distribution\");\n",
    "\n",
    "plt.xlabel(\"Driver Gender\");\n",
    "plt.ylabel(\"Number Of Drivers\");\n",
    "\n",
    "for index, value in enumerate(y):\n",
    "    plt.text(index, value, str(value), ha=\"center\", va=\"bottom\")"
   ]
  },
  {
   "cell_type": "code",
   "execution_count": 6,
   "metadata": {},
   "outputs": [
    {
     "data": {
      "text/plain": [
       "array([0.95779093, 0.04220907])"
      ]
     },
     "execution_count": 6,
     "metadata": {},
     "output_type": "execute_result"
    }
   ],
   "source": [
    "df.gender.value_counts(normalize=True).values"
   ]
  },
  {
   "cell_type": "code",
   "execution_count": 7,
   "metadata": {},
   "outputs": [
    {
     "data": {
      "image/png": "[encoded data removed]",
      "text/plain": [
       "<Figure size 600x400 with 1 Axes>"
      ]
     },
     "metadata": {
      "needs_background": "light"
     },
     "output_type": "display_data"
    }
   ],
   "source": [
    "# with matplotlib\n",
    "y = df.gender.value_counts().values\n",
    "x = df.gender.value_counts().index\n",
    "a = df.gender.value_counts(normalize=True).values\n",
    "\n",
    "plt.figure(dpi=100)\n",
    "plt.bar(x,y)\n",
    "plt.xlabel(\"Driver Gender\");\n",
    "plt.ylabel(\"Number Of Drivers\");\n",
    "plt.title(\"Genderr Distribution\")\n",
    "\n",
    "\n",
    "for index, value in enumerate(y):\n",
    "    plt.text(index, value, str(value), ha=\"center\", va=\"bottom\")\n",
    "    plt.text(index, value-10, str(round(a[index],2)*100), ha=\"center\", va=\"top\")"
   ]
  },
  {
   "cell_type": "code",
   "execution_count": 8,
   "metadata": {
    "colab": {
     "base_uri": "https://localhost:8080/",
     "height": 282
    },
    "executionInfo": {
     "elapsed": 472,
     "status": "ok",
     "timestamp": 1622926983971,
     "user": {
      "displayName": "Thomas Rico",
      "photoUrl": "",
      "userId": "03459133432310094050"
     },
     "user_tz": -180
    },
    "id": "9l_gl3On2Zi9",
    "outputId": "1ed7b4da-1d76-40e4-cbab-d5afba9a34aa"
   },
   "outputs": [],
   "source": [
    "# with pandas"
   ]
  },
  {
   "cell_type": "code",
   "execution_count": 9,
   "metadata": {
    "colab": {
     "base_uri": "https://localhost:8080/",
     "height": 283
    },
    "executionInfo": {
     "elapsed": 14,
     "status": "ok",
     "timestamp": 1622926983973,
     "user": {
      "displayName": "Thomas Rico",
      "photoUrl": "",
      "userId": "03459133432310094050"
     },
     "user_tz": -180
    },
    "id": "KtJXC38R2Zi9",
    "outputId": "99c4a881-e389-4469-984c-31d6b2bf67a2"
   },
   "outputs": [],
   "source": [
    "# with matplotlib\n"
   ]
  },
  {
   "cell_type": "markdown",
   "metadata": {
    "id": "3CDiN8a22Zi9"
   },
   "source": [
    "## 2: Plot 7 most common kill weapons"
   ]
  },
  {
   "cell_type": "code",
   "execution_count": 10,
   "metadata": {},
   "outputs": [
    {
     "data": {
      "text/plain": [
       "0              gun\n",
       "1              gun\n",
       "2          unarmed\n",
       "3       toy weapon\n",
       "4         nail gun\n",
       "           ...    \n",
       "2530           gun\n",
       "2531       vehicle\n",
       "2532           gun\n",
       "2533       vehicle\n",
       "2534         knife\n",
       "Name: armed, Length: 2535, dtype: object"
      ]
     },
     "execution_count": 10,
     "metadata": {},
     "output_type": "execute_result"
    }
   ],
   "source": [
    "df.armed"
   ]
  },
  {
   "cell_type": "code",
   "execution_count": 11,
   "metadata": {},
   "outputs": [
    {
     "data": {
      "text/plain": [
       "gun               1398\n",
       "knife              373\n",
       "vehicle            177\n",
       "unarmed            171\n",
       "undetermined       117\n",
       "toy weapon         104\n",
       "unknown weapon      18\n",
       "Name: armed, dtype: int64"
      ]
     },
     "execution_count": 11,
     "metadata": {},
     "output_type": "execute_result"
    }
   ],
   "source": [
    "df.armed.value_counts()[0:7]"
   ]
  },
  {
   "cell_type": "code",
   "execution_count": null,
   "metadata": {
    "colab": {
     "base_uri": "https://localhost:8080/"
    },
    "executionInfo": {
     "elapsed": 14,
     "status": "ok",
     "timestamp": 1622926983974,
     "user": {
      "displayName": "Thomas Rico",
      "photoUrl": "",
      "userId": "03459133432310094050"
     },
     "user_tz": -180
    },
    "id": "BAU2H77b2Zi9",
    "outputId": "a893d160-7464-448d-de16-6e4399c36a75"
   },
   "outputs": [],
   "source": []
  },
  {
   "cell_type": "code",
   "execution_count": 12,
   "metadata": {},
   "outputs": [
    {
     "data": {
      "image/png": "[encoded data removed]",
      "text/plain": [
       "<Figure size 600x400 with 1 Axes>"
      ]
     },
     "metadata": {
      "needs_background": "light"
     },
     "output_type": "display_data"
    }
   ],
   "source": [
    "#with pandas\n",
    "\n",
    "y = df.armed.value_counts()[:7].values\n",
    "x = df.armed.value_counts()[:7].index\n",
    "\n",
    "plt.figure(figsize=(6,4),dpi = 100)\n",
    "df.armed.value_counts()[:7].plot.bar()\n",
    "plt.xticks(rotation = 60);\n",
    "\n",
    "for index, value in enumerate(y):\n",
    "    plt.text(index,value,str(value), ha = \"center\", va = \"bottom\")"
   ]
  },
  {
   "cell_type": "code",
   "execution_count": 13,
   "metadata": {
    "colab": {
     "base_uri": "https://localhost:8080/",
     "height": 379
    },
    "executionInfo": {
     "elapsed": 12,
     "status": "ok",
     "timestamp": 1622926983975,
     "user": {
      "displayName": "Thomas Rico",
      "photoUrl": "",
      "userId": "03459133432310094050"
     },
     "user_tz": -180
    },
    "id": "WznuMe522Zi-",
    "outputId": "aa03186c-558b-4fa2-f7e0-471d827565c0"
   },
   "outputs": [],
   "source": [
    "# with pandas\n"
   ]
  },
  {
   "cell_type": "code",
   "execution_count": 14,
   "metadata": {},
   "outputs": [
    {
     "data": {
      "image/png": "[encoded data removed]",
      "text/plain": [
       "<Figure size 800x600 with 1 Axes>"
      ]
     },
     "metadata": {
      "needs_background": "light"
     },
     "output_type": "display_data"
    }
   ],
   "source": [
    "# with matplotlib\n",
    "\n",
    "fig, ax = plt.subplots(figsize=(8,6), dpi=100)\n",
    "\n",
    "y = df.armed.value_counts()[:7].values\n",
    "x = df.armed.value_counts()[:7].index\n",
    "\n",
    "\n",
    "ax.set_ylabel('number')\n",
    "ax.set_title('Distribution Gender')\n",
    "\n",
    "ax.bar(x,y)\n",
    "plt.xticks(rotation = 60)\n",
    "fig.tight_layout()\n",
    "\n",
    "for index, value in enumerate(y):\n",
    "    plt.text(index,value, str(value), ha = \"center\", va= \"bottom\")"
   ]
  },
  {
   "cell_type": "code",
   "execution_count": 15,
   "metadata": {
    "colab": {
     "base_uri": "https://localhost:8080/",
     "height": 379
    },
    "executionInfo": {
     "elapsed": 408,
     "status": "ok",
     "timestamp": 1622926984372,
     "user": {
      "displayName": "Thomas Rico",
      "photoUrl": "",
      "userId": "03459133432310094050"
     },
     "user_tz": -180
    },
    "id": "v6AvLOw82Zi-",
    "outputId": "b0539d81-1511-4ec4-b5dd-4160319f2096"
   },
   "outputs": [],
   "source": [
    "# with matplotlib\n"
   ]
  },
  {
   "cell_type": "markdown",
   "metadata": {
    "id": "GqXH5Xag2Zi-"
   },
   "source": [
    "## 3: Plot number of age of killed people under two groups : Under 25 and Above 25"
   ]
  },
  {
   "cell_type": "code",
   "execution_count": 16,
   "metadata": {},
   "outputs": [],
   "source": [
    "old = df.age.dropna() <= 25"
   ]
  },
  {
   "cell_type": "code",
   "execution_count": 17,
   "metadata": {},
   "outputs": [
    {
     "data": {
      "text/plain": [
       "0"
      ]
     },
     "execution_count": 17,
     "metadata": {},
     "output_type": "execute_result"
    }
   ],
   "source": [
    "old.isnull().sum()"
   ]
  },
  {
   "cell_type": "code",
   "execution_count": 18,
   "metadata": {},
   "outputs": [
    {
     "data": {
      "text/plain": [
       "0       False\n",
       "1       False\n",
       "2        True\n",
       "3       False\n",
       "4       False\n",
       "        ...  \n",
       "2529    False\n",
       "2530    False\n",
       "2532    False\n",
       "2533    False\n",
       "2534    False\n",
       "Name: age, Length: 2458, dtype: bool"
      ]
     },
     "execution_count": 18,
     "metadata": {},
     "output_type": "execute_result"
    }
   ],
   "source": [
    "old"
   ]
  },
  {
   "cell_type": "code",
   "execution_count": 19,
   "metadata": {},
   "outputs": [],
   "source": [
    "old = old.replace({True:\"Below 25\", False:\"Above 25\"})"
   ]
  },
  {
   "cell_type": "code",
   "execution_count": 20,
   "metadata": {},
   "outputs": [],
   "source": [
    "old = pd.DataFrame(old)"
   ]
  },
  {
   "cell_type": "code",
   "execution_count": 21,
   "metadata": {},
   "outputs": [
    {
     "data": {
      "text/plain": [
       "age     \n",
       "Above 25    1905\n",
       "Below 25     553\n",
       "dtype: int64"
      ]
     },
     "execution_count": 21,
     "metadata": {},
     "output_type": "execute_result"
    }
   ],
   "source": [
    "old.value_counts()"
   ]
  },
  {
   "cell_type": "code",
   "execution_count": 22,
   "metadata": {},
   "outputs": [
    {
     "data": {
      "image/png": "[encoded data removed]",
      "text/plain": [
       "<Figure size 576x432 with 1 Axes>"
      ]
     },
     "metadata": {
      "needs_background": "light"
     },
     "output_type": "display_data"
    }
   ],
   "source": [
    "# with pandas\n",
    "\n",
    "y = old.value_counts()\n",
    "plt.figure(figsize=(8,6));\n",
    "\n",
    "# old.value_counts().plot.bar();\n",
    "old.age.value_counts().plot.bar();\n",
    "\n",
    "for index, value in enumerate(y):\n",
    "    plt.text(index,value,str(value), ha = 'center',va=\"bottom\")"
   ]
  },
  {
   "cell_type": "code",
   "execution_count": 23,
   "metadata": {},
   "outputs": [
    {
     "data": {
      "image/png": "[encoded data removed]",
      "text/plain": [
       "<Figure size 432x288 with 1 Axes>"
      ]
     },
     "metadata": {
      "needs_background": "light"
     },
     "output_type": "display_data"
    }
   ],
   "source": [
    "# with matplotlib\n",
    "\n",
    "x = old.age.value_counts().index\n",
    "y = old.age.value_counts().values\n",
    "\n",
    "plt.bar(x,y);\n",
    "\n",
    "for index, value in enumerate(y):\n",
    "    plt.text(index,value,str(value), ha = 'center', va= \"bottom\")"
   ]
  },
  {
   "cell_type": "code",
   "execution_count": null,
   "metadata": {},
   "outputs": [],
   "source": []
  },
  {
   "cell_type": "code",
   "execution_count": null,
   "metadata": {
    "colab": {
     "base_uri": "https://localhost:8080/",
     "height": 307
    },
    "executionInfo": {
     "elapsed": 13,
     "status": "ok",
     "timestamp": 1622926984372,
     "user": {
      "displayName": "Thomas Rico",
      "photoUrl": "",
      "userId": "03459133432310094050"
     },
     "user_tz": -180
    },
    "id": "V4mng-vC2Zi-",
    "outputId": "01c48c2d-3344-4b26-ff0b-632378fb59f2"
   },
   "outputs": [],
   "source": []
  },
  {
   "cell_type": "code",
   "execution_count": null,
   "metadata": {
    "id": "1zfmB3FS2Zi-"
   },
   "outputs": [],
   "source": []
  },
  {
   "cell_type": "code",
   "execution_count": null,
   "metadata": {
    "colab": {
     "base_uri": "https://localhost:8080/",
     "height": 307
    },
    "executionInfo": {
     "elapsed": 11,
     "status": "ok",
     "timestamp": 1622926984373,
     "user": {
      "displayName": "Thomas Rico",
      "photoUrl": "",
      "userId": "03459133432310094050"
     },
     "user_tz": -180
    },
    "id": "DJzAOutV2Zi-",
    "outputId": "f1188a5c-2a2a-4cbd-b01e-751d47905f8f"
   },
   "outputs": [],
   "source": []
  },
  {
   "cell_type": "code",
   "execution_count": null,
   "metadata": {
    "colab": {
     "base_uri": "https://localhost:8080/"
    },
    "executionInfo": {
     "elapsed": 10,
     "status": "ok",
     "timestamp": 1622926984373,
     "user": {
      "displayName": "Thomas Rico",
      "photoUrl": "",
      "userId": "03459133432310094050"
     },
     "user_tz": -180
    },
    "id": "fSQ8BTUD2Zi_",
    "outputId": "89645134-4eb3-4034-bb3d-e446399aaad0"
   },
   "outputs": [],
   "source": []
  },
  {
   "cell_type": "code",
   "execution_count": 24,
   "metadata": {
    "colab": {
     "base_uri": "https://localhost:8080/",
     "height": 302
    },
    "executionInfo": {
     "elapsed": 10,
     "status": "ok",
     "timestamp": 1622926985007,
     "user": {
      "displayName": "Thomas Rico",
      "photoUrl": "",
      "userId": "03459133432310094050"
     },
     "user_tz": -180
    },
    "id": "O5TT5DGG2Zi_",
    "outputId": "c052b208-6dbd-4f6e-c8a9-63df71c610ee"
   },
   "outputs": [],
   "source": [
    "# with pandas\n"
   ]
  },
  {
   "cell_type": "code",
   "execution_count": 25,
   "metadata": {
    "colab": {
     "base_uri": "https://localhost:8080/",
     "height": 269
    },
    "executionInfo": {
     "elapsed": 10,
     "status": "ok",
     "timestamp": 1622926985008,
     "user": {
      "displayName": "Thomas Rico",
      "photoUrl": "",
      "userId": "03459133432310094050"
     },
     "user_tz": -180
    },
    "id": "gpOukiYx2Zi_",
    "outputId": "84b257d1-14e1-4bef-d6a4-08cf0a236acb"
   },
   "outputs": [],
   "source": [
    "# with matplotlib\n"
   ]
  },
  {
   "cell_type": "markdown",
   "metadata": {
    "id": "SZ-wps772Zi_"
   },
   "source": [
    "## 4: Plot number of killed poeple by race"
   ]
  },
  {
   "cell_type": "code",
   "execution_count": 26,
   "metadata": {},
   "outputs": [
    {
     "data": {
      "text/html": [
       "<div>\n",
       "<style scoped>\n",
       "    .dataframe tbody tr th:only-of-type {\n",
       "        vertical-align: middle;\n",
       "    }\n",
       "\n",
       "    .dataframe tbody tr th {\n",
       "        vertical-align: top;\n",
       "    }\n",
       "\n",
       "    .dataframe thead th {\n",
       "        text-align: right;\n",
       "    }\n",
       "</style>\n",
       "<table border=\"1\" class=\"dataframe\">\n",
       "  <thead>\n",
       "    <tr style=\"text-align: right;\">\n",
       "      <th></th>\n",
       "      <th>id</th>\n",
       "      <th>name</th>\n",
       "      <th>date</th>\n",
       "      <th>manner_of_death</th>\n",
       "      <th>armed</th>\n",
       "      <th>age</th>\n",
       "      <th>gender</th>\n",
       "      <th>race</th>\n",
       "      <th>city</th>\n",
       "      <th>state</th>\n",
       "      <th>signs_of_mental_illness</th>\n",
       "      <th>threat_level</th>\n",
       "      <th>flee</th>\n",
       "      <th>body_camera</th>\n",
       "    </tr>\n",
       "  </thead>\n",
       "  <tbody>\n",
       "    <tr>\n",
       "      <th>0</th>\n",
       "      <td>3</td>\n",
       "      <td>Tim Elliot</td>\n",
       "      <td>02/01/15</td>\n",
       "      <td>shot</td>\n",
       "      <td>gun</td>\n",
       "      <td>53.0</td>\n",
       "      <td>M</td>\n",
       "      <td>A</td>\n",
       "      <td>Shelton</td>\n",
       "      <td>WA</td>\n",
       "      <td>True</td>\n",
       "      <td>attack</td>\n",
       "      <td>Not fleeing</td>\n",
       "      <td>False</td>\n",
       "    </tr>\n",
       "    <tr>\n",
       "      <th>1</th>\n",
       "      <td>4</td>\n",
       "      <td>Lewis Lee Lembke</td>\n",
       "      <td>02/01/15</td>\n",
       "      <td>shot</td>\n",
       "      <td>gun</td>\n",
       "      <td>47.0</td>\n",
       "      <td>M</td>\n",
       "      <td>W</td>\n",
       "      <td>Aloha</td>\n",
       "      <td>OR</td>\n",
       "      <td>False</td>\n",
       "      <td>attack</td>\n",
       "      <td>Not fleeing</td>\n",
       "      <td>False</td>\n",
       "    </tr>\n",
       "    <tr>\n",
       "      <th>2</th>\n",
       "      <td>5</td>\n",
       "      <td>John Paul Quintero</td>\n",
       "      <td>03/01/15</td>\n",
       "      <td>shot and Tasered</td>\n",
       "      <td>unarmed</td>\n",
       "      <td>23.0</td>\n",
       "      <td>M</td>\n",
       "      <td>H</td>\n",
       "      <td>Wichita</td>\n",
       "      <td>KS</td>\n",
       "      <td>False</td>\n",
       "      <td>other</td>\n",
       "      <td>Not fleeing</td>\n",
       "      <td>False</td>\n",
       "    </tr>\n",
       "    <tr>\n",
       "      <th>3</th>\n",
       "      <td>8</td>\n",
       "      <td>Matthew Hoffman</td>\n",
       "      <td>04/01/15</td>\n",
       "      <td>shot</td>\n",
       "      <td>toy weapon</td>\n",
       "      <td>32.0</td>\n",
       "      <td>M</td>\n",
       "      <td>W</td>\n",
       "      <td>San Francisco</td>\n",
       "      <td>CA</td>\n",
       "      <td>True</td>\n",
       "      <td>attack</td>\n",
       "      <td>Not fleeing</td>\n",
       "      <td>False</td>\n",
       "    </tr>\n",
       "    <tr>\n",
       "      <th>4</th>\n",
       "      <td>9</td>\n",
       "      <td>Michael Rodriguez</td>\n",
       "      <td>04/01/15</td>\n",
       "      <td>shot</td>\n",
       "      <td>nail gun</td>\n",
       "      <td>39.0</td>\n",
       "      <td>M</td>\n",
       "      <td>H</td>\n",
       "      <td>Evans</td>\n",
       "      <td>CO</td>\n",
       "      <td>False</td>\n",
       "      <td>attack</td>\n",
       "      <td>Not fleeing</td>\n",
       "      <td>False</td>\n",
       "    </tr>\n",
       "  </tbody>\n",
       "</table>\n",
       "</div>"
      ],
      "text/plain": [
       "   id                name      date   manner_of_death       armed   age  \\\n",
       "0   3          Tim Elliot  02/01/15              shot         gun  53.0   \n",
       "1   4    Lewis Lee Lembke  02/01/15              shot         gun  47.0   \n",
       "2   5  John Paul Quintero  03/01/15  shot and Tasered     unarmed  23.0   \n",
       "3   8     Matthew Hoffman  04/01/15              shot  toy weapon  32.0   \n",
       "4   9   Michael Rodriguez  04/01/15              shot    nail gun  39.0   \n",
       "\n",
       "  gender race           city state  signs_of_mental_illness threat_level  \\\n",
       "0      M    A        Shelton    WA                     True       attack   \n",
       "1      M    W          Aloha    OR                    False       attack   \n",
       "2      M    H        Wichita    KS                    False        other   \n",
       "3      M    W  San Francisco    CA                     True       attack   \n",
       "4      M    H          Evans    CO                    False       attack   \n",
       "\n",
       "          flee  body_camera  \n",
       "0  Not fleeing        False  \n",
       "1  Not fleeing        False  \n",
       "2  Not fleeing        False  \n",
       "3  Not fleeing        False  \n",
       "4  Not fleeing        False  "
      ]
     },
     "execution_count": 26,
     "metadata": {},
     "output_type": "execute_result"
    }
   ],
   "source": [
    "df.head()"
   ]
  },
  {
   "cell_type": "code",
   "execution_count": 27,
   "metadata": {},
   "outputs": [
    {
     "data": {
      "text/plain": [
       "W    1201\n",
       "B     618\n",
       "H     423\n",
       "A      39\n",
       "N      31\n",
       "O      28\n",
       "Name: race, dtype: int64"
      ]
     },
     "execution_count": 27,
     "metadata": {},
     "output_type": "execute_result"
    }
   ],
   "source": [
    "df.race.value_counts()"
   ]
  },
  {
   "cell_type": "code",
   "execution_count": 28,
   "metadata": {},
   "outputs": [
    {
     "data": {
      "image/png": "[encoded data removed]",
      "text/plain": [
       "<Figure size 432x288 with 1 Axes>"
      ]
     },
     "metadata": {
      "needs_background": "light"
     },
     "output_type": "display_data"
    }
   ],
   "source": [
    "# with pandas\n",
    "\n",
    "y = df.race.value_counts().values\n",
    "df.race.value_counts().plot.bar();\n",
    "plt.title(\"Race of killed People\", color=\"blue\")\n",
    "\n",
    "for index, value in enumerate(y):\n",
    "    plt.text(index,value,str(value), ha = 'center', va= \"bottom\")"
   ]
  },
  {
   "cell_type": "code",
   "execution_count": 29,
   "metadata": {},
   "outputs": [
    {
     "data": {
      "image/png": "[encoded data removed]",
      "text/plain": [
       "<Figure size 432x288 with 1 Axes>"
      ]
     },
     "metadata": {
      "needs_background": "light"
     },
     "output_type": "display_data"
    }
   ],
   "source": [
    "# with matplotlib\n",
    "\n",
    "# y = df.race.value_counts().values\n",
    "\n",
    "fig, ax = plt.subplots()\n",
    "ax.bar(df.race.value_counts().index, df.race.value_counts().values)\n",
    "ax.set_title(\"Race of killed People\", color=\"blue\")\n",
    "\n",
    "for index, value in enumerate(y):\n",
    "    plt.text(index,value,str(value), ha = 'center', va= \"bottom\")"
   ]
  },
  {
   "cell_type": "code",
   "execution_count": null,
   "metadata": {},
   "outputs": [],
   "source": []
  },
  {
   "cell_type": "code",
   "execution_count": null,
   "metadata": {},
   "outputs": [],
   "source": []
  },
  {
   "cell_type": "code",
   "execution_count": null,
   "metadata": {
    "colab": {
     "base_uri": "https://localhost:8080/"
    },
    "executionInfo": {
     "elapsed": 10,
     "status": "ok",
     "timestamp": 1622926985009,
     "user": {
      "displayName": "Thomas Rico",
      "photoUrl": "",
      "userId": "03459133432310094050"
     },
     "user_tz": -180
    },
    "id": "Uqh-Od7X2Zi_",
    "outputId": "9d3da4ed-bc38-45c9-a66f-7d5ba5fb9f5c"
   },
   "outputs": [],
   "source": []
  },
  {
   "cell_type": "code",
   "execution_count": 30,
   "metadata": {
    "colab": {
     "base_uri": "https://localhost:8080/",
     "height": 283
    },
    "executionInfo": {
     "elapsed": 7,
     "status": "ok",
     "timestamp": 1622926985009,
     "user": {
      "displayName": "Thomas Rico",
      "photoUrl": "",
      "userId": "03459133432310094050"
     },
     "user_tz": -180
    },
    "id": "-q2lckGI2ZjA",
    "outputId": "aeed5936-fc89-4370-cdc2-1be0f9c5dcca"
   },
   "outputs": [],
   "source": [
    "# with pandas\n"
   ]
  },
  {
   "cell_type": "code",
   "execution_count": 31,
   "metadata": {
    "colab": {
     "base_uri": "https://localhost:8080/",
     "height": 283
    },
    "executionInfo": {
     "elapsed": 754,
     "status": "ok",
     "timestamp": 1622926985756,
     "user": {
      "displayName": "Thomas Rico",
      "photoUrl": "",
      "userId": "03459133432310094050"
     },
     "user_tz": -180
    },
    "id": "Bb16OmdB2ZjA",
    "outputId": "7e601245-42a2-4547-8d3f-8151bc5a1005"
   },
   "outputs": [],
   "source": [
    "# with matplotlib\n"
   ]
  },
  {
   "cell_type": "code",
   "execution_count": null,
   "metadata": {
    "id": "o7z6kXmQ-EPT"
   },
   "outputs": [],
   "source": []
  },
  {
   "cell_type": "markdown",
   "metadata": {
    "id": "9pGSRTxe-l5B"
   },
   "source": [
    "## 5: Killed People According to Races (Pie Chart)"
   ]
  },
  {
   "cell_type": "code",
   "execution_count": 32,
   "metadata": {},
   "outputs": [
    {
     "data": {
      "text/plain": [
       "array(['A', 'W', 'H', ..., nan, 'B', 'B'], dtype=object)"
      ]
     },
     "execution_count": 32,
     "metadata": {},
     "output_type": "execute_result"
    }
   ],
   "source": [
    "df.race.values"
   ]
  },
  {
   "cell_type": "code",
   "execution_count": 33,
   "metadata": {},
   "outputs": [
    {
     "data": {
      "text/plain": [
       "W    1201\n",
       "B     618\n",
       "H     423\n",
       "A      39\n",
       "N      31\n",
       "O      28\n",
       "Name: race, dtype: int64"
      ]
     },
     "execution_count": 33,
     "metadata": {},
     "output_type": "execute_result"
    }
   ],
   "source": [
    "df.race.value_counts()"
   ]
  },
  {
   "cell_type": "code",
   "execution_count": 34,
   "metadata": {},
   "outputs": [],
   "source": [
    "df.dropna(inplace=True)"
   ]
  },
  {
   "cell_type": "code",
   "execution_count": 35,
   "metadata": {},
   "outputs": [
    {
     "data": {
      "image/png": "[encoded data removed]",
      "text/plain": [
       "<Figure size 432x288 with 1 Axes>"
      ]
     },
     "metadata": {},
     "output_type": "display_data"
    }
   ],
   "source": [
    "# matplotlib\n",
    "\n",
    "labels = df.race.value_counts().index\n",
    "sizes = df.race.value_counts()\n",
    "\n",
    "fig1, ax1 = plt.subplots()\n",
    "ax1.pie(sizes, explode=[0,0,0.1,0,0,0], labels = labels, autopct=\"%.1f%%\", shadow = True, startangle=90)\n",
    "ax1.axis(\"equal\")\n",
    "plt.show()"
   ]
  },
  {
   "cell_type": "code",
   "execution_count": null,
   "metadata": {},
   "outputs": [],
   "source": []
  },
  {
   "cell_type": "code",
   "execution_count": null,
   "metadata": {
    "colab": {
     "base_uri": "https://localhost:8080/",
     "height": 307
    },
    "executionInfo": {
     "elapsed": 52,
     "status": "ok",
     "timestamp": 1622926985757,
     "user": {
      "displayName": "Thomas Rico",
      "photoUrl": "",
      "userId": "03459133432310094050"
     },
     "user_tz": -180
    },
    "id": "gq_OO4tB-l5E",
    "outputId": "0a45ca8f-7df9-4b85-d72f-8b0d4115561c"
   },
   "outputs": [],
   "source": []
  },
  {
   "cell_type": "code",
   "execution_count": null,
   "metadata": {
    "_uuid": "73ef9a67518196c14338e28236b5054186fabdc1",
    "colab": {
     "base_uri": "https://localhost:8080/"
    },
    "executionInfo": {
     "elapsed": 51,
     "status": "ok",
     "timestamp": 1622926985758,
     "user": {
      "displayName": "Thomas Rico",
      "photoUrl": "",
      "userId": "03459133432310094050"
     },
     "user_tz": -180
    },
    "id": "_ZPh_aCz-l5F",
    "outputId": "8ee30bed-c707-4e5d-b0a0-ae4e896e35e8"
   },
   "outputs": [],
   "source": []
  },
  {
   "cell_type": "code",
   "execution_count": null,
   "metadata": {
    "colab": {
     "base_uri": "https://localhost:8080/"
    },
    "executionInfo": {
     "elapsed": 49,
     "status": "ok",
     "timestamp": 1622926985758,
     "user": {
      "displayName": "Thomas Rico",
      "photoUrl": "",
      "userId": "03459133432310094050"
     },
     "user_tz": -180
    },
    "id": "4lJAFvsx-l5F",
    "outputId": "014ec220-87cf-4b96-da5c-b0f600130869"
   },
   "outputs": [],
   "source": []
  },
  {
   "cell_type": "markdown",
   "metadata": {
    "id": "VuWSIYCm-l5F"
   },
   "source": [
    "Problem: missing value on race column."
   ]
  },
  {
   "cell_type": "markdown",
   "metadata": {
    "id": "mmCQXFcg-l5G"
   },
   "source": [
    "**INSTRUCTION-1: Drop the all raws that contain missing value (dropna)**"
   ]
  },
  {
   "cell_type": "code",
   "execution_count": null,
   "metadata": {
    "id": "CzwSuxgQ-l5G"
   },
   "outputs": [],
   "source": []
  },
  {
   "cell_type": "code",
   "execution_count": null,
   "metadata": {
    "colab": {
     "base_uri": "https://localhost:8080/"
    },
    "executionInfo": {
     "elapsed": 49,
     "status": "ok",
     "timestamp": 1622926985760,
     "user": {
      "displayName": "Thomas Rico",
      "photoUrl": "",
      "userId": "03459133432310094050"
     },
     "user_tz": -180
    },
    "id": "3DzEkUNo-l5G",
    "outputId": "fe3f08e2-9ffa-40b2-edad-963b7ee8e29d"
   },
   "outputs": [],
   "source": []
  },
  {
   "cell_type": "markdown",
   "metadata": {
    "id": "DRb2AH84-l5G"
   },
   "source": [
    "**INSTRUCTION-2: Demonstrate Race Ratio of Killed People by a Pie Chart (You can use Matplotlib)**"
   ]
  },
  {
   "cell_type": "code",
   "execution_count": null,
   "metadata": {
    "colab": {
     "base_uri": "https://localhost:8080/"
    },
    "executionInfo": {
     "elapsed": 48,
     "status": "ok",
     "timestamp": 1622926985761,
     "user": {
      "displayName": "Thomas Rico",
      "photoUrl": "",
      "userId": "03459133432310094050"
     },
     "user_tz": -180
    },
    "id": "Pq0aSdnz-l5G",
    "outputId": "313c6efc-d2cd-4030-8ee8-1cd496565d2c"
   },
   "outputs": [],
   "source": []
  },
  {
   "cell_type": "code",
   "execution_count": null,
   "metadata": {
    "colab": {
     "base_uri": "https://localhost:8080/"
    },
    "executionInfo": {
     "elapsed": 47,
     "status": "ok",
     "timestamp": 1622926985761,
     "user": {
      "displayName": "Thomas Rico",
      "photoUrl": "",
      "userId": "03459133432310094050"
     },
     "user_tz": -180
    },
    "id": "z3CnjKfh-l5H",
    "outputId": "f138b9ff-11c1-48e2-e616-6a8db21e7dbe"
   },
   "outputs": [],
   "source": []
  },
  {
   "cell_type": "code",
   "execution_count": null,
   "metadata": {
    "colab": {
     "base_uri": "https://localhost:8080/"
    },
    "executionInfo": {
     "elapsed": 47,
     "status": "ok",
     "timestamp": 1622926985762,
     "user": {
      "displayName": "Thomas Rico",
      "photoUrl": "",
      "userId": "03459133432310094050"
     },
     "user_tz": -180
    },
    "id": "dNnqgLCM-l5H",
    "outputId": "939f3639-058d-4bf3-abd0-19105f334802"
   },
   "outputs": [],
   "source": []
  },
  {
   "cell_type": "code",
   "execution_count": 36,
   "metadata": {
    "colab": {
     "base_uri": "https://localhost:8080/",
     "height": 575
    },
    "executionInfo": {
     "elapsed": 45,
     "status": "ok",
     "timestamp": 1622926985762,
     "user": {
      "displayName": "Thomas Rico",
      "photoUrl": "",
      "userId": "03459133432310094050"
     },
     "user_tz": -180
    },
    "id": "F1CSkbxa-l5H",
    "outputId": "18bae490-b8d5-49b0-b124-f1c4f75a0129"
   },
   "outputs": [],
   "source": [
    "# matplotlib\n",
    "\n"
   ]
  },
  {
   "cell_type": "markdown",
   "metadata": {
    "id": "zOQ2PusO-G-U"
   },
   "source": [
    "## 6: Most common 15 Name or Surname of killed people "
   ]
  },
  {
   "cell_type": "code",
   "execution_count": 37,
   "metadata": {},
   "outputs": [],
   "source": [
    "a = df.name[df.name != \"TK TK\"].str.split()"
   ]
  },
  {
   "cell_type": "code",
   "execution_count": 38,
   "metadata": {},
   "outputs": [
    {
     "data": {
      "text/plain": [
       "0                [Tim, Elliot]\n",
       "1         [Lewis, Lee, Lembke]\n",
       "2       [John, Paul, Quintero]\n",
       "3           [Matthew, Hoffman]\n",
       "4         [Michael, Rodriguez]\n",
       "                 ...          \n",
       "2519            [Aries, Clark]\n",
       "2523     [Kesharn, K., Burney]\n",
       "2525       [Deltra, Henderson]\n",
       "2533          [Isaiah, Tucker]\n",
       "2534           [Dwayne, Jeune]\n",
       "Name: name, Length: 2253, dtype: object"
      ]
     },
     "execution_count": 38,
     "metadata": {},
     "output_type": "execute_result"
    }
   ],
   "source": [
    "a"
   ]
  },
  {
   "cell_type": "code",
   "execution_count": 39,
   "metadata": {},
   "outputs": [],
   "source": [
    "# j for i in a for j in i"
   ]
  },
  {
   "cell_type": "code",
   "execution_count": 40,
   "metadata": {},
   "outputs": [
    {
     "data": {
      "text/plain": [
       "['Tim',\n",
       " 'Elliot',\n",
       " 'Lewis',\n",
       " 'Lee',\n",
       " 'Lembke',\n",
       " 'John',\n",
       " 'Paul',\n",
       " 'Quintero',\n",
       " 'Matthew',\n",
       " 'Hoffman',\n",
       " 'Michael',\n",
       " 'Rodriguez',\n",
       " 'Kenneth',\n",
       " 'Joe',\n",
       " 'Brown',\n",
       " 'Kenneth',\n",
       " 'Arnold',\n",
       " 'Buck',\n",
       " 'Brock',\n",
       " 'Nichols',\n",
       " 'Autumn',\n",
       " 'Steele',\n",
       " 'Leslie',\n",
       " 'Sapp',\n",
       " 'III',\n",
       " 'Patrick',\n",
       " 'Wetter',\n",
       " 'Ron',\n",
       " 'Sneed',\n",
       " 'Hashim',\n",
       " 'Hanif',\n",
       " 'Ibn',\n",
       " 'Abdul-Rasheed',\n",
       " 'Nicholas',\n",
       " 'Ryan',\n",
       " 'Brickman',\n",
       " 'Omarr',\n",
       " 'Julian',\n",
       " 'Maximillian',\n",
       " 'Jackson',\n",
       " 'Loren',\n",
       " 'Simpson',\n",
       " 'James',\n",
       " 'Dudley',\n",
       " 'Barker',\n",
       " 'Artago',\n",
       " 'Damon',\n",
       " 'Howard',\n",
       " 'Thomas',\n",
       " 'Hamby',\n",
       " 'Jimmy',\n",
       " 'Foreman',\n",
       " 'Andy',\n",
       " 'Martinez',\n",
       " 'Tommy',\n",
       " 'Smith',\n",
       " 'Brian',\n",
       " 'Barbosa',\n",
       " 'Salvador',\n",
       " 'Figueroa',\n",
       " 'John',\n",
       " 'Edward',\n",
       " \"O'Keefe\",\n",
       " 'Richard',\n",
       " 'McClendon',\n",
       " 'Marcus',\n",
       " 'Golden',\n",
       " 'Michael',\n",
       " 'Goebel',\n",
       " 'Mario',\n",
       " 'Jordan',\n",
       " 'Talbot',\n",
       " 'Schroeder',\n",
       " 'Robert',\n",
       " 'Edwards',\n",
       " 'Jeffrey',\n",
       " 'R.',\n",
       " 'Nielson',\n",
       " 'Donte',\n",
       " 'Sowell',\n",
       " 'Kavonda',\n",
       " 'Earl',\n",
       " 'Payton',\n",
       " 'Quincy',\n",
       " 'Reed',\n",
       " 'Reindl',\n",
       " 'Jose',\n",
       " 'Ceja',\n",
       " 'Nathan',\n",
       " 'Massey',\n",
       " 'Scott',\n",
       " 'Hall',\n",
       " 'Zaki',\n",
       " 'Shinwary',\n",
       " 'Terence',\n",
       " 'Walker',\n",
       " 'Pablo',\n",
       " 'Meza',\n",
       " 'Daniel',\n",
       " 'Brumley',\n",
       " 'Jonathan',\n",
       " 'Guillory',\n",
       " 'Carter',\n",
       " 'Castle',\n",
       " 'Paul',\n",
       " 'Campbell',\n",
       " 'Dewayne',\n",
       " 'Carr',\n",
       " 'Todd',\n",
       " 'Allen',\n",
       " 'Hodge',\n",
       " 'Miguel',\n",
       " 'Angel',\n",
       " 'de',\n",
       " 'Santos-Rodriguez',\n",
       " 'Isaac',\n",
       " 'Holmes',\n",
       " 'Andrew',\n",
       " 'Toto',\n",
       " 'Tiano',\n",
       " 'Meton',\n",
       " 'Kristiana',\n",
       " 'Coignard',\n",
       " 'Robert',\n",
       " 'Francis',\n",
       " 'Mesch',\n",
       " 'Demaris',\n",
       " 'Turner',\n",
       " 'Jose',\n",
       " 'Antonio',\n",
       " 'Espinoza',\n",
       " 'Ruiz',\n",
       " 'Wendell',\n",
       " 'King',\n",
       " 'Daryl',\n",
       " 'Myler',\n",
       " 'Darin',\n",
       " 'Hutchins',\n",
       " 'Orlando',\n",
       " 'Jude',\n",
       " 'Lopez',\n",
       " 'Jessie',\n",
       " 'Hernandez',\n",
       " 'Raymond',\n",
       " 'Kmetz',\n",
       " 'Joshua',\n",
       " 'Omar',\n",
       " 'Garcia',\n",
       " 'David',\n",
       " 'Garcia',\n",
       " 'Nicolas',\n",
       " 'Leland',\n",
       " 'Tewa',\n",
       " 'Chris',\n",
       " 'Ingram',\n",
       " 'Jermonte',\n",
       " 'Fletcher',\n",
       " 'Tiffany',\n",
       " 'Terry',\n",
       " 'Alan',\n",
       " 'Lance',\n",
       " 'Alverson',\n",
       " 'Matautu',\n",
       " 'Nuu',\n",
       " 'Cody',\n",
       " 'Karasek',\n",
       " 'Ralph',\n",
       " 'Willis',\n",
       " 'Alan',\n",
       " 'James',\n",
       " 'John',\n",
       " 'Barry',\n",
       " 'Marshall',\n",
       " 'Victor',\n",
       " 'Manuel',\n",
       " 'Reyes',\n",
       " 'Edward',\n",
       " 'Donnell',\n",
       " 'Bright',\n",
       " 'Jacob',\n",
       " 'Haglund',\n",
       " 'David',\n",
       " 'Kassick',\n",
       " 'Francis',\n",
       " 'Murphy',\n",
       " 'Rose',\n",
       " 'III',\n",
       " 'Ledarius',\n",
       " 'D.',\n",
       " 'Williams',\n",
       " 'Yuvette',\n",
       " 'Henderson',\n",
       " 'Dewayne',\n",
       " 'Deshawn',\n",
       " 'Ward',\n",
       " 'Anthony',\n",
       " 'Purvis',\n",
       " 'Jeremy',\n",
       " 'Lett',\n",
       " 'Izzy',\n",
       " 'Colon',\n",
       " 'Salvador',\n",
       " 'Muna',\n",
       " 'Joaquin',\n",
       " 'Hernandez',\n",
       " 'Jimmy',\n",
       " 'Ray',\n",
       " 'Robinson',\n",
       " 'Jr.',\n",
       " 'Markell',\n",
       " 'Atkins',\n",
       " 'Paul',\n",
       " 'Alfred',\n",
       " 'Eugene',\n",
       " 'Johnson',\n",
       " 'Herbert',\n",
       " 'Hill',\n",
       " 'John',\n",
       " 'Sawyer',\n",
       " 'James',\n",
       " 'Allen',\n",
       " 'John',\n",
       " 'Martin',\n",
       " 'Whittaker',\n",
       " 'Sawyer',\n",
       " 'Flache',\n",
       " 'Vincent',\n",
       " 'Cordaro',\n",
       " 'Joseph',\n",
       " 'Paffen',\n",
       " 'Larry',\n",
       " 'Hostetter',\n",
       " 'Kenneth',\n",
       " 'Kreyssig',\n",
       " 'Desmond',\n",
       " 'Luster',\n",
       " 'Antonio',\n",
       " 'Zambrano-Montes',\n",
       " 'Anthony',\n",
       " 'Bess',\n",
       " 'Brian',\n",
       " 'Fritze',\n",
       " 'Phillip',\n",
       " 'Watkins',\n",
       " 'Fletcher',\n",
       " 'Ray',\n",
       " 'Stewart',\n",
       " 'Jonathan',\n",
       " 'Larry',\n",
       " 'Harden',\n",
       " 'Andres',\n",
       " 'Lara-Rodriguez',\n",
       " 'Richard',\n",
       " 'Carlin',\n",
       " 'Matthew',\n",
       " 'D.',\n",
       " 'Belk',\n",
       " 'Daniel',\n",
       " 'Mejia',\n",
       " 'Jason',\n",
       " 'C.',\n",
       " 'Hendrix',\n",
       " 'Roy',\n",
       " 'Joy',\n",
       " 'Day',\n",
       " 'Lavall',\n",
       " 'Hall',\n",
       " 'Howard',\n",
       " 'Brent',\n",
       " 'Means',\n",
       " 'Jr.',\n",
       " 'Bruce',\n",
       " 'Steward',\n",
       " 'Lawrence',\n",
       " 'Caldwell',\n",
       " 'Michael',\n",
       " 'K.',\n",
       " 'Casper',\n",
       " 'Cody',\n",
       " 'Evans',\n",
       " 'Betty',\n",
       " 'Sexton',\n",
       " 'Michael',\n",
       " 'Ireland',\n",
       " 'Matthew',\n",
       " 'Lundy',\n",
       " 'Douglas',\n",
       " 'Sparks',\n",
       " 'Pedro',\n",
       " 'Juan',\n",
       " 'Saldivar',\n",
       " 'Janisha',\n",
       " 'Fonville',\n",
       " 'Ruben',\n",
       " 'Villalpando',\n",
       " 'Stanley',\n",
       " 'Lamar',\n",
       " 'Grant',\n",
       " 'Douglas',\n",
       " 'Harris',\n",
       " 'Jason',\n",
       " 'Moncrief',\n",
       " 'Carter',\n",
       " 'Kent',\n",
       " 'Norman',\n",
       " 'Bradford',\n",
       " 'Leonard',\n",
       " 'Jerome',\n",
       " 'Nichols',\n",
       " 'Daniel',\n",
       " 'Elrod',\n",
       " 'Robert',\n",
       " 'Kohl',\n",
       " 'Michael',\n",
       " 'Wayne',\n",
       " 'Smashey',\n",
       " 'Anthony',\n",
       " 'Giaquinta',\n",
       " \"A'Donte\",\n",
       " 'Washington',\n",
       " 'Joseph',\n",
       " 'Biegert',\n",
       " 'Glenn',\n",
       " 'Lewis',\n",
       " 'Francis',\n",
       " 'Spivey',\n",
       " 'Alexander',\n",
       " 'Phillip',\n",
       " 'Long',\n",
       " 'David',\n",
       " 'Cuevas',\n",
       " 'Amilcar',\n",
       " 'Perez-Lopez',\n",
       " 'Rodney',\n",
       " 'Biggs',\n",
       " 'Crystal',\n",
       " 'Lee',\n",
       " 'Miley',\n",
       " 'Harry',\n",
       " 'Ernesto',\n",
       " 'Javiar',\n",
       " 'Canepa',\n",
       " 'Diaz',\n",
       " 'Chazsten',\n",
       " 'Freeman',\n",
       " 'Deven',\n",
       " 'Guilford',\n",
       " 'Thomas',\n",
       " 'Allen',\n",
       " 'Jessica',\n",
       " 'Uribe',\n",
       " 'Cornelius',\n",
       " 'J.',\n",
       " 'Parker',\n",
       " 'Ian',\n",
       " 'Sherrod',\n",
       " 'Stephanie',\n",
       " 'Hill',\n",
       " 'Donald',\n",
       " 'Lewis',\n",
       " 'Matkins',\n",
       " 'Charly',\n",
       " 'Leundeu',\n",
       " 'Keunang',\n",
       " 'Hung',\n",
       " 'Trieu',\n",
       " 'Shaquille',\n",
       " 'Barrow',\n",
       " 'Fednel',\n",
       " 'Rhinvil',\n",
       " 'Matthew',\n",
       " 'Metz',\n",
       " 'Derek',\n",
       " 'Cruice',\n",
       " 'Carl',\n",
       " 'Lao',\n",
       " 'Tyrone',\n",
       " 'Ryerson',\n",
       " 'Lawrence',\n",
       " 'Sergio',\n",
       " 'Alexander',\n",
       " 'Navas',\n",
       " 'Tyson',\n",
       " 'Hubbard',\n",
       " 'Naeschylus',\n",
       " 'Vinzant',\n",
       " 'Andrew',\n",
       " 'Anthony',\n",
       " 'Williams',\n",
       " 'Tony',\n",
       " 'Robinson',\n",
       " 'Adam',\n",
       " 'Reinhart',\n",
       " 'Aurelio',\n",
       " 'Duarte',\n",
       " 'Michael',\n",
       " 'McKillop',\n",
       " 'Monique',\n",
       " 'Jenee',\n",
       " 'Deckard',\n",
       " 'Lester',\n",
       " 'Brown',\n",
       " 'James',\n",
       " 'Brent',\n",
       " 'Damon',\n",
       " 'Cedrick',\n",
       " 'Lamont',\n",
       " 'Bishop',\n",
       " 'Anthony',\n",
       " 'Hill',\n",
       " 'Jamie',\n",
       " 'Croom',\n",
       " 'Christopher',\n",
       " 'Mitchell',\n",
       " 'Edixon',\n",
       " 'Franco',\n",
       " 'Theodore',\n",
       " 'Johnson',\n",
       " 'James',\n",
       " 'Greenwell',\n",
       " 'Benito',\n",
       " 'Osorio',\n",
       " 'Ryan',\n",
       " 'Dean',\n",
       " 'Burgess',\n",
       " 'Aaron',\n",
       " 'Valdez',\n",
       " 'Gilbert',\n",
       " 'Fleury',\n",
       " 'William',\n",
       " 'Russell',\n",
       " 'Smith',\n",
       " 'Terry',\n",
       " 'Garnett',\n",
       " 'Jr.',\n",
       " 'Bobby',\n",
       " 'Gross',\n",
       " 'Fred',\n",
       " 'Liggett',\n",
       " 'Andrew',\n",
       " 'Driver',\n",
       " 'Antonio',\n",
       " 'Perez',\n",
       " 'James',\n",
       " 'Richard',\n",
       " 'Jimenez',\n",
       " 'Richard',\n",
       " 'Castilleja',\n",
       " 'Clifton',\n",
       " 'Reintzel',\n",
       " 'Aaron',\n",
       " 'Siler',\n",
       " 'Troy',\n",
       " 'Ray',\n",
       " 'Boyd',\n",
       " 'Justin',\n",
       " 'Tolkinen',\n",
       " 'William',\n",
       " 'Dean',\n",
       " 'Poole',\n",
       " 'Eugene',\n",
       " 'Smith',\n",
       " 'Roberto',\n",
       " 'Leon',\n",
       " 'Andrew',\n",
       " 'Charles',\n",
       " 'Shipley',\n",
       " 'Declan',\n",
       " 'Owen',\n",
       " 'Alice',\n",
       " 'Brown',\n",
       " 'Jeff',\n",
       " 'Alexander',\n",
       " 'Kaylene',\n",
       " 'Stone',\n",
       " 'Garland',\n",
       " 'Lee',\n",
       " 'Wingo',\n",
       " 'Kendre',\n",
       " 'Alston',\n",
       " 'Jamison',\n",
       " 'Childress',\n",
       " 'Robert',\n",
       " 'Burdge',\n",
       " 'Shane',\n",
       " 'Watkins',\n",
       " 'Brandon',\n",
       " 'Jones',\n",
       " 'Brandon',\n",
       " 'Rapp',\n",
       " 'Justin',\n",
       " 'Fowler',\n",
       " 'Richard',\n",
       " 'White',\n",
       " 'Tyrel',\n",
       " 'Vick',\n",
       " 'James',\n",
       " 'Ellis',\n",
       " 'Gary',\n",
       " 'Page',\n",
       " 'Jason',\n",
       " 'Smith',\n",
       " 'Enoch',\n",
       " 'Gaver',\n",
       " 'Phillip',\n",
       " 'Conley',\n",
       " 'Christopher',\n",
       " 'Ryan',\n",
       " 'Healy',\n",
       " 'Denzel',\n",
       " 'Brown',\n",
       " 'Devin',\n",
       " 'Gates',\n",
       " 'Stephen',\n",
       " 'Snyder',\n",
       " 'Walter',\n",
       " 'J.',\n",
       " 'Brown',\n",
       " 'III',\n",
       " 'Scott',\n",
       " 'Dunham',\n",
       " 'Nicholas',\n",
       " 'Thomas',\n",
       " 'Jeremy',\n",
       " 'Lorenza',\n",
       " 'Kelly',\n",
       " 'Victor',\n",
       " 'Terrazas',\n",
       " 'Joseph',\n",
       " 'Tassinari',\n",
       " 'Deanne',\n",
       " 'Choate',\n",
       " 'Adrian',\n",
       " 'Solis',\n",
       " 'Gary',\n",
       " 'Kendrick',\n",
       " 'Jamalis',\n",
       " 'Hall',\n",
       " 'Adrian',\n",
       " 'Hernandez',\n",
       " 'Neil',\n",
       " 'Seifert',\n",
       " 'Megan',\n",
       " 'Hockaday',\n",
       " 'Harvey',\n",
       " 'Oates',\n",
       " 'Angelo',\n",
       " 'West',\n",
       " 'Robert',\n",
       " 'Rooker',\n",
       " 'Byron',\n",
       " 'Herbert',\n",
       " 'Brian',\n",
       " 'Babb',\n",
       " 'Jeremy',\n",
       " 'Anderson',\n",
       " 'Benjamin',\n",
       " 'Quezada',\n",
       " 'Mya',\n",
       " 'Hall',\n",
       " 'Robert',\n",
       " 'Washington',\n",
       " 'Shawn',\n",
       " 'Clyde',\n",
       " 'Darrin',\n",
       " 'Langford',\n",
       " 'Donald',\n",
       " 'Hicks',\n",
       " 'Eric',\n",
       " 'Harris',\n",
       " 'Aaron',\n",
       " 'Rutledge',\n",
       " 'Christopher',\n",
       " 'Prevatt',\n",
       " 'Justus',\n",
       " 'Howell',\n",
       " 'Walter',\n",
       " 'Scott',\n",
       " 'Paul',\n",
       " 'Anderson',\n",
       " 'Ethan',\n",
       " 'Noll',\n",
       " 'Ken',\n",
       " 'Cockerel',\n",
       " 'Richard',\n",
       " 'Hanna',\n",
       " 'Alexander',\n",
       " 'Myers',\n",
       " 'Desmond',\n",
       " 'Willis',\n",
       " 'Tyrell',\n",
       " 'J.',\n",
       " 'Larsen',\n",
       " 'Erick',\n",
       " 'Rose',\n",
       " 'Douglas',\n",
       " 'Faith',\n",
       " 'Dexter',\n",
       " 'Pernell',\n",
       " 'Bethea',\n",
       " 'Roberto',\n",
       " 'Rodriguez',\n",
       " 'Joseph',\n",
       " 'Jeremy',\n",
       " 'Weber',\n",
       " 'Gordon',\n",
       " 'Kimbrell',\n",
       " 'Don',\n",
       " 'Smith',\n",
       " 'Jess',\n",
       " 'Leipold',\n",
       " 'Phillip',\n",
       " 'Burgess',\n",
       " 'Angel',\n",
       " 'Cresencio',\n",
       " 'Corona',\n",
       " 'Richard',\n",
       " 'Reed',\n",
       " 'Donald',\n",
       " 'Allen',\n",
       " 'Mack',\n",
       " 'Long',\n",
       " 'Richard',\n",
       " 'Dale',\n",
       " 'Weaver',\n",
       " 'Jason',\n",
       " 'Lee',\n",
       " 'Evans',\n",
       " 'Isaac',\n",
       " 'Jimenez',\n",
       " 'Colby',\n",
       " 'Robinson',\n",
       " 'Christopher',\n",
       " 'Grant',\n",
       " 'Finley',\n",
       " 'Tevin',\n",
       " 'Barkley',\n",
       " 'Dante',\n",
       " 'Noble',\n",
       " 'Frank',\n",
       " 'Shephard',\n",
       " 'Mark',\n",
       " 'W.',\n",
       " 'Adair',\n",
       " 'Stanley',\n",
       " 'Watson',\n",
       " 'Ernesto',\n",
       " 'Flores',\n",
       " 'Rodolfo',\n",
       " 'Velazquez',\n",
       " 'Jeffrey',\n",
       " 'Kemp',\n",
       " 'Elias',\n",
       " 'Cavazos',\n",
       " 'Thaddeus',\n",
       " 'McCarroll',\n",
       " 'Erik',\n",
       " 'Tellez',\n",
       " 'Grover',\n",
       " 'Sapp',\n",
       " 'Michael',\n",
       " 'Foster',\n",
       " 'Dana',\n",
       " 'Hlavinka',\n",
       " 'Santos',\n",
       " 'Cortez',\n",
       " 'Hernandez',\n",
       " 'Daniel',\n",
       " 'Wolfe',\n",
       " 'Daniel',\n",
       " 'Covarrubias',\n",
       " 'Kimber',\n",
       " 'Key',\n",
       " 'Luis',\n",
       " 'Martinez',\n",
       " 'William',\n",
       " 'Chapman',\n",
       " 'Carlos',\n",
       " 'Saavedra',\n",
       " 'Ramirez',\n",
       " 'Jonathan',\n",
       " 'Efraim',\n",
       " 'Reginald',\n",
       " 'McGregor',\n",
       " 'Lue',\n",
       " 'Vang',\n",
       " 'Andrew',\n",
       " 'Valadez',\n",
       " 'Joseph',\n",
       " 'Potts',\n",
       " 'Hector',\n",
       " 'Morejon',\n",
       " 'Karen',\n",
       " 'Janks',\n",
       " 'Mark',\n",
       " 'Cecil',\n",
       " 'Hawkins',\n",
       " 'Gary',\n",
       " 'Timmie',\n",
       " 'Collins',\n",
       " 'Todd',\n",
       " 'Jamal',\n",
       " 'Dye',\n",
       " 'Brandon',\n",
       " 'Lawrence',\n",
       " 'David',\n",
       " 'Felix',\n",
       " 'Daniel',\n",
       " 'Davis',\n",
       " 'Billy',\n",
       " 'Joe',\n",
       " 'Patrick',\n",
       " 'Albert',\n",
       " 'Hanson',\n",
       " 'Dean',\n",
       " 'Genova',\n",
       " 'Terrance',\n",
       " 'Kellom',\n",
       " 'David',\n",
       " 'Parker',\n",
       " 'Jared',\n",
       " 'Johnson',\n",
       " 'Joshua',\n",
       " 'Green',\n",
       " 'Andrew',\n",
       " 'Jackson',\n",
       " 'Joshua',\n",
       " 'Deysie',\n",
       " 'Luis',\n",
       " 'Chavez-Diaz',\n",
       " 'Alexia',\n",
       " 'Christian',\n",
       " 'Jeffrey',\n",
       " 'Adkins',\n",
       " 'John',\n",
       " 'Acree',\n",
       " 'Fridoon',\n",
       " 'Zalbeg',\n",
       " 'Nehad',\n",
       " 'Erick',\n",
       " 'Emmanuel',\n",
       " 'Sanchez',\n",
       " 'Kenneth',\n",
       " 'Mathena',\n",
       " 'Kevin',\n",
       " 'Vance',\n",
       " 'Norton',\n",
       " 'Elton',\n",
       " 'Simpson',\n",
       " 'Nadir',\n",
       " 'Soofi',\n",
       " 'Billy',\n",
       " 'Grimm',\n",
       " 'Michael',\n",
       " 'Asher',\n",
       " 'Roark',\n",
       " 'Cook',\n",
       " 'Brendon',\n",
       " 'Glenn',\n",
       " 'Thong',\n",
       " 'Kien',\n",
       " 'Ma',\n",
       " 'Robert',\n",
       " 'A.',\n",
       " 'Frost',\n",
       " 'David',\n",
       " 'William',\n",
       " 'Johnson',\n",
       " 'Michael',\n",
       " 'Murphy',\n",
       " 'Nephi',\n",
       " 'Arriguin',\n",
       " 'Shaun',\n",
       " 'Johnson',\n",
       " 'David',\n",
       " 'Schwalm',\n",
       " 'Dedrick',\n",
       " 'Marshall',\n",
       " 'Sam',\n",
       " 'Holmes',\n",
       " 'Stephen',\n",
       " 'Cunningham',\n",
       " 'Lionel',\n",
       " 'Lorenzo',\n",
       " 'Young',\n",
       " 'Kelvin',\n",
       " 'Goldston',\n",
       " 'Justin',\n",
       " 'Way',\n",
       " \"D'Angelo\",\n",
       " 'Stallworth',\n",
       " 'Bruce',\n",
       " 'Zalonka',\n",
       " 'Alec',\n",
       " 'Ouzounian',\n",
       " 'Sean',\n",
       " 'Michael',\n",
       " 'Pelletier',\n",
       " 'Cary',\n",
       " 'Martin',\n",
       " 'Mark',\n",
       " 'Farrar',\n",
       " 'Matt',\n",
       " 'Coates',\n",
       " 'Ronell',\n",
       " 'Wade',\n",
       " 'Dennis',\n",
       " 'Fiel',\n",
       " 'Austin',\n",
       " 'Goodner',\n",
       " 'Timothy',\n",
       " 'Jones',\n",
       " 'Alfredo',\n",
       " 'Rials-Torres',\n",
       " 'Jonathan',\n",
       " 'McIntosh',\n",
       " 'David',\n",
       " 'Gaines',\n",
       " 'Anthony',\n",
       " 'Gomez',\n",
       " 'Jonathan',\n",
       " 'Colley',\n",
       " 'Chrislon',\n",
       " 'Talbott',\n",
       " 'Nikki',\n",
       " 'Jo',\n",
       " 'Burtsfield',\n",
       " 'Marcus',\n",
       " 'Wheeler',\n",
       " 'David',\n",
       " 'Alejandro',\n",
       " 'Gandara',\n",
       " 'Javoris',\n",
       " 'Washington',\n",
       " 'James',\n",
       " 'Anthony',\n",
       " 'Cooper',\n",
       " 'Elvin',\n",
       " 'Diaz',\n",
       " 'Jerome',\n",
       " 'Caldwell',\n",
       " 'Michael',\n",
       " 'Lowery',\n",
       " 'Caso',\n",
       " 'Jackson',\n",
       " 'James',\n",
       " 'Horn',\n",
       " 'Eric',\n",
       " 'Robinson',\n",
       " 'Cassandra',\n",
       " 'Bolin',\n",
       " 'Anthony',\n",
       " 'Briggs',\n",
       " 'Millard',\n",
       " 'Tallant',\n",
       " 'III',\n",
       " 'Dalton',\n",
       " 'Branch',\n",
       " 'Jessie',\n",
       " 'Williams',\n",
       " 'Scott',\n",
       " 'McAllister',\n",
       " 'Garrett',\n",
       " 'Sandeno',\n",
       " 'Harry',\n",
       " 'Davis',\n",
       " 'Feras',\n",
       " 'Morad',\n",
       " 'Simon',\n",
       " 'Hubble',\n",
       " 'Darrell',\n",
       " 'Morgan',\n",
       " 'James',\n",
       " 'Strong',\n",
       " 'Kenneth',\n",
       " 'Dothard',\n",
       " 'Kyle',\n",
       " 'Baker',\n",
       " 'Kevin',\n",
       " 'Allen',\n",
       " 'Nehemiah',\n",
       " 'Fischer',\n",
       " 'Robert',\n",
       " 'Box',\n",
       " 'Ebin',\n",
       " 'Lamont',\n",
       " 'Proctor',\n",
       " 'Alexander',\n",
       " 'Tirado',\n",
       " 'Rivera',\n",
       " 'James',\n",
       " 'Bushey',\n",
       " 'Joseph',\n",
       " 'Ladd',\n",
       " 'Usaamah',\n",
       " 'Rahim',\n",
       " 'Kamal',\n",
       " 'Dajani',\n",
       " 'Lorenzo',\n",
       " 'Garza',\n",
       " 'Rudy',\n",
       " 'Baca',\n",
       " 'Miguel',\n",
       " 'Martinez',\n",
       " 'Edelmiro',\n",
       " 'Hernandez',\n",
       " 'Ronald',\n",
       " 'Neal',\n",
       " 'Jesus',\n",
       " 'Quezada',\n",
       " 'Gomez',\n",
       " 'Christie',\n",
       " 'Cathers',\n",
       " 'Demouria',\n",
       " 'Hogg',\n",
       " 'James',\n",
       " 'Smillie',\n",
       " 'Alejandro',\n",
       " 'Campos',\n",
       " 'Fernandez',\n",
       " 'Joe',\n",
       " 'Nevels',\n",
       " 'Damien',\n",
       " 'Ramirez',\n",
       " 'Matthew',\n",
       " 'Wayne',\n",
       " 'McDaniel',\n",
       " 'Gene',\n",
       " 'Marshall',\n",
       " 'Rene',\n",
       " 'Garcia',\n",
       " 'Richard',\n",
       " 'Warolf',\n",
       " 'Jeremy',\n",
       " 'Linhart',\n",
       " 'Greg',\n",
       " 'Hartley',\n",
       " 'QuanDavier',\n",
       " 'Hicks',\n",
       " 'Ryan',\n",
       " 'Bolinger',\n",
       " 'Isiah',\n",
       " 'Hampton',\n",
       " 'Charles',\n",
       " 'Ziegler',\n",
       " 'Fritz',\n",
       " 'Severe',\n",
       " 'Mark',\n",
       " 'Flores',\n",
       " 'Raymond',\n",
       " 'Peralta-Lantigua',\n",
       " 'Shelly',\n",
       " 'Haendiges',\n",
       " 'Anthony',\n",
       " 'Hodge',\n",
       " 'Deng',\n",
       " 'Manyoun',\n",
       " 'James',\n",
       " 'Boulware',\n",
       " 'Kenneth',\n",
       " 'Garcia',\n",
       " 'Zane',\n",
       " 'Terryn',\n",
       " 'Kris',\n",
       " 'Jackson',\n",
       " 'Christopher',\n",
       " 'DeLeon',\n",
       " 'Joe',\n",
       " 'Charboneau',\n",
       " 'Wendy',\n",
       " 'Chappell',\n",
       " 'Kenneth',\n",
       " 'Lanphier',\n",
       " 'Oleg',\n",
       " 'Tcherniak',\n",
       " 'Santos',\n",
       " 'Laboy',\n",
       " 'Trepierre',\n",
       " 'Hummons',\n",
       " 'Louis',\n",
       " 'Atencio',\n",
       " 'Alfontish',\n",
       " 'Cockerham',\n",
       " 'Adrian',\n",
       " 'Simental',\n",
       " 'Charles',\n",
       " 'Marshall',\n",
       " 'James',\n",
       " 'Monroe',\n",
       " 'Barrett',\n",
       " 'Eduardo',\n",
       " 'Reyes',\n",
       " 'Tyler',\n",
       " 'Wicks',\n",
       " 'Tyrone',\n",
       " 'Harris',\n",
       " 'Joshua',\n",
       " 'Dyer',\n",
       " 'Jonathan',\n",
       " 'Wilson',\n",
       " ...]"
      ]
     },
     "execution_count": 40,
     "metadata": {},
     "output_type": "execute_result"
    }
   ],
   "source": [
    "b = [j for i in a for j in i]\n",
    "b"
   ]
  },
  {
   "cell_type": "code",
   "execution_count": 41,
   "metadata": {},
   "outputs": [
    {
     "data": {
      "text/plain": [
       "{'Cramer': 1,\n",
       " 'Kershaw': 1,\n",
       " 'Rory': 1,\n",
       " 'Vallarta': 1,\n",
       " \"O'Neal\": 1,\n",
       " 'Carpentier': 1,\n",
       " 'Mecklenburg': 1,\n",
       " 'Charles': 23,\n",
       " 'Marquis': 2,\n",
       " 'Tolkinen': 1,\n",
       " 'Pettit': 1,\n",
       " 'Shipley': 1,\n",
       " 'Quintonio': 1,\n",
       " 'Walker': 3,\n",
       " 'Cristian': 1,\n",
       " 'Maximillian': 1,\n",
       " 'Jake': 2,\n",
       " 'Marquesha': 1,\n",
       " 'Wimberly': 1,\n",
       " 'Castilleja': 1,\n",
       " \"O'Brien\": 1,\n",
       " 'Casimero': 1,\n",
       " 'Cedric': 4,\n",
       " 'Senegal': 1,\n",
       " 'Jacai': 1,\n",
       " 'Montoya': 1,\n",
       " 'Westrich': 1,\n",
       " 'Boulware': 1,\n",
       " 'Buford': 1,\n",
       " 'Christensen': 1,\n",
       " 'Quinn': 4,\n",
       " 'Phoenix': 1,\n",
       " 'Rakeem': 1,\n",
       " 'Steven': 13,\n",
       " 'Yia': 1,\n",
       " 'Kalyp': 1,\n",
       " 'Schweikle': 1,\n",
       " 'Buck': 3,\n",
       " 'Hunt': 1,\n",
       " 'Renato': 1,\n",
       " 'Howard': 3,\n",
       " 'Albert': 5,\n",
       " 'Dickens': 1,\n",
       " 'Byron': 1,\n",
       " 'Megan': 1,\n",
       " 'Hornibrook': 1,\n",
       " 'Norris': 2,\n",
       " 'Milanez': 1,\n",
       " 'Burdge': 1,\n",
       " 'Soriano': 1,\n",
       " 'Erickson': 2,\n",
       " 'Biggs': 2,\n",
       " 'Nana': 1,\n",
       " 'Flenaugh': 1,\n",
       " 'Weaver': 1,\n",
       " 'Mould': 1,\n",
       " 'Hashim': 1,\n",
       " 'Ollman': 1,\n",
       " 'Alec': 1,\n",
       " 'Unsworth': 1,\n",
       " 'Livingston': 1,\n",
       " 'Ponce-Galon': 1,\n",
       " 'Morgan': 5,\n",
       " 'Stortzum': 1,\n",
       " 'Winesett': 1,\n",
       " 'Rene': 4,\n",
       " 'Payton': 1,\n",
       " 'Dobbins': 1,\n",
       " 'Rials-Torres': 1,\n",
       " 'Graves': 1,\n",
       " 'Tarrant': 1,\n",
       " 'Heaton': 1,\n",
       " 'Dunlap-Gittens': 1,\n",
       " 'Christen': 1,\n",
       " 'Edwards': 6,\n",
       " 'Pedro': 4,\n",
       " 'Eagle': 1,\n",
       " 'Dionisio': 1,\n",
       " 'Westbrook': 2,\n",
       " 'Clemente': 1,\n",
       " 'Tcherniak': 1,\n",
       " 'Betty': 1,\n",
       " 'Shaw': 1,\n",
       " 'Sutton': 1,\n",
       " 'Solis': 1,\n",
       " 'Abernathy': 1,\n",
       " 'Fells': 1,\n",
       " 'Adomako': 1,\n",
       " 'Lopez': 7,\n",
       " 'Carlumandarlo': 1,\n",
       " 'Blaylock': 1,\n",
       " 'Daugherty': 1,\n",
       " 'Leanard': 1,\n",
       " 'Marcellus': 2,\n",
       " 'Tevin': 1,\n",
       " 'Devon': 2,\n",
       " 'Nelson': 3,\n",
       " 'Wilburly': 1,\n",
       " 'Dew': 1,\n",
       " 'Klassen': 1,\n",
       " 'Spencer': 4,\n",
       " 'Pryor': 1,\n",
       " 'Peterson': 1,\n",
       " 'Burley': 1,\n",
       " 'Donnell': 2,\n",
       " 'Wihowski': 1,\n",
       " 'Means': 1,\n",
       " 'Charbonneau': 1,\n",
       " 'Bowman': 1,\n",
       " 'Carl': 4,\n",
       " 'Pekelo': 1,\n",
       " 'Tyrel': 1,\n",
       " 'Lucien': 1,\n",
       " 'Westley': 1,\n",
       " 'Azim': 1,\n",
       " 'Landon': 2,\n",
       " 'Luis': 7,\n",
       " 'Rasmussen': 1,\n",
       " 'Olmstead': 1,\n",
       " 'Alex': 2,\n",
       " 'Ellis': 2,\n",
       " 'Laronda': 1,\n",
       " 'Burt': 1,\n",
       " 'Jahlire': 1,\n",
       " 'Phelps': 1,\n",
       " 'Ibn': 1,\n",
       " 'Ali': 4,\n",
       " 'Zambrano-Montes': 1,\n",
       " 'Sheats': 1,\n",
       " 'Perez-Lopez': 1,\n",
       " '\"Clint\"': 1,\n",
       " 'Labon': 1,\n",
       " 'Jarrett': 1,\n",
       " 'Bazan': 1,\n",
       " 'Rapp': 1,\n",
       " 'Paul': 16,\n",
       " 'Gibson': 1,\n",
       " 'Dubrino': 1,\n",
       " 'Sully': 1,\n",
       " 'Dixon': 1,\n",
       " 'Villagomez': 1,\n",
       " 'Leith': 1,\n",
       " 'Cornelius': 2,\n",
       " 'Homer': 1,\n",
       " 'Sorriano': 1,\n",
       " 'Parks': 1,\n",
       " 'Wickizer': 1,\n",
       " 'Bruce': 7,\n",
       " 'Rushton': 1,\n",
       " 'Doudzai': 1,\n",
       " 'Youssef': 1,\n",
       " 'Lau': 1,\n",
       " 'Brimer': 1,\n",
       " 'Hollins': 1,\n",
       " 'Terryn': 1,\n",
       " 'Eugene': 12,\n",
       " 'Luverne': 1,\n",
       " 'Hodges': 1,\n",
       " 'Metrejean': 1,\n",
       " 'Burke': 1,\n",
       " 'DeGroat': 1,\n",
       " 'Nicolas': 2,\n",
       " 'Augustine': 1,\n",
       " 'Hugo': 1,\n",
       " 'Fernando': 6,\n",
       " 'Randy': 6,\n",
       " 'Quintero': 2,\n",
       " \"O'Keefe\": 1,\n",
       " 'Quinton': 1,\n",
       " 'Johannes': 2,\n",
       " 'Vierra': 1,\n",
       " 'Rafael': 3,\n",
       " 'Ferguson': 2,\n",
       " 'Steward': 1,\n",
       " 'Dawes': 1,\n",
       " 'Norton': 2,\n",
       " 'Tirado': 1,\n",
       " 'Childress': 2,\n",
       " 'McMillan': 2,\n",
       " 'Erb': 1,\n",
       " 'K.': 4,\n",
       " 'Harmon': 1,\n",
       " 'Forgy': 1,\n",
       " 'Daryl': 1,\n",
       " 'Swader': 1,\n",
       " 'Malcolm': 1,\n",
       " \"Mi'Chance\": 1,\n",
       " 'Rahim': 1,\n",
       " 'Castillo': 1,\n",
       " 'Walke': 1,\n",
       " 'Kruger': 1,\n",
       " 'McGregor': 1,\n",
       " 'Jamarion': 1,\n",
       " 'Sawyer': 2,\n",
       " 'Gerry': 1,\n",
       " 'Ritchie': 1,\n",
       " 'Giberson': 1,\n",
       " 'Palma': 1,\n",
       " 'Fednel': 1,\n",
       " 'Duh': 1,\n",
       " 'Helmut': 1,\n",
       " 'Cox': 1,\n",
       " 'Luchsinger': 1,\n",
       " 'Goodner': 1,\n",
       " 'Splunge': 1,\n",
       " 'Cueva': 1,\n",
       " 'Godines': 1,\n",
       " 'Lyn': 1,\n",
       " 'Powell': 2,\n",
       " 'Caine': 1,\n",
       " 'Ireland': 1,\n",
       " 'Darren': 4,\n",
       " 'Lane': 4,\n",
       " 'Morad': 1,\n",
       " 'Knickmeyer': 1,\n",
       " 'Kenneth': 17,\n",
       " 'Reno': 1,\n",
       " 'Bobby': 7,\n",
       " 'Wilkes': 1,\n",
       " 'Herrell': 1,\n",
       " 'Solveig': 1,\n",
       " 'Quay': 1,\n",
       " 'Robb': 1,\n",
       " 'McCoy': 1,\n",
       " 'Bolinger': 1,\n",
       " 'Jamar': 1,\n",
       " 'McInnis': 1,\n",
       " 'Marvin': 4,\n",
       " 'Dewey': 1,\n",
       " 'Dimitri': 1,\n",
       " 'Bethea': 1,\n",
       " 'Alonzo': 1,\n",
       " 'Casillas': 1,\n",
       " 'Josue': 2,\n",
       " 'Goldston': 1,\n",
       " 'Gaither': 1,\n",
       " 'Hammonds': 1,\n",
       " 'Robison': 1,\n",
       " 'Kellom': 1,\n",
       " 'Cheyanne': 1,\n",
       " 'Henderson': 5,\n",
       " 'Snell': 1,\n",
       " 'Camacho': 1,\n",
       " 'Marcos': 2,\n",
       " 'Deon': 1,\n",
       " 'Patton': 1,\n",
       " 'Lukecart': 1,\n",
       " 'Earnest': 1,\n",
       " 'Matt': 2,\n",
       " 'Weber': 2,\n",
       " 'Delfino': 1,\n",
       " 'Cayce': 1,\n",
       " 'Summers': 1,\n",
       " 'Meridy': 1,\n",
       " 'Armstrong': 1,\n",
       " 'Core': 1,\n",
       " 'Nelms': 1,\n",
       " 'Dieringer': 1,\n",
       " 'Vick': 1,\n",
       " 'Kerns': 1,\n",
       " 'Suarez-Madonado': 1,\n",
       " 'Alejandro': 5,\n",
       " 'Marcus': 4,\n",
       " 'John': 36,\n",
       " 'Barnes': 2,\n",
       " 'Vance': 1,\n",
       " 'Jones': 12,\n",
       " 'Ataway': 1,\n",
       " 'Clay': 2,\n",
       " 'Lambert': 4,\n",
       " 'Wallace': 1,\n",
       " 'Mattner': 1,\n",
       " 'Clayton': 1,\n",
       " 'Alfred': 4,\n",
       " 'E.J.': 1,\n",
       " 'Rasheem': 1,\n",
       " 'Partain': 1,\n",
       " 'Delgado': 1,\n",
       " 'Javiar': 1,\n",
       " 'Sergey': 1,\n",
       " 'Isaac': 2,\n",
       " 'Stewart': 3,\n",
       " 'Gene': 5,\n",
       " 'DaRosa': 1,\n",
       " 'Benito': 1,\n",
       " 'Rodolfo': 1,\n",
       " 'Gamboa': 1,\n",
       " \"O'Handley\": 1,\n",
       " 'Kobza': 1,\n",
       " 'Zalonka': 1,\n",
       " 'Ilene': 1,\n",
       " 'Nathan': 6,\n",
       " 'Henry': 10,\n",
       " 'Gerardo': 4,\n",
       " 'Hammond': 1,\n",
       " 'Dass': 1,\n",
       " 'Kristiana': 1,\n",
       " 'Wakup': 1,\n",
       " 'Clarence': 2,\n",
       " 'Ismail': 1,\n",
       " 'Renee': 1,\n",
       " 'Fowler': 1,\n",
       " 'Carlos': 12,\n",
       " 'Jane': 1,\n",
       " 'Macon': 1,\n",
       " 'Gaines': 3,\n",
       " 'Tiffany': 2,\n",
       " 'Coffey': 1,\n",
       " 'Darin': 1,\n",
       " 'Whitaker': 1,\n",
       " 'Kristl': 1,\n",
       " 'Jess': 1,\n",
       " 'Kristofer': 1,\n",
       " 'Bishop': 1,\n",
       " 'Clair': 1,\n",
       " 'Prescott': 1,\n",
       " 'Kurtley': 1,\n",
       " 'Goodlow': 1,\n",
       " 'Adams': 3,\n",
       " 'Timothy': 12,\n",
       " 'Jacquarius': 1,\n",
       " 'Zhonghua': 1,\n",
       " 'Gaona': 1,\n",
       " 'Ortiz': 2,\n",
       " 'Colley': 1,\n",
       " 'Jaffort': 1,\n",
       " 'Kionte': 1,\n",
       " 'Shaquille': 1,\n",
       " 'Ismael': 2,\n",
       " 'Mishtowt': 1,\n",
       " 'Holden': 1,\n",
       " 'Bess': 2,\n",
       " 'Estill': 1,\n",
       " 'Juarez': 4,\n",
       " 'LeGrier': 1,\n",
       " 'Isaiah': 5,\n",
       " 'Fuentes': 2,\n",
       " 'Giovonn': 1,\n",
       " 'Wilhelm': 1,\n",
       " 'Lickteig': 1,\n",
       " 'Alexia': 1,\n",
       " 'Hummons': 1,\n",
       " 'Quintez': 1,\n",
       " 'Darrin': 3,\n",
       " 'Cuyler': 1,\n",
       " 'Ransom': 1,\n",
       " 'Wasson': 1,\n",
       " 'Ebin': 1,\n",
       " 'Sean': 6,\n",
       " 'Tuan': 1,\n",
       " 'Ramirez': 6,\n",
       " 'Milks': 1,\n",
       " 'Barry': 6,\n",
       " 'Deriante': 1,\n",
       " 'Bursey': 1,\n",
       " 'Terrazas': 1,\n",
       " 'Meza': 1,\n",
       " 'Steve': 2,\n",
       " 'Lush': 1,\n",
       " 'Fabela': 1,\n",
       " 'Serna': 1,\n",
       " 'Santiago': 1,\n",
       " 'Leonel': 1,\n",
       " 'Yobani-Torrez': 1,\n",
       " 'Schoessel': 1,\n",
       " 'Horacio': 1,\n",
       " 'Deltoro': 1,\n",
       " 'Ingram': 1,\n",
       " 'Grandpre': 1,\n",
       " 'Killough': 1,\n",
       " 'Daniels': 2,\n",
       " 'L.': 14,\n",
       " '\"Butch\"': 1,\n",
       " 'Walden': 1,\n",
       " 'Glenn': 4,\n",
       " 'Zane': 1,\n",
       " 'Raul': 3,\n",
       " 'Lynch': 1,\n",
       " 'Lam': 1,\n",
       " 'Mohamed': 2,\n",
       " 'Yahia': 1,\n",
       " 'Omar': 6,\n",
       " 'Guisherd': 1,\n",
       " 'Terrance': 1,\n",
       " 'Selsor': 1,\n",
       " 'Elias': 2,\n",
       " 'Bryant': 2,\n",
       " 'Alma': 1,\n",
       " 'Garrett': 1,\n",
       " 'Cornell': 1,\n",
       " 'Orville': 1,\n",
       " 'Baltazar': 1,\n",
       " 'Frost': 1,\n",
       " 'Austin': 6,\n",
       " 'Leslie': 2,\n",
       " 'Sparks': 1,\n",
       " 'Lahey': 1,\n",
       " 'Malave': 1,\n",
       " 'Poole': 1,\n",
       " 'Lara-Rodriguez': 1,\n",
       " 'Benitez-Santiago': 1,\n",
       " 'Rose': 3,\n",
       " 'Roberto': 3,\n",
       " 'Darrius': 1,\n",
       " 'Fuller': 2,\n",
       " 'Medger': 1,\n",
       " 'Galaviz': 1,\n",
       " 'Quezada': 2,\n",
       " 'Santos-Banos': 1,\n",
       " 'Bowers': 1,\n",
       " 'Barsnick': 1,\n",
       " 'Clyde': 3,\n",
       " 'Stover': 1,\n",
       " 'Cook': 2,\n",
       " 'Willie': 3,\n",
       " 'Trepierre': 1,\n",
       " 'Travis': 9,\n",
       " 'Cuellar': 1,\n",
       " 'DiTullio': 1,\n",
       " 'Calin': 1,\n",
       " 'Rivera': 3,\n",
       " 'Gorinski': 1,\n",
       " 'Pamias': 1,\n",
       " 'Grubb': 1,\n",
       " 'Colton': 2,\n",
       " 'Lamontez': 1,\n",
       " 'Alan': 11,\n",
       " 'Lukenbill': 1,\n",
       " 'Young': 4,\n",
       " 'Griffin': 1,\n",
       " 'Adan': 1,\n",
       " 'Meikle': 1,\n",
       " 'Vang': 1,\n",
       " 'Atencio': 1,\n",
       " 'Montano': 2,\n",
       " 'Navarro': 1,\n",
       " 'Waldron': 1,\n",
       " 'Folmar': 1,\n",
       " 'London': 2,\n",
       " 'Caruthers': 1,\n",
       " 'Avila': 1,\n",
       " 'Ekizian': 1,\n",
       " 'Peter': 9,\n",
       " 'Bentley': 1,\n",
       " 'Christopher': 35,\n",
       " 'Alfonso': 1,\n",
       " 'Becker': 1,\n",
       " 'Cordaro': 1,\n",
       " 'Saddam': 1,\n",
       " 'Kay': 1,\n",
       " 'Patrick': 13,\n",
       " 'Moghaddam': 1,\n",
       " 'Gaby': 1,\n",
       " 'Wheeler': 1,\n",
       " 'Deresha': 1,\n",
       " 'Akiel': 1,\n",
       " 'Jakob': 1,\n",
       " 'Montion': 1,\n",
       " 'Oliva': 1,\n",
       " 'Samuel': 5,\n",
       " 'Oswaldo': 1,\n",
       " 'Brito': 1,\n",
       " 'Siler': 1,\n",
       " 'Hake': 1,\n",
       " 'Zemola': 1,\n",
       " \"O'Dell\": 1,\n",
       " 'Darick': 1,\n",
       " 'Casper': 1,\n",
       " 'Joe': 9,\n",
       " 'Oscar': 4,\n",
       " 'Childers': 1,\n",
       " 'Combs': 1,\n",
       " 'Fernandez-Ventura': 1,\n",
       " 'Kayden': 1,\n",
       " 'Strobel': 1,\n",
       " 'Dowell': 1,\n",
       " 'Idris': 1,\n",
       " \"La'vante\": 1,\n",
       " 'Damien': 2,\n",
       " 'Chazz': 1,\n",
       " 'Tremaine': 1,\n",
       " 'McDaniel': 2,\n",
       " 'Dalvin': 1,\n",
       " 'Jeff': 5,\n",
       " 'Guirguis': 1,\n",
       " 'Gastelum': 1,\n",
       " 'Lett': 1,\n",
       " 'McClure': 1,\n",
       " 'McMullen': 1,\n",
       " 'Ellswood': 1,\n",
       " 'Buckley': 1,\n",
       " 'Sandoval': 1,\n",
       " 'Tyree': 2,\n",
       " 'Nuu': 1,\n",
       " 'Avant': 1,\n",
       " 'Nasser': 1,\n",
       " 'Buckner': 1,\n",
       " 'Touchstone': 1,\n",
       " 'Briggs': 3,\n",
       " 'Faison': 2,\n",
       " 'Charly': 1,\n",
       " 'Henson': 1,\n",
       " 'Gross': 1,\n",
       " 'Brenda': 1,\n",
       " 'Vilaysane': 1,\n",
       " 'Zambrano': 1,\n",
       " 'Maine': 1,\n",
       " 'Simpson': 4,\n",
       " 'Toby': 1,\n",
       " 'McLaughlin': 1,\n",
       " 'Colten': 1,\n",
       " 'Keegan': 1,\n",
       " 'Jaime': 1,\n",
       " 'Demarco': 2,\n",
       " 'Coborubio': 1,\n",
       " 'White': 5,\n",
       " 'Lohman': 1,\n",
       " 'Burkhardt': 1,\n",
       " 'Chrislon': 1,\n",
       " 'Mark': 20,\n",
       " 'Javon': 1,\n",
       " 'Lanphier': 1,\n",
       " 'Germichael': 1,\n",
       " 'Whidden': 1,\n",
       " 'Cedrick': 1,\n",
       " 'Minton': 1,\n",
       " 'Andres': 1,\n",
       " 'Baier': 1,\n",
       " 'Krause': 1,\n",
       " 'Haendiges': 1,\n",
       " 'Marrickus': 1,\n",
       " 'Gonzalez': 10,\n",
       " 'Macias': 1,\n",
       " 'Leonard': 2,\n",
       " 'Gomez': 5,\n",
       " 'Alvarez': 1,\n",
       " 'Kever': 1,\n",
       " 'Tenorio': 1,\n",
       " 'Dentmond': 1,\n",
       " 'Crittenden': 1,\n",
       " 'Ivan': 2,\n",
       " 'Cumberledge': 1,\n",
       " 'Holmgren': 2,\n",
       " 'Pirtle': 1,\n",
       " 'Ernesto': 3,\n",
       " 'Donte': 3,\n",
       " 'Jerrald': 1,\n",
       " 'Dalton': 2,\n",
       " 'Gulley': 1,\n",
       " 'Schumacher': 1,\n",
       " 'Alton': 3,\n",
       " 'William': 40,\n",
       " 'Harrison': 2,\n",
       " 'Blanchard': 1,\n",
       " 'Selwyn': 1,\n",
       " 'Isiah': 1,\n",
       " 'Meton': 1,\n",
       " 'Ortega': 1,\n",
       " 'Laurance': 1,\n",
       " 'Marco': 2,\n",
       " 'Greenwood': 1,\n",
       " 'Gerardino': 1,\n",
       " 'Robinson': 8,\n",
       " 'Lundy': 1,\n",
       " 'Glen': 2,\n",
       " 'Blackburn': 1,\n",
       " 'Moran': 1,\n",
       " 'Herd': 1,\n",
       " 'Ayers': 1,\n",
       " 'Shaffer': 1,\n",
       " 'Brandon': 19,\n",
       " 'Latimer': 1,\n",
       " 'Edelmiro': 1,\n",
       " 'Burnett': 1,\n",
       " 'Bauer': 2,\n",
       " 'Garcia-Muro': 1,\n",
       " 'Jr': 3,\n",
       " 'Purvis': 1,\n",
       " 'Boyd': 3,\n",
       " 'Newby': 1,\n",
       " 'Hetrick': 1,\n",
       " 'David': 53,\n",
       " 'Kager': 1,\n",
       " 'Ambrose': 1,\n",
       " 'Misael': 1,\n",
       " 'Benton': 1,\n",
       " 'Neal': 1,\n",
       " 'Gendreau': 1,\n",
       " 'Sambrano': 1,\n",
       " 'Short': 1,\n",
       " 'Padron': 1,\n",
       " 'Ruble': 1,\n",
       " 'Cremeans': 1,\n",
       " 'Navarrete': 1,\n",
       " 'Rio': 1,\n",
       " 'Martice': 1,\n",
       " 'Shelly': 2,\n",
       " 'Frank': 4,\n",
       " 'Erick': 2,\n",
       " 'Castle': 1,\n",
       " 'Shane': 7,\n",
       " 'Carroll': 1,\n",
       " 'Alegre': 1,\n",
       " 'Dorough': 1,\n",
       " 'Sanders': 3,\n",
       " 'Hirko': 1,\n",
       " 'Harper': 1,\n",
       " 'Simmons': 2,\n",
       " 'Rhymes': 1,\n",
       " 'Scott': 25,\n",
       " 'Ramone': 1,\n",
       " 'Sylversmythe': 1,\n",
       " 'Hendley': 1,\n",
       " 'Trujillo': 1,\n",
       " 'DeSai': 1,\n",
       " 'Findlay': 1,\n",
       " 'Max': 1,\n",
       " 'Cruice': 1,\n",
       " 'Roquemore': 1,\n",
       " 'Vargas': 2,\n",
       " 'Jerome': 5,\n",
       " 'Raymone': 1,\n",
       " 'Verdejo': 1,\n",
       " 'Koellner': 1,\n",
       " 'Salaam': 1,\n",
       " 'Brumley': 1,\n",
       " 'Haskell': 1,\n",
       " 'Satre': 1,\n",
       " 'Pinckney': 1,\n",
       " 'Efren': 1,\n",
       " 'Cavazos': 1,\n",
       " 'Grimes': 1,\n",
       " 'Guillory': 1,\n",
       " 'James': 47,\n",
       " 'Durham': 1,\n",
       " 'Rooker': 1,\n",
       " 'Najier': 1,\n",
       " 'Kendell': 1,\n",
       " 'Fisher': 1,\n",
       " 'Corona': 1,\n",
       " 'Hoff': 1,\n",
       " 'Alston': 1,\n",
       " 'Jeremias': 1,\n",
       " 'Lewallen': 1,\n",
       " 'Gerken': 1,\n",
       " 'Quintec': 1,\n",
       " 'Dionne': 1,\n",
       " 'Munoz': 2,\n",
       " 'Nivens': 1,\n",
       " 'Deerman': 1,\n",
       " 'Carillo': 1,\n",
       " 'Dexter': 2,\n",
       " 'Gino': 2,\n",
       " 'Bertram': 1,\n",
       " 'Sidney': 1,\n",
       " 'Wingo': 1,\n",
       " 'Elswick': 1,\n",
       " 'Chris': 3,\n",
       " 'Stokes': 1,\n",
       " 'Clements': 1,\n",
       " 'Rhinvil': 1,\n",
       " 'Raye': 1,\n",
       " 'Darien': 1,\n",
       " 'Loch': 1,\n",
       " 'Mardis': 1,\n",
       " 'Pantallion': 1,\n",
       " 'Robey': 1,\n",
       " 'Danner': 1,\n",
       " 'Jermonte': 1,\n",
       " 'Larosa': 1,\n",
       " 'Tian': 1,\n",
       " 'Day': 2,\n",
       " 'Brendon': 1,\n",
       " 'Noel': 4,\n",
       " 'Weatherby': 1,\n",
       " 'C.': 8,\n",
       " 'Bittle': 1,\n",
       " 'Lateef': 1,\n",
       " 'Pacheco': 2,\n",
       " 'Barbosa': 1,\n",
       " 'Hodge': 4,\n",
       " 'Maurice': 2,\n",
       " 'Grant': 4,\n",
       " 'Deng': 1,\n",
       " 'Thongsoune': 1,\n",
       " 'Eisa': 1,\n",
       " 'Maxwell': 1,\n",
       " 'Chappell': 1,\n",
       " 'Lemieux': 1,\n",
       " 'Chassady': 1,\n",
       " 'Teter': 1,\n",
       " 'Gleason': 1,\n",
       " 'Sanna': 1,\n",
       " 'Avilla': 1,\n",
       " 'Garrison': 1,\n",
       " 'King': 4,\n",
       " 'Seth': 1,\n",
       " 'Loreal': 1,\n",
       " 'Morris': 4,\n",
       " 'Salgado': 2,\n",
       " 'Pfleghardt': 1,\n",
       " 'Altice': 1,\n",
       " 'Seneca': 1,\n",
       " 'Thongsavanh': 1,\n",
       " 'Abbott': 1,\n",
       " 'Javenta': 1,\n",
       " 'Whitney': 1,\n",
       " 'Salaiz': 1,\n",
       " 'Bryson': 1,\n",
       " 'Soderberg': 1,\n",
       " 'Bishara-Abaker': 1,\n",
       " 'Riedmann': 1,\n",
       " 'Chaz': 1,\n",
       " 'Hall': 13,\n",
       " 'Terence': 3,\n",
       " 'Asshams': 1,\n",
       " 'Ton': 1,\n",
       " 'Gavin': 3,\n",
       " 'Reintzel': 1,\n",
       " '\"JC\"': 1,\n",
       " 'Sinuon': 1,\n",
       " 'Loren': 3,\n",
       " 'Demetrius': 4,\n",
       " 'Demarcus': 1,\n",
       " 'Potts': 1,\n",
       " 'Wilton': 1,\n",
       " 'Vitullo': 1,\n",
       " 'Ployhar': 1,\n",
       " 'Mateen': 1,\n",
       " 'Fude': 1,\n",
       " 'Edson': 1,\n",
       " '\"Zeus\"': 1,\n",
       " 'Deravis': 1,\n",
       " 'Richards-Meyers': 1,\n",
       " 'Myron': 1,\n",
       " 'Minard': 1,\n",
       " 'Berube': 1,\n",
       " 'Ponce': 1,\n",
       " 'Darius': 4,\n",
       " 'Wilson': 9,\n",
       " 'Dunaway': 1,\n",
       " 'Michelle': 4,\n",
       " 'Gerston': 1,\n",
       " 'Spands': 1,\n",
       " 'Fred': 4,\n",
       " 'Karen': 1,\n",
       " 'Darnell': 6,\n",
       " 'Sandy': 1,\n",
       " 'Donarski': 1,\n",
       " 'Maverick': 1,\n",
       " 'St.': 1,\n",
       " 'Alice': 1,\n",
       " 'Arties': 1,\n",
       " 'Babb': 1,\n",
       " 'Braziel': 1,\n",
       " 'Harry': 2,\n",
       " 'Denise': 1,\n",
       " 'Blough': 1,\n",
       " 'Zapata': 1,\n",
       " 'Jeray': 1,\n",
       " 'Rogers': 5,\n",
       " 'Quentin': 1,\n",
       " 'Edmund': 1,\n",
       " 'Millsaps': 1,\n",
       " 'Burns': 1,\n",
       " 'Igbuhay': 1,\n",
       " 'Carr': 2,\n",
       " 'Chatham': 1,\n",
       " 'Holliday': 1,\n",
       " 'Katsouras': 1,\n",
       " 'Jorevis': 1,\n",
       " 'Sweatt': 2,\n",
       " 'Parent': 1,\n",
       " 'Felkel': 1,\n",
       " 'Centeno': 1,\n",
       " 'Biegert': 1,\n",
       " 'Devan': 1,\n",
       " 'Usaamah': 1,\n",
       " 'Mohammad': 4,\n",
       " 'V.': 1,\n",
       " 'Smillie': 1,\n",
       " 'Rouven': 1,\n",
       " 'LeBoeuf': 1,\n",
       " 'Jabril': 1,\n",
       " 'Baker': 6,\n",
       " 'Whitehead': 2,\n",
       " 'Lerma': 1,\n",
       " 'Lionel': 4,\n",
       " 'Wagner': 2,\n",
       " 'Fritze': 1,\n",
       " 'Jay': 5,\n",
       " 'Lawson': 1,\n",
       " 'Ricco': 1,\n",
       " 'Martes': 1,\n",
       " 'Edgell': 1,\n",
       " 'Mendez': 4,\n",
       " 'Tokazowski': 1,\n",
       " 'Vanderburgh': 1,\n",
       " 'Nobles': 1,\n",
       " 'Soofi': 1,\n",
       " 'Hogg': 1,\n",
       " 'Palmer': 2,\n",
       " 'Nephi': 2,\n",
       " 'Watson': 3,\n",
       " 'Schiltz': 1,\n",
       " 'Banks': 1,\n",
       " 'Arturo': 3,\n",
       " 'Nadir': 1,\n",
       " 'Celio': 1,\n",
       " 'Lopes': 1,\n",
       " 'Harvey': 1,\n",
       " 'Kmetz': 1,\n",
       " 'Willy': 1,\n",
       " 'Guerin': 1,\n",
       " 'Healy': 1,\n",
       " 'Rainey': 1,\n",
       " 'Donny': 1,\n",
       " 'H.': 4,\n",
       " 'Philip': 5,\n",
       " 'Schwalm': 1,\n",
       " 'Trevon': 2,\n",
       " 'Chacarion': 1,\n",
       " 'Gunn': 1,\n",
       " 'Ruiz': 2,\n",
       " 'Peacock': 1,\n",
       " 'Mack': 2,\n",
       " 'Leiataua': 1,\n",
       " 'Mansur': 1,\n",
       " 'Carey': 2,\n",
       " 'Connard': 1,\n",
       " 'Pelletier': 1,\n",
       " 'Coignard': 1,\n",
       " 'Dudley': 1,\n",
       " 'Rosales': 1,\n",
       " 'Neil': 3,\n",
       " 'Mesch': 1,\n",
       " 'Mubarek': 1,\n",
       " 'Shephard': 1,\n",
       " 'Vrenon': 1,\n",
       " 'Garnica': 1,\n",
       " 'Jamalis': 1,\n",
       " 'Salazar': 2,\n",
       " 'Eddie': 4,\n",
       " 'Rudolph': 2,\n",
       " 'Stutz': 1,\n",
       " 'McAllister': 1,\n",
       " 'Bartley': 1,\n",
       " 'Chance': 3,\n",
       " 'Troy': 2,\n",
       " 'Stephen': 10,\n",
       " 'Nehad': 1,\n",
       " 'Daven': 1,\n",
       " 'Bennie': 1,\n",
       " 'Caleb': 2,\n",
       " 'Ryan': 16,\n",
       " 'W.': 3,\n",
       " 'Wooters': 1,\n",
       " 'Garza': 3,\n",
       " 'McKinney': 1,\n",
       " 'Quealy': 1,\n",
       " 'Cassandra': 1,\n",
       " 'Elando': 1,\n",
       " 'Phillip': 9,\n",
       " 'Junior': 2,\n",
       " 'Jade': 1,\n",
       " 'Kesharn': 1,\n",
       " 'Ludd': 1,\n",
       " 'Baranishyn': 1,\n",
       " 'Duran': 1,\n",
       " 'Daffern': 1,\n",
       " 'Nevels': 1,\n",
       " 'Torngren': 1,\n",
       " 'Scottie': 1,\n",
       " 'J.': 30,\n",
       " 'Montray': 1,\n",
       " 'Espinoza': 1,\n",
       " 'Cin': 1,\n",
       " 'Johnston': 2,\n",
       " 'Ferretti': 1,\n",
       " 'LeClair': 1,\n",
       " 'Hanson': 1,\n",
       " 'Noll': 1,\n",
       " 'McCallum': 1,\n",
       " 'Naway': 1,\n",
       " 'Kimbrell': 1,\n",
       " 'Terry': 7,\n",
       " 'Perry': 5,\n",
       " 'Armond': 1,\n",
       " 'Wendell': 1,\n",
       " 'Hack': 1,\n",
       " 'Edward': 15,\n",
       " 'Freddy': 2,\n",
       " 'Batiste': 1,\n",
       " 'Lowery': 1,\n",
       " 'Rolando': 1,\n",
       " 'Chau': 1,\n",
       " 'Hutchins': 1,\n",
       " 'Mills': 1,\n",
       " 'MacIntosh': 1,\n",
       " 'Jacob': 6,\n",
       " 'Frias': 1,\n",
       " 'Cazares': 1,\n",
       " 'Joseph': 43,\n",
       " 'Roark': 1,\n",
       " 'Sapp': 2,\n",
       " 'Stotts': 1,\n",
       " 'Micah': 2,\n",
       " 'Dugger': 1,\n",
       " 'Talbot': 1,\n",
       " \"O'Quinn\": 1,\n",
       " 'Meyer': 2,\n",
       " 'Saige': 1,\n",
       " 'Correa': 1,\n",
       " 'Gary': 10,\n",
       " 'Willard': 1,\n",
       " 'Galena': 1,\n",
       " 'Williams': 16,\n",
       " 'Manuel': 6,\n",
       " 'Billy': 5,\n",
       " 'Azevedo': 1,\n",
       " 'Gover': 1,\n",
       " 'Lyle': 1,\n",
       " 'Vasilios': 1,\n",
       " 'Bryon': 1,\n",
       " 'Guadalupe': 2,\n",
       " 'Redmond': 1,\n",
       " 'Alehegne': 1,\n",
       " 'Cruz': 5,\n",
       " 'McDole': 1,\n",
       " 'Beebee': 1,\n",
       " 'Shannon': 3,\n",
       " 'Doffin': 1,\n",
       " 'Carlton': 1,\n",
       " 'Friday': 1,\n",
       " 'Proctor': 1,\n",
       " 'Dapkus': 1,\n",
       " 'Gingras': 1,\n",
       " 'Fairchild': 1,\n",
       " 'Sper': 1,\n",
       " 'Monroe': 1,\n",
       " 'Dajani': 1,\n",
       " 'Rushing': 1,\n",
       " 'Greg': 2,\n",
       " 'Kreyssig': 1,\n",
       " 'Bigley': 1,\n",
       " 'Cyrus': 1,\n",
       " 'Wheat': 1,\n",
       " 'Ashford': 1,\n",
       " 'Gilpin': 1,\n",
       " 'Bolin': 1,\n",
       " 'Laney': 1,\n",
       " 'Damond': 1,\n",
       " 'Brigham': 1,\n",
       " 'Beavers': 1,\n",
       " 'Kentrill': 1,\n",
       " 'Stidham': 1,\n",
       " 'Seitz': 1,\n",
       " 'Dumarce': 1,\n",
       " 'Speer': 1,\n",
       " 'Antonio': 14,\n",
       " 'Emmanuel': 1,\n",
       " 'Salyers': 1,\n",
       " 'Hutchinson': 1,\n",
       " 'Bevenue': 1,\n",
       " 'Lester': 1,\n",
       " \"O'Grady\": 1,\n",
       " 'Howell': 1,\n",
       " 'Crane': 1,\n",
       " 'Garland': 2,\n",
       " 'Vessels': 1,\n",
       " 'Jude': 1,\n",
       " 'Christian': 9,\n",
       " 'Kamal': 1,\n",
       " 'Valencia': 3,\n",
       " 'Prak': 1,\n",
       " 'Wayne': 10,\n",
       " 'Cody': 6,\n",
       " 'Rainer': 1,\n",
       " 'Harley': 1,\n",
       " 'Bertoni': 1,\n",
       " 'Fielding': 1,\n",
       " 'Pablo': 3,\n",
       " 'Stepp': 1,\n",
       " 'Armando': 4,\n",
       " 'Jamal': 5,\n",
       " 'Miriam': 1,\n",
       " 'Elliot': 1,\n",
       " 'Kailing': 1,\n",
       " 'Fitzgerald': 3,\n",
       " 'Oswald': 1,\n",
       " 'Rosa': 1,\n",
       " 'Ronell': 1,\n",
       " 'Redrick': 1,\n",
       " 'Ochoa': 1,\n",
       " 'Luna': 1,\n",
       " 'Alberto': 2,\n",
       " 'Arlt': 1,\n",
       " 'Bukwich': 1,\n",
       " 'Shaver': 1,\n",
       " 'Quincy': 2,\n",
       " ...}"
      ]
     },
     "execution_count": 41,
     "metadata": {},
     "output_type": "execute_result"
    }
   ],
   "source": [
    "c = {i:b.count(i) for i in set(b)}\n",
    "c"
   ]
  },
  {
   "cell_type": "code",
   "execution_count": 42,
   "metadata": {},
   "outputs": [],
   "source": [
    "common_names = pd.Series(c).sort_values(ascending=False)[:15]"
   ]
  },
  {
   "cell_type": "code",
   "execution_count": 43,
   "metadata": {},
   "outputs": [
    {
     "data": {
      "text/plain": [
       "Michael        82\n",
       "David          53\n",
       "James          47\n",
       "Robert         44\n",
       "Joseph         43\n",
       "Daniel         40\n",
       "William        40\n",
       "Lee            37\n",
       "John           36\n",
       "Christopher    35\n",
       "Richard        33\n",
       "Smith          31\n",
       "J.             30\n",
       "Johnson        29\n",
       "Joshua         27\n",
       "dtype: int64"
      ]
     },
     "execution_count": 43,
     "metadata": {},
     "output_type": "execute_result"
    }
   ],
   "source": [
    "common_names"
   ]
  },
  {
   "cell_type": "code",
   "execution_count": 44,
   "metadata": {},
   "outputs": [],
   "source": [
    "common_names = pd.DataFrame(common_names, columns=[\"frequency\"])"
   ]
  },
  {
   "cell_type": "code",
   "execution_count": 45,
   "metadata": {},
   "outputs": [
    {
     "data": {
      "text/html": [
       "<div>\n",
       "<style scoped>\n",
       "    .dataframe tbody tr th:only-of-type {\n",
       "        vertical-align: middle;\n",
       "    }\n",
       "\n",
       "    .dataframe tbody tr th {\n",
       "        vertical-align: top;\n",
       "    }\n",
       "\n",
       "    .dataframe thead th {\n",
       "        text-align: right;\n",
       "    }\n",
       "</style>\n",
       "<table border=\"1\" class=\"dataframe\">\n",
       "  <thead>\n",
       "    <tr style=\"text-align: right;\">\n",
       "      <th></th>\n",
       "      <th>frequency</th>\n",
       "    </tr>\n",
       "  </thead>\n",
       "  <tbody>\n",
       "    <tr>\n",
       "      <th>Michael</th>\n",
       "      <td>82</td>\n",
       "    </tr>\n",
       "    <tr>\n",
       "      <th>David</th>\n",
       "      <td>53</td>\n",
       "    </tr>\n",
       "    <tr>\n",
       "      <th>James</th>\n",
       "      <td>47</td>\n",
       "    </tr>\n",
       "    <tr>\n",
       "      <th>Robert</th>\n",
       "      <td>44</td>\n",
       "    </tr>\n",
       "    <tr>\n",
       "      <th>Joseph</th>\n",
       "      <td>43</td>\n",
       "    </tr>\n",
       "    <tr>\n",
       "      <th>Daniel</th>\n",
       "      <td>40</td>\n",
       "    </tr>\n",
       "    <tr>\n",
       "      <th>William</th>\n",
       "      <td>40</td>\n",
       "    </tr>\n",
       "    <tr>\n",
       "      <th>Lee</th>\n",
       "      <td>37</td>\n",
       "    </tr>\n",
       "    <tr>\n",
       "      <th>John</th>\n",
       "      <td>36</td>\n",
       "    </tr>\n",
       "    <tr>\n",
       "      <th>Christopher</th>\n",
       "      <td>35</td>\n",
       "    </tr>\n",
       "    <tr>\n",
       "      <th>Richard</th>\n",
       "      <td>33</td>\n",
       "    </tr>\n",
       "    <tr>\n",
       "      <th>Smith</th>\n",
       "      <td>31</td>\n",
       "    </tr>\n",
       "    <tr>\n",
       "      <th>J.</th>\n",
       "      <td>30</td>\n",
       "    </tr>\n",
       "    <tr>\n",
       "      <th>Johnson</th>\n",
       "      <td>29</td>\n",
       "    </tr>\n",
       "    <tr>\n",
       "      <th>Joshua</th>\n",
       "      <td>27</td>\n",
       "    </tr>\n",
       "  </tbody>\n",
       "</table>\n",
       "</div>"
      ],
      "text/plain": [
       "             frequency\n",
       "Michael             82\n",
       "David               53\n",
       "James               47\n",
       "Robert              44\n",
       "Joseph              43\n",
       "Daniel              40\n",
       "William             40\n",
       "Lee                 37\n",
       "John                36\n",
       "Christopher         35\n",
       "Richard             33\n",
       "Smith               31\n",
       "J.                  30\n",
       "Johnson             29\n",
       "Joshua              27"
      ]
     },
     "execution_count": 45,
     "metadata": {},
     "output_type": "execute_result"
    }
   ],
   "source": [
    "common_names"
   ]
  },
  {
   "cell_type": "code",
   "execution_count": 46,
   "metadata": {},
   "outputs": [],
   "source": [
    "common_names = common_names.reset_index()"
   ]
  },
  {
   "cell_type": "code",
   "execution_count": 47,
   "metadata": {},
   "outputs": [
    {
     "data": {
      "text/html": [
       "<div>\n",
       "<style scoped>\n",
       "    .dataframe tbody tr th:only-of-type {\n",
       "        vertical-align: middle;\n",
       "    }\n",
       "\n",
       "    .dataframe tbody tr th {\n",
       "        vertical-align: top;\n",
       "    }\n",
       "\n",
       "    .dataframe thead th {\n",
       "        text-align: right;\n",
       "    }\n",
       "</style>\n",
       "<table border=\"1\" class=\"dataframe\">\n",
       "  <thead>\n",
       "    <tr style=\"text-align: right;\">\n",
       "      <th></th>\n",
       "      <th>index</th>\n",
       "      <th>frequency</th>\n",
       "    </tr>\n",
       "  </thead>\n",
       "  <tbody>\n",
       "    <tr>\n",
       "      <th>0</th>\n",
       "      <td>Michael</td>\n",
       "      <td>82</td>\n",
       "    </tr>\n",
       "    <tr>\n",
       "      <th>1</th>\n",
       "      <td>David</td>\n",
       "      <td>53</td>\n",
       "    </tr>\n",
       "    <tr>\n",
       "      <th>2</th>\n",
       "      <td>James</td>\n",
       "      <td>47</td>\n",
       "    </tr>\n",
       "    <tr>\n",
       "      <th>3</th>\n",
       "      <td>Robert</td>\n",
       "      <td>44</td>\n",
       "    </tr>\n",
       "    <tr>\n",
       "      <th>4</th>\n",
       "      <td>Joseph</td>\n",
       "      <td>43</td>\n",
       "    </tr>\n",
       "    <tr>\n",
       "      <th>5</th>\n",
       "      <td>Daniel</td>\n",
       "      <td>40</td>\n",
       "    </tr>\n",
       "    <tr>\n",
       "      <th>6</th>\n",
       "      <td>William</td>\n",
       "      <td>40</td>\n",
       "    </tr>\n",
       "    <tr>\n",
       "      <th>7</th>\n",
       "      <td>Lee</td>\n",
       "      <td>37</td>\n",
       "    </tr>\n",
       "    <tr>\n",
       "      <th>8</th>\n",
       "      <td>John</td>\n",
       "      <td>36</td>\n",
       "    </tr>\n",
       "    <tr>\n",
       "      <th>9</th>\n",
       "      <td>Christopher</td>\n",
       "      <td>35</td>\n",
       "    </tr>\n",
       "    <tr>\n",
       "      <th>10</th>\n",
       "      <td>Richard</td>\n",
       "      <td>33</td>\n",
       "    </tr>\n",
       "    <tr>\n",
       "      <th>11</th>\n",
       "      <td>Smith</td>\n",
       "      <td>31</td>\n",
       "    </tr>\n",
       "    <tr>\n",
       "      <th>12</th>\n",
       "      <td>J.</td>\n",
       "      <td>30</td>\n",
       "    </tr>\n",
       "    <tr>\n",
       "      <th>13</th>\n",
       "      <td>Johnson</td>\n",
       "      <td>29</td>\n",
       "    </tr>\n",
       "    <tr>\n",
       "      <th>14</th>\n",
       "      <td>Joshua</td>\n",
       "      <td>27</td>\n",
       "    </tr>\n",
       "  </tbody>\n",
       "</table>\n",
       "</div>"
      ],
      "text/plain": [
       "          index  frequency\n",
       "0       Michael         82\n",
       "1         David         53\n",
       "2         James         47\n",
       "3        Robert         44\n",
       "4        Joseph         43\n",
       "5        Daniel         40\n",
       "6       William         40\n",
       "7           Lee         37\n",
       "8          John         36\n",
       "9   Christopher         35\n",
       "10      Richard         33\n",
       "11        Smith         31\n",
       "12           J.         30\n",
       "13      Johnson         29\n",
       "14       Joshua         27"
      ]
     },
     "execution_count": 47,
     "metadata": {},
     "output_type": "execute_result"
    }
   ],
   "source": [
    "common_names"
   ]
  },
  {
   "cell_type": "code",
   "execution_count": 48,
   "metadata": {},
   "outputs": [],
   "source": [
    "common_names.rename(columns={\"index\":\"most_common_names_of_killed_people\"}, inplace=True)"
   ]
  },
  {
   "cell_type": "code",
   "execution_count": 49,
   "metadata": {},
   "outputs": [
    {
     "data": {
      "text/html": [
       "<div>\n",
       "<style scoped>\n",
       "    .dataframe tbody tr th:only-of-type {\n",
       "        vertical-align: middle;\n",
       "    }\n",
       "\n",
       "    .dataframe tbody tr th {\n",
       "        vertical-align: top;\n",
       "    }\n",
       "\n",
       "    .dataframe thead th {\n",
       "        text-align: right;\n",
       "    }\n",
       "</style>\n",
       "<table border=\"1\" class=\"dataframe\">\n",
       "  <thead>\n",
       "    <tr style=\"text-align: right;\">\n",
       "      <th></th>\n",
       "      <th>most_common_names_of_killed_people</th>\n",
       "      <th>frequency</th>\n",
       "    </tr>\n",
       "  </thead>\n",
       "  <tbody>\n",
       "    <tr>\n",
       "      <th>0</th>\n",
       "      <td>Michael</td>\n",
       "      <td>82</td>\n",
       "    </tr>\n",
       "    <tr>\n",
       "      <th>1</th>\n",
       "      <td>David</td>\n",
       "      <td>53</td>\n",
       "    </tr>\n",
       "    <tr>\n",
       "      <th>2</th>\n",
       "      <td>James</td>\n",
       "      <td>47</td>\n",
       "    </tr>\n",
       "    <tr>\n",
       "      <th>3</th>\n",
       "      <td>Robert</td>\n",
       "      <td>44</td>\n",
       "    </tr>\n",
       "    <tr>\n",
       "      <th>4</th>\n",
       "      <td>Joseph</td>\n",
       "      <td>43</td>\n",
       "    </tr>\n",
       "    <tr>\n",
       "      <th>5</th>\n",
       "      <td>Daniel</td>\n",
       "      <td>40</td>\n",
       "    </tr>\n",
       "    <tr>\n",
       "      <th>6</th>\n",
       "      <td>William</td>\n",
       "      <td>40</td>\n",
       "    </tr>\n",
       "    <tr>\n",
       "      <th>7</th>\n",
       "      <td>Lee</td>\n",
       "      <td>37</td>\n",
       "    </tr>\n",
       "    <tr>\n",
       "      <th>8</th>\n",
       "      <td>John</td>\n",
       "      <td>36</td>\n",
       "    </tr>\n",
       "    <tr>\n",
       "      <th>9</th>\n",
       "      <td>Christopher</td>\n",
       "      <td>35</td>\n",
       "    </tr>\n",
       "    <tr>\n",
       "      <th>10</th>\n",
       "      <td>Richard</td>\n",
       "      <td>33</td>\n",
       "    </tr>\n",
       "    <tr>\n",
       "      <th>11</th>\n",
       "      <td>Smith</td>\n",
       "      <td>31</td>\n",
       "    </tr>\n",
       "    <tr>\n",
       "      <th>12</th>\n",
       "      <td>J.</td>\n",
       "      <td>30</td>\n",
       "    </tr>\n",
       "    <tr>\n",
       "      <th>13</th>\n",
       "      <td>Johnson</td>\n",
       "      <td>29</td>\n",
       "    </tr>\n",
       "    <tr>\n",
       "      <th>14</th>\n",
       "      <td>Joshua</td>\n",
       "      <td>27</td>\n",
       "    </tr>\n",
       "  </tbody>\n",
       "</table>\n",
       "</div>"
      ],
      "text/plain": [
       "   most_common_names_of_killed_people  frequency\n",
       "0                             Michael         82\n",
       "1                               David         53\n",
       "2                               James         47\n",
       "3                              Robert         44\n",
       "4                              Joseph         43\n",
       "5                              Daniel         40\n",
       "6                             William         40\n",
       "7                                 Lee         37\n",
       "8                                John         36\n",
       "9                         Christopher         35\n",
       "10                            Richard         33\n",
       "11                              Smith         31\n",
       "12                                 J.         30\n",
       "13                            Johnson         29\n",
       "14                             Joshua         27"
      ]
     },
     "execution_count": 49,
     "metadata": {},
     "output_type": "execute_result"
    }
   ],
   "source": [
    "common_names"
   ]
  },
  {
   "cell_type": "code",
   "execution_count": 50,
   "metadata": {},
   "outputs": [],
   "source": [
    "common_names.set_index(\"most_common_names_of_killed_people\", inplace =True)"
   ]
  },
  {
   "cell_type": "code",
   "execution_count": 51,
   "metadata": {},
   "outputs": [
    {
     "data": {
      "text/html": [
       "<div>\n",
       "<style scoped>\n",
       "    .dataframe tbody tr th:only-of-type {\n",
       "        vertical-align: middle;\n",
       "    }\n",
       "\n",
       "    .dataframe tbody tr th {\n",
       "        vertical-align: top;\n",
       "    }\n",
       "\n",
       "    .dataframe thead th {\n",
       "        text-align: right;\n",
       "    }\n",
       "</style>\n",
       "<table border=\"1\" class=\"dataframe\">\n",
       "  <thead>\n",
       "    <tr style=\"text-align: right;\">\n",
       "      <th></th>\n",
       "      <th>frequency</th>\n",
       "    </tr>\n",
       "    <tr>\n",
       "      <th>most_common_names_of_killed_people</th>\n",
       "      <th></th>\n",
       "    </tr>\n",
       "  </thead>\n",
       "  <tbody>\n",
       "    <tr>\n",
       "      <th>Michael</th>\n",
       "      <td>82</td>\n",
       "    </tr>\n",
       "    <tr>\n",
       "      <th>David</th>\n",
       "      <td>53</td>\n",
       "    </tr>\n",
       "  </tbody>\n",
       "</table>\n",
       "</div>"
      ],
      "text/plain": [
       "                                    frequency\n",
       "most_common_names_of_killed_people           \n",
       "Michael                                    82\n",
       "David                                      53"
      ]
     },
     "execution_count": 51,
     "metadata": {},
     "output_type": "execute_result"
    }
   ],
   "source": [
    "common_names.head(2)"
   ]
  },
  {
   "cell_type": "code",
   "execution_count": 52,
   "metadata": {},
   "outputs": [
    {
     "data": {
      "text/plain": [
       "<Figure size 1800x900 with 0 Axes>"
      ]
     },
     "metadata": {},
     "output_type": "display_data"
    },
    {
     "data": {
      "image/png": "[encoded data removed]",
      "text/plain": [
       "<Figure size 432x288 with 1 Axes>"
      ]
     },
     "metadata": {
      "needs_background": "light"
     },
     "output_type": "display_data"
    }
   ],
   "source": [
    "# with pandas\n",
    "\n",
    "plt.figure(figsize=(12,6), dpi=150)\n",
    "common_names.plot.bar();\n",
    "# common_names.plot(kind=\"bar\")\n",
    "plt.xlabel(\"Names\");\n",
    "plt.ylabel(\"frequency\");\n",
    "plt.title(\"frequenc-names table\");\n",
    "\n",
    "\n",
    "for index, value in enumerate(common_names.frequency.values):\n",
    "    plt.text(index,value,str(value), ha = 'center', va= \"bottom\");"
   ]
  },
  {
   "cell_type": "code",
   "execution_count": 55,
   "metadata": {},
   "outputs": [
    {
     "data": {
      "text/html": [
       "<div>\n",
       "<style scoped>\n",
       "    .dataframe tbody tr th:only-of-type {\n",
       "        vertical-align: middle;\n",
       "    }\n",
       "\n",
       "    .dataframe tbody tr th {\n",
       "        vertical-align: top;\n",
       "    }\n",
       "\n",
       "    .dataframe thead th {\n",
       "        text-align: right;\n",
       "    }\n",
       "</style>\n",
       "<table border=\"1\" class=\"dataframe\">\n",
       "  <thead>\n",
       "    <tr style=\"text-align: right;\">\n",
       "      <th></th>\n",
       "      <th>frequency</th>\n",
       "    </tr>\n",
       "    <tr>\n",
       "      <th>most_common_names_of_killed_people</th>\n",
       "      <th></th>\n",
       "    </tr>\n",
       "  </thead>\n",
       "  <tbody>\n",
       "    <tr>\n",
       "      <th>Michael</th>\n",
       "      <td>82</td>\n",
       "    </tr>\n",
       "    <tr>\n",
       "      <th>David</th>\n",
       "      <td>53</td>\n",
       "    </tr>\n",
       "    <tr>\n",
       "      <th>James</th>\n",
       "      <td>47</td>\n",
       "    </tr>\n",
       "    <tr>\n",
       "      <th>Robert</th>\n",
       "      <td>44</td>\n",
       "    </tr>\n",
       "    <tr>\n",
       "      <th>Joseph</th>\n",
       "      <td>43</td>\n",
       "    </tr>\n",
       "    <tr>\n",
       "      <th>Daniel</th>\n",
       "      <td>40</td>\n",
       "    </tr>\n",
       "    <tr>\n",
       "      <th>William</th>\n",
       "      <td>40</td>\n",
       "    </tr>\n",
       "    <tr>\n",
       "      <th>Lee</th>\n",
       "      <td>37</td>\n",
       "    </tr>\n",
       "    <tr>\n",
       "      <th>John</th>\n",
       "      <td>36</td>\n",
       "    </tr>\n",
       "    <tr>\n",
       "      <th>Christopher</th>\n",
       "      <td>35</td>\n",
       "    </tr>\n",
       "    <tr>\n",
       "      <th>Richard</th>\n",
       "      <td>33</td>\n",
       "    </tr>\n",
       "    <tr>\n",
       "      <th>Smith</th>\n",
       "      <td>31</td>\n",
       "    </tr>\n",
       "    <tr>\n",
       "      <th>J.</th>\n",
       "      <td>30</td>\n",
       "    </tr>\n",
       "    <tr>\n",
       "      <th>Johnson</th>\n",
       "      <td>29</td>\n",
       "    </tr>\n",
       "    <tr>\n",
       "      <th>Joshua</th>\n",
       "      <td>27</td>\n",
       "    </tr>\n",
       "  </tbody>\n",
       "</table>\n",
       "</div>"
      ],
      "text/plain": [
       "                                    frequency\n",
       "most_common_names_of_killed_people           \n",
       "Michael                                    82\n",
       "David                                      53\n",
       "James                                      47\n",
       "Robert                                     44\n",
       "Joseph                                     43\n",
       "Daniel                                     40\n",
       "William                                    40\n",
       "Lee                                        37\n",
       "John                                       36\n",
       "Christopher                                35\n",
       "Richard                                    33\n",
       "Smith                                      31\n",
       "J.                                         30\n",
       "Johnson                                    29\n",
       "Joshua                                     27"
      ]
     },
     "execution_count": 55,
     "metadata": {},
     "output_type": "execute_result"
    }
   ],
   "source": [
    "common_names"
   ]
  },
  {
   "cell_type": "code",
   "execution_count": 64,
   "metadata": {},
   "outputs": [
    {
     "data": {
      "image/png": "[encoded data removed]",
      "text/plain": [
       "<Figure size 1200x600 with 1 Axes>"
      ]
     },
     "metadata": {
      "needs_background": "light"
     },
     "output_type": "display_data"
    }
   ],
   "source": [
    "# with matplotlib\n",
    "\n",
    "fig2, ax2 = plt.subplots(figsize=(12,6), dpi=100)\n",
    "ax2.bar(common_names.index, common_names.frequency);\n",
    "plt.xticks(rotation = 60);\n",
    "ax2.set_xlabel(\"names\");\n",
    "plt.ylabel(\"frequency\");\n",
    "for index, value in enumerate(common_names.frequency):\n",
    "    plt.text(index,value,str(value), ha = 'center', va= \"bottom\")"
   ]
  },
  {
   "cell_type": "code",
   "execution_count": null,
   "metadata": {
    "_uuid": "bfb975b648fbcbd1c6cdf1634f01e01371924a8c",
    "colab": {
     "base_uri": "https://localhost:8080/",
     "height": 307
    },
    "executionInfo": {
     "elapsed": 45,
     "status": "ok",
     "timestamp": 1622926985762,
     "user": {
      "displayName": "Thomas Rico",
      "photoUrl": "",
      "userId": "03459133432310094050"
     },
     "user_tz": -180
    },
    "id": "7s9SsMsj-G-U",
    "outputId": "2d3cc676-d586-402c-cabd-938eb19880bf"
   },
   "outputs": [],
   "source": []
  },
  {
   "cell_type": "code",
   "execution_count": null,
   "metadata": {
    "colab": {
     "base_uri": "https://localhost:8080/"
    },
    "executionInfo": {
     "elapsed": 45,
     "status": "ok",
     "timestamp": 1622926985763,
     "user": {
      "displayName": "Thomas Rico",
      "photoUrl": "",
      "userId": "03459133432310094050"
     },
     "user_tz": -180
    },
    "id": "R7idQSfR-G-V",
    "outputId": "617558e5-408e-4392-bf31-50db2d071323"
   },
   "outputs": [],
   "source": []
  },
  {
   "cell_type": "code",
   "execution_count": null,
   "metadata": {
    "colab": {
     "base_uri": "https://localhost:8080/"
    },
    "executionInfo": {
     "elapsed": 43,
     "status": "ok",
     "timestamp": 1622926985763,
     "user": {
      "displayName": "Thomas Rico",
      "photoUrl": "",
      "userId": "03459133432310094050"
     },
     "user_tz": -180
    },
    "id": "xx5JDVqZ-G-V",
    "outputId": "9ee6b2a8-b264-40c6-f187-6dd7d1c32efe"
   },
   "outputs": [],
   "source": []
  },
  {
   "cell_type": "code",
   "execution_count": 53,
   "metadata": {
    "_cell_guid": "c2cd6681-42a4-44c2-ba1a-46d4d61b6eea",
    "_uuid": "b3b53866f9c794ca5f85f59bc5bfc0d01a830baf",
    "colab": {
     "base_uri": "https://localhost:8080/"
    },
    "executionInfo": {
     "elapsed": 43,
     "status": "ok",
     "timestamp": 1622926985764,
     "user": {
      "displayName": "Thomas Rico",
      "photoUrl": "",
      "userId": "03459133432310094050"
     },
     "user_tz": -180
    },
    "id": "YsaT2vLg-G-W",
    "outputId": "f3de216b-2176-4b7e-8fc2-c9e3858bd298",
    "scrolled": true
   },
   "outputs": [],
   "source": [
    "# Problem: TK TK is most probably not a name or surname. We will clean them.\n"
   ]
  },
  {
   "cell_type": "code",
   "execution_count": 54,
   "metadata": {
    "colab": {
     "base_uri": "https://localhost:8080/"
    },
    "executionInfo": {
     "elapsed": 42,
     "status": "ok",
     "timestamp": 1622926985764,
     "user": {
      "displayName": "Thomas Rico",
      "photoUrl": "",
      "userId": "03459133432310094050"
     },
     "user_tz": -180
    },
    "id": "Tm35sunM-G-W",
    "outputId": "f6fc6156-5af6-4a3d-f509-9c16f85fb1c8"
   },
   "outputs": [
    {
     "ename": "NameError",
     "evalue": "name 'pairs' is not defined",
     "output_type": "error",
     "traceback": [
      "\u001b[1;31m---------------------------------------------------------------------------\u001b[0m",
      "\u001b[1;31mNameError\u001b[0m                                 Traceback (most recent call last)",
      "\u001b[1;32m<ipython-input-54-084d266ab981>\u001b[0m in \u001b[0;36m<module>\u001b[1;34m\u001b[0m\n\u001b[1;32m----> 1\u001b[1;33m \u001b[0mtype\u001b[0m\u001b[1;33m(\u001b[0m\u001b[0mpairs\u001b[0m\u001b[1;33m)\u001b[0m\u001b[1;33m\u001b[0m\u001b[1;33m\u001b[0m\u001b[0m\n\u001b[0m",
      "\u001b[1;31mNameError\u001b[0m: name 'pairs' is not defined"
     ]
    }
   ],
   "source": [
    "type(pairs)"
   ]
  },
  {
   "cell_type": "markdown",
   "metadata": {
    "id": "SDeKoDA3-G-W"
   },
   "source": [
    "**INSTRUCTION : Plot Most common 15 Name OR Surname of killed people** "
   ]
  },
  {
   "cell_type": "raw",
   "metadata": {
    "id": "GDrfQsvl-G-W"
   },
   "source": [
    "### Clue 1: You need to separate the names and surnames because we are asking most common name OR surname.\n",
    "\n",
    "### Clue 2 :After seperation make a whole list that contains both names and surnames.\n",
    "\n",
    "### Clue 3 : How to separate the name and surname pairs?\n",
    "\n",
    ">>> pairs = [(1, 'a'), (2, 'b'), (3, 'c'), (4, 'd')]\n",
    ">>> numbers, letters = zip(*pairs)\n",
    ">>> numbers\n",
    "(1, 2, 3, 4)\n",
    ">>> letters\n",
    "('a', 'b', 'c', 'd')\n",
    "\n",
    "### Clue 4: You can use Counter() and most_common() built in functions together to find the most common names or surnames, or you can write your own functions for this purpose."
   ]
  },
  {
   "cell_type": "markdown",
   "metadata": {
    "id": "enYjZO9j5Cn9"
   },
   "source": [
    "shape"
   ]
  },
  {
   "cell_type": "code",
   "execution_count": null,
   "metadata": {
    "colab": {
     "base_uri": "https://localhost:8080/"
    },
    "executionInfo": {
     "elapsed": 41,
     "status": "ok",
     "timestamp": 1622926985765,
     "user": {
      "displayName": "Thomas Rico",
      "photoUrl": "",
      "userId": "03459133432310094050"
     },
     "user_tz": -180
    },
    "id": "wTOlNN6V-G-W",
    "outputId": "d02b14f6-6ec4-4294-a850-ef94ce1572fa"
   },
   "outputs": [],
   "source": []
  },
  {
   "cell_type": "code",
   "execution_count": null,
   "metadata": {
    "colab": {
     "base_uri": "https://localhost:8080/"
    },
    "executionInfo": {
     "elapsed": 40,
     "status": "ok",
     "timestamp": 1622926985765,
     "user": {
      "displayName": "Thomas Rico",
      "photoUrl": "",
      "userId": "03459133432310094050"
     },
     "user_tz": -180
    },
    "id": "0Ml-0Jbo-G-X",
    "outputId": "ccd66eaa-e0c5-4dc6-9aec-a99008ae63eb"
   },
   "outputs": [],
   "source": []
  },
  {
   "cell_type": "code",
   "execution_count": null,
   "metadata": {
    "colab": {
     "base_uri": "https://localhost:8080/",
     "height": 35
    },
    "executionInfo": {
     "elapsed": 39,
     "status": "ok",
     "timestamp": 1622926985765,
     "user": {
      "displayName": "Thomas Rico",
      "photoUrl": "",
      "userId": "03459133432310094050"
     },
     "user_tz": -180
    },
    "id": "B4S3UjP--G-X",
    "outputId": "c4aeaea4-b782-4c61-cb49-c588ecbed42b"
   },
   "outputs": [],
   "source": []
  },
  {
   "cell_type": "code",
   "execution_count": null,
   "metadata": {
    "id": "eIN9wmQZ-G-X"
   },
   "outputs": [],
   "source": []
  },
  {
   "cell_type": "code",
   "execution_count": null,
   "metadata": {
    "colab": {
     "base_uri": "https://localhost:8080/"
    },
    "executionInfo": {
     "elapsed": 39,
     "status": "ok",
     "timestamp": 1622926985766,
     "user": {
      "displayName": "Thomas Rico",
      "photoUrl": "",
      "userId": "03459133432310094050"
     },
     "user_tz": -180
    },
    "id": "qzpsa-8C-G-X",
    "outputId": "9a4b6062-d0e1-49c6-f8a5-763c904ca17f"
   },
   "outputs": [],
   "source": []
  },
  {
   "cell_type": "code",
   "execution_count": null,
   "metadata": {
    "colab": {
     "base_uri": "https://localhost:8080/"
    },
    "executionInfo": {
     "elapsed": 37,
     "status": "ok",
     "timestamp": 1622926985766,
     "user": {
      "displayName": "Thomas Rico",
      "photoUrl": "",
      "userId": "03459133432310094050"
     },
     "user_tz": -180
    },
    "id": "E6EkGClj-G-Y",
    "outputId": "142f78af-09f9-4bcf-8091-367c680553a4"
   },
   "outputs": [],
   "source": []
  },
  {
   "cell_type": "code",
   "execution_count": null,
   "metadata": {
    "colab": {
     "base_uri": "https://localhost:8080/"
    },
    "executionInfo": {
     "elapsed": 37,
     "status": "ok",
     "timestamp": 1622926985767,
     "user": {
      "displayName": "Thomas Rico",
      "photoUrl": "",
      "userId": "03459133432310094050"
     },
     "user_tz": -180
    },
    "id": "GBoBhIEs-G-Y",
    "outputId": "ebd3146a-472f-4044-daf4-67d0e1064845"
   },
   "outputs": [],
   "source": []
  },
  {
   "cell_type": "code",
   "execution_count": null,
   "metadata": {
    "colab": {
     "base_uri": "https://localhost:8080/",
     "height": 511
    },
    "executionInfo": {
     "elapsed": 591,
     "status": "ok",
     "timestamp": 1622926986330,
     "user": {
      "displayName": "Thomas Rico",
      "photoUrl": "",
      "userId": "03459133432310094050"
     },
     "user_tz": -180
    },
    "id": "yJ6vg449-G-Y",
    "outputId": "f294603c-8528-4392-b8f3-a2a9df5abc39"
   },
   "outputs": [],
   "source": []
  },
  {
   "cell_type": "code",
   "execution_count": null,
   "metadata": {
    "colab": {
     "base_uri": "https://localhost:8080/",
     "height": 551
    },
    "executionInfo": {
     "elapsed": 6,
     "status": "ok",
     "timestamp": 1622926986331,
     "user": {
      "displayName": "Thomas Rico",
      "photoUrl": "",
      "userId": "03459133432310094050"
     },
     "user_tz": -180
    },
    "id": "JnbSBMEF-G-Y",
    "outputId": "a4f5bcc6-22d9-4348-ef8b-18040a4c5723"
   },
   "outputs": [],
   "source": [
    "# with pandas\n"
   ]
  },
  {
   "cell_type": "code",
   "execution_count": null,
   "metadata": {
    "colab": {
     "base_uri": "https://localhost:8080/",
     "height": 551
    },
    "executionInfo": {
     "elapsed": 363,
     "status": "ok",
     "timestamp": 1622926986690,
     "user": {
      "displayName": "Thomas Rico",
      "photoUrl": "",
      "userId": "03459133432310094050"
     },
     "user_tz": -180
    },
    "id": "MPq2DiUJ-G-Y",
    "outputId": "4c0e61c5-9734-41a6-e4e8-f5c424e7519d"
   },
   "outputs": [],
   "source": [
    "# with matplotlib\n"
   ]
  },
  {
   "cell_type": "code",
   "execution_count": null,
   "metadata": {
    "id": "tRAjYkN_MqkZ"
   },
   "outputs": [],
   "source": []
  }
 ],
 "metadata": {
  "colab": {
   "collapsed_sections": [],
   "name": "Assignment-1 student.ipynb",
   "provenance": [],
   "toc_visible": true
  },
  "kernelspec": {
   "display_name": "Python 3",
   "language": "python",
   "name": "python3"
  },
  "language_info": {
   "codemirror_mode": {
    "name": "ipython",
    "version": 3
   },
   "file_extension": ".py",
   "mimetype": "text/x-python",
   "name": "python",
   "nbconvert_exporter": "python",
   "pygments_lexer": "ipython3",
   "version": "3.8.8"
  }
 },
 "nbformat": 4,
 "nbformat_minor": 1
}
