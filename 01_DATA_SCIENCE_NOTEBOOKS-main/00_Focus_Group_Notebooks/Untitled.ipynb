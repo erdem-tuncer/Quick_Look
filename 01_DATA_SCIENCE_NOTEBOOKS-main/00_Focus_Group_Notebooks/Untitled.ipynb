{
 "cells": [
  {
   "cell_type": "code",
   "execution_count": 2,
   "id": "c1e58ad7",
   "metadata": {},
   "outputs": [],
   "source": [
    "import re"
   ]
  },
  {
   "cell_type": "code",
   "execution_count": 3,
   "id": "14ada686",
   "metadata": {},
   "outputs": [],
   "source": [
    "text = \"A78L41KG\""
   ]
  },
  {
   "cell_type": "code",
   "execution_count": 5,
   "id": "3f33543f",
   "metadata": {},
   "outputs": [
    {
     "data": {
      "text/plain": [
       "'KG'"
      ]
     },
     "execution_count": 5,
     "metadata": {},
     "output_type": "execute_result"
    }
   ],
   "source": [
    "non_num = re.search(\"\\D\\D\", text)\n",
    "non_num.group()"
   ]
  },
  {
   "cell_type": "code",
   "execution_count": 7,
   "id": "2eeb0317",
   "metadata": {},
   "outputs": [
    {
     "data": {
      "text/plain": [
       "str"
      ]
     },
     "execution_count": 7,
     "metadata": {},
     "output_type": "execute_result"
    }
   ],
   "source": [
    "type(non_num.group())"
   ]
  },
  {
   "cell_type": "code",
   "execution_count": 6,
   "id": "45230be3",
   "metadata": {},
   "outputs": [
    {
     "name": "stdout",
     "output_type": "stream",
     "text": [
      "KG\n"
     ]
    }
   ],
   "source": [
    "print(non_num.group())"
   ]
  },
  {
   "cell_type": "code",
   "execution_count": 8,
   "id": "9d80bee1",
   "metadata": {},
   "outputs": [
    {
     "name": "stdout",
     "output_type": "stream",
     "text": [
      "KG\n"
     ]
    },
    {
     "data": {
      "text/plain": [
       "NoneType"
      ]
     },
     "execution_count": 8,
     "metadata": {},
     "output_type": "execute_result"
    }
   ],
   "source": [
    "type(print(non_num.group()))"
   ]
  },
  {
   "cell_type": "code",
   "execution_count": 9,
   "id": "b415a59b",
   "metadata": {},
   "outputs": [],
   "source": [
    "text = \"My phone number is 5556667777\""
   ]
  },
  {
   "cell_type": "code",
   "execution_count": 12,
   "id": "e13cbc33",
   "metadata": {},
   "outputs": [
    {
     "name": "stdout",
     "output_type": "stream",
     "text": [
      "5556667777\n"
     ]
    }
   ],
   "source": [
    "tel_num = re.search(\"\\d\"*10,text)\n",
    "print(tel_num.group())"
   ]
  },
  {
   "cell_type": "code",
   "execution_count": 13,
   "id": "4281c585",
   "metadata": {},
   "outputs": [],
   "source": [
    "text = \"my 2nd number is 5556667777\""
   ]
  },
  {
   "cell_type": "code",
   "execution_count": 17,
   "id": "0ef9d6ec",
   "metadata": {},
   "outputs": [
    {
     "name": "stdout",
     "output_type": "stream",
     "text": [
      "5556667777\n"
     ]
    }
   ],
   "source": [
    "tel_num_cagri = re.search(\"\\d{10,10}\", text)\n",
    "print(tel_num_cagri.group())"
   ]
  },
  {
   "cell_type": "code",
   "execution_count": null,
   "id": "3aac8495",
   "metadata": {},
   "outputs": [],
   "source": []
  },
  {
   "cell_type": "code",
   "execution_count": null,
   "id": "dd36c3d4",
   "metadata": {},
   "outputs": [],
   "source": []
  },
  {
   "cell_type": "code",
   "execution_count": null,
   "id": "67892260",
   "metadata": {},
   "outputs": [],
   "source": []
  },
  {
   "cell_type": "code",
   "execution_count": null,
   "id": "0349b05b",
   "metadata": {},
   "outputs": [],
   "source": []
  },
  {
   "cell_type": "code",
   "execution_count": null,
   "id": "c0adba1d",
   "metadata": {},
   "outputs": [],
   "source": []
  },
  {
   "cell_type": "code",
   "execution_count": null,
   "id": "37cd1a45",
   "metadata": {},
   "outputs": [],
   "source": []
  },
  {
   "cell_type": "code",
   "execution_count": null,
   "id": "6e2cab22",
   "metadata": {},
   "outputs": [],
   "source": []
  },
  {
   "cell_type": "code",
   "execution_count": null,
   "id": "18efda76",
   "metadata": {},
   "outputs": [],
   "source": []
  },
  {
   "cell_type": "code",
   "execution_count": null,
   "id": "bd68a420",
   "metadata": {},
   "outputs": [],
   "source": []
  },
  {
   "cell_type": "code",
   "execution_count": null,
   "id": "5405039a",
   "metadata": {},
   "outputs": [],
   "source": []
  },
  {
   "cell_type": "code",
   "execution_count": null,
   "id": "0c95b784",
   "metadata": {},
   "outputs": [],
   "source": []
  },
  {
   "cell_type": "code",
   "execution_count": null,
   "id": "9b58673e",
   "metadata": {},
   "outputs": [],
   "source": []
  },
  {
   "cell_type": "code",
   "execution_count": null,
   "id": "023acabe",
   "metadata": {},
   "outputs": [],
   "source": []
  }
 ],
 "metadata": {
  "kernelspec": {
   "display_name": "Python 3",
   "language": "python",
   "name": "python3"
  },
  "language_info": {
   "codemirror_mode": {
    "name": "ipython",
    "version": 3
   },
   "file_extension": ".py",
   "mimetype": "text/x-python",
   "name": "python",
   "nbconvert_exporter": "python",
   "pygments_lexer": "ipython3",
   "version": "3.8.8"
  }
 },
 "nbformat": 4,
 "nbformat_minor": 5
}
