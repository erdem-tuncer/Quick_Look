{
 "cells": [
  {
   "cell_type": "markdown",
   "id": "bb81d953",
   "metadata": {},
   "source": [
    "# Write a python program that takes a name and returns a greeting in the form of a string."
   ]
  },
  {
   "cell_type": "code",
   "execution_count": 8,
   "id": "86c7ec00",
   "metadata": {},
   "outputs": [],
   "source": [
    "def merhaba():\n",
    "    name = str(input(\"please write your name\"))\n",
    "    return \"Wellcome\", name, \":). How are you today?\""
   ]
  },
  {
   "cell_type": "code",
   "execution_count": 9,
   "id": "036e44c7",
   "metadata": {},
   "outputs": [
    {
     "name": "stdout",
     "output_type": "stream",
     "text": [
      "please write your nameerdem\n"
     ]
    },
    {
     "data": {
      "text/plain": [
       "('Wellcome', 'erdem', ':). How are you today?')"
      ]
     },
     "execution_count": 9,
     "metadata": {},
     "output_type": "execute_result"
    }
   ],
   "source": [
    "merhaba()"
   ]
  },
  {
   "cell_type": "code",
   "execution_count": 5,
   "id": "a0ed12b3",
   "metadata": {},
   "outputs": [],
   "source": [
    "#solution\n",
    "def hello_there(name):\n",
    "    return \"Hello {}!\".format(name)\n"
   ]
  },
  {
   "cell_type": "code",
   "execution_count": 6,
   "id": "942662aa",
   "metadata": {},
   "outputs": [
    {
     "data": {
      "text/plain": [
       "'Hello Tamer!'"
      ]
     },
     "execution_count": 6,
     "metadata": {},
     "output_type": "execute_result"
    }
   ],
   "source": [
    "hello_there('Tamer')"
   ]
  },
  {
   "cell_type": "code",
   "execution_count": 12,
   "id": "06adb0f1",
   "metadata": {},
   "outputs": [],
   "source": [
    "def hello(name):\n",
    "    return 'Hello {}'.format(name)"
   ]
  },
  {
   "cell_type": "code",
   "execution_count": 13,
   "id": "79107f92",
   "metadata": {},
   "outputs": [
    {
     "data": {
      "text/plain": [
       "'Hello mah'"
      ]
     },
     "execution_count": 13,
     "metadata": {},
     "output_type": "execute_result"
    }
   ],
   "source": [
    "hello('mah')"
   ]
  },
  {
   "cell_type": "markdown",
   "id": "5f1ab845",
   "metadata": {},
   "source": [
    "#Coding Exercise (2)\n",
    "https://www.udemy.com/course/python-exercises-workbook/learn/lecture/22528266#overview"
   ]
  },
  {
   "cell_type": "markdown",
   "id": "2ac0ab31",
   "metadata": {},
   "source": [
    " Write a Python program that Create a function that gives True if a string is empty and False otherwise.\n",
    "- Try it for '' and '   5gh'"
   ]
  },
  {
   "cell_type": "code",
   "execution_count": 1,
   "id": "21b394b2",
   "metadata": {},
   "outputs": [],
   "source": [
    "def empty(st):\n",
    "    return not st\n"
   ]
  },
  {
   "cell_type": "code",
   "execution_count": 2,
   "id": "b9e77a0b",
   "metadata": {},
   "outputs": [
    {
     "data": {
      "text/plain": [
       "True"
      ]
     },
     "execution_count": 2,
     "metadata": {},
     "output_type": "execute_result"
    }
   ],
   "source": [
    "empty('')"
   ]
  },
  {
   "cell_type": "code",
   "execution_count": 3,
   "id": "d99c76d6",
   "metadata": {},
   "outputs": [
    {
     "data": {
      "text/plain": [
       "False"
      ]
     },
     "execution_count": 3,
     "metadata": {},
     "output_type": "execute_result"
    }
   ],
   "source": [
    "empty('   5gh')"
   ]
  },
  {
   "cell_type": "markdown",
   "id": "b6792d7a",
   "metadata": {},
   "source": [
    "- Write a Python program that remove the extra spaces from the following string:\n",
    "' I am        learning Python      bject        oriented     programming '"
   ]
  },
  {
   "cell_type": "code",
   "execution_count": 19,
   "id": "4dd95b41",
   "metadata": {},
   "outputs": [],
   "source": [
    "sadasdasd = ' I am        learning Python      bject        oriented     programming '"
   ]
  },
  {
   "cell_type": "code",
   "execution_count": 21,
   "id": "dfb3608a",
   "metadata": {
    "scrolled": true
   },
   "outputs": [
    {
     "data": {
      "text/plain": [
       "['I', 'am', 'learning', 'Python', 'bject', 'oriented', 'programming']"
      ]
     },
     "execution_count": 21,
     "metadata": {},
     "output_type": "execute_result"
    }
   ],
   "source": [
    "sadasdasd.split()"
   ]
  },
  {
   "cell_type": "code",
   "execution_count": 23,
   "id": "ecc39b29",
   "metadata": {},
   "outputs": [],
   "source": [
    "def clean_up(sentnce):\n",
    "    res = \" \".join(sentnce.split())\n",
    "    return res"
   ]
  },
  {
   "cell_type": "code",
   "execution_count": 24,
   "id": "f9f7c379",
   "metadata": {},
   "outputs": [
    {
     "data": {
      "text/plain": [
       "'I am learning Python bject oriented programming'"
      ]
     },
     "execution_count": 24,
     "metadata": {},
     "output_type": "execute_result"
    }
   ],
   "source": [
    "clean_up(' I am        learning Python      bject        oriented     programming ')"
   ]
  },
  {
   "cell_type": "code",
   "execution_count": null,
   "id": "f857f441",
   "metadata": {},
   "outputs": [],
   "source": [
    "#solution"
   ]
  },
  {
   "cell_type": "code",
   "execution_count": 12,
   "id": "ebe0007c",
   "metadata": {},
   "outputs": [],
   "source": [
    "def remove_extra_spacing(st):\n",
    "    return ' '.join(st.split())\n"
   ]
  },
  {
   "cell_type": "code",
   "execution_count": 13,
   "id": "4263bd0c",
   "metadata": {},
   "outputs": [
    {
     "data": {
      "text/plain": [
       "'I am learning Python bject oriented programming'"
      ]
     },
     "execution_count": 13,
     "metadata": {},
     "output_type": "execute_result"
    }
   ],
   "source": [
    "remove_extra_spacing(' I am        learning Python      bject        oriented     programming ')"
   ]
  },
  {
   "cell_type": "markdown",
   "id": "5e55fdcd",
   "metadata": {},
   "source": [
    "Coding Exercise (4)\n",
    "- Write a python program that reverse the case of string :\n",
    "string = \"I am a python developer\""
   ]
  },
  {
   "cell_type": "code",
   "execution_count": 25,
   "id": "0c5ed643",
   "metadata": {},
   "outputs": [],
   "source": [
    "#def reverse_sent(st):\n",
    "#    return st[::-1]"
   ]
  },
  {
   "cell_type": "code",
   "execution_count": 26,
   "id": "7f329d52",
   "metadata": {},
   "outputs": [],
   "source": [
    "#string = \"I am a python developer\""
   ]
  },
  {
   "cell_type": "code",
   "execution_count": 27,
   "id": "8ffa4414",
   "metadata": {},
   "outputs": [
    {
     "data": {
      "text/plain": [
       "'repoleved nohtyp a ma I'"
      ]
     },
     "execution_count": 27,
     "metadata": {},
     "output_type": "execute_result"
    }
   ],
   "source": [
    "#reverse_sent(string)\n",
    "#wrong answer"
   ]
  },
  {
   "cell_type": "code",
   "execution_count": 30,
   "id": "541fd84a",
   "metadata": {},
   "outputs": [],
   "source": [
    "#solution\n",
    "\n",
    "def reverse_case(s):\n",
    "    return s.swapcase()\n",
    "    "
   ]
  },
  {
   "cell_type": "code",
   "execution_count": 31,
   "id": "d6698550",
   "metadata": {},
   "outputs": [
    {
     "data": {
      "text/plain": [
       "'i AM A PYTHON DEVELOPER'"
      ]
     },
     "execution_count": 31,
     "metadata": {},
     "output_type": "execute_result"
    }
   ],
   "source": [
    "\n",
    "reverse_case(\"I am a python developer\")"
   ]
  },
  {
   "cell_type": "markdown",
   "id": "6fe55682",
   "metadata": {},
   "source": [
    "Coding Exercise (5)\n",
    "- Display the number of letters in the string:\n",
    "my_word = \"Python is wonderful\""
   ]
  },
  {
   "cell_type": "code",
   "execution_count": 35,
   "id": "08fbc91e",
   "metadata": {},
   "outputs": [],
   "source": [
    "def count_letter(st):\n",
    "    return len(st)"
   ]
  },
  {
   "cell_type": "code",
   "execution_count": 38,
   "id": "249268e1",
   "metadata": {},
   "outputs": [
    {
     "data": {
      "text/plain": [
       "19"
      ]
     },
     "execution_count": 38,
     "metadata": {},
     "output_type": "execute_result"
    }
   ],
   "source": [
    "count_letter('Python is wonderful')"
   ]
  },
  {
   "cell_type": "code",
   "execution_count": 37,
   "id": "647bc357",
   "metadata": {},
   "outputs": [
    {
     "name": "stdout",
     "output_type": "stream",
     "text": [
      "19\n"
     ]
    }
   ],
   "source": [
    "#solution\n",
    "my_word = \"Python is wonderful\"\n",
    "\n",
    "print(len(my_word))"
   ]
  },
  {
   "cell_type": "markdown",
   "id": "eecfbf6f",
   "metadata": {},
   "source": [
    "Coding Exercise (6)\n",
    "- Concatenate the following two strings together:\n",
    "string_left = \"Spider\"\n",
    "string_right = \"man\""
   ]
  },
  {
   "cell_type": "code",
   "execution_count": 39,
   "id": "d72e2cc3",
   "metadata": {},
   "outputs": [],
   "source": [
    "def concat_baby(str1,str2):\n",
    "    return str1 + str2"
   ]
  },
  {
   "cell_type": "code",
   "execution_count": 40,
   "id": "5e98e051",
   "metadata": {},
   "outputs": [
    {
     "data": {
      "text/plain": [
       "'Spiderman'"
      ]
     },
     "execution_count": 40,
     "metadata": {},
     "output_type": "execute_result"
    }
   ],
   "source": [
    "str1= \"Spider\"\n",
    "str2=\"man\"\n",
    "concat_baby(str1,str2)"
   ]
  },
  {
   "cell_type": "code",
   "execution_count": 41,
   "id": "41820e14",
   "metadata": {},
   "outputs": [
    {
     "name": "stdout",
     "output_type": "stream",
     "text": [
      "Spiderman\n"
     ]
    }
   ],
   "source": [
    "#solution\n",
    "string_left = \"Spider\"\n",
    "\n",
    "\n",
    "\n",
    "string_right = \"man\"\n",
    "\n",
    "\n",
    "\n",
    "print(string_left + string_right)"
   ]
  },
  {
   "cell_type": "code",
   "execution_count": null,
   "id": "ef90fc30",
   "metadata": {},
   "outputs": [],
   "source": [
    "Coding Exercise (7)\n",
    "- Display two strings together, with a space in between\n",
    "string_one = \"Python\"\n",
    "string_two = \"Programming\""
   ]
  },
  {
   "cell_type": "code",
   "execution_count": 44,
   "id": "8eea20b3",
   "metadata": {},
   "outputs": [],
   "source": [
    "def concat_baby_spc(str1,str2):\n",
    "    return str1 + ' ' + str2"
   ]
  },
  {
   "cell_type": "code",
   "execution_count": 45,
   "id": "4a05ac3b",
   "metadata": {},
   "outputs": [
    {
     "data": {
      "text/plain": [
       "'Spider man'"
      ]
     },
     "execution_count": 45,
     "metadata": {},
     "output_type": "execute_result"
    }
   ],
   "source": [
    "concat_baby_spc(str1,str2)"
   ]
  },
  {
   "cell_type": "code",
   "execution_count": 46,
   "id": "493e0c55",
   "metadata": {},
   "outputs": [
    {
     "name": "stdout",
     "output_type": "stream",
     "text": [
      "Python Programming\n"
     ]
    }
   ],
   "source": [
    "#solution\n",
    "string_one = \"Python\"\n",
    "string_two = \"Programming\"\n",
    "\n",
    "print(string_one + \" \" + string_two)"
   ]
  },
  {
   "cell_type": "markdown",
   "id": "8ba7aa55",
   "metadata": {},
   "source": [
    "- Use sub scripting to display part of a string\n",
    "\"Python\""
   ]
  },
  {
   "cell_type": "code",
   "execution_count": 47,
   "id": "36d3791d",
   "metadata": {},
   "outputs": [
    {
     "name": "stdout",
     "output_type": "stream",
     "text": [
      "ho\n"
     ]
    }
   ],
   "source": [
    "print(\"python\"[3:5])"
   ]
  },
  {
   "cell_type": "code",
   "execution_count": 51,
   "id": "f8968583",
   "metadata": {},
   "outputs": [],
   "source": [
    "##- Switch the case of the following strings into lower case :\n",
    "string1 = \"Python\"\n",
    "string2 = \"Programming\"\n",
    "string3 = \"Language\""
   ]
  },
  {
   "cell_type": "code",
   "execution_count": 61,
   "id": "e4f811ee",
   "metadata": {},
   "outputs": [
    {
     "name": "stdout",
     "output_type": "stream",
     "text": [
      "python\n",
      "programming\n",
      "language\n"
     ]
    }
   ],
   "source": [
    "print(string1.lower())\n",
    "print(string2.lower())\n",
    "print(string3.lower())"
   ]
  },
  {
   "cell_type": "markdown",
   "id": "36cf355d",
   "metadata": {},
   "source": [
    "Coding Exercise (10)\n",
    "- Replace every occurrence of the character \"s\" with the character \"x\"\n",
    "phrase = \"Somebody said something to Sara.\""
   ]
  },
  {
   "cell_type": "code",
   "execution_count": 63,
   "id": "5dc5f590",
   "metadata": {},
   "outputs": [
    {
     "name": "stdout",
     "output_type": "stream",
     "text": [
      "Somebody xaid xomething to Sara.\n"
     ]
    }
   ],
   "source": [
    "phrase = \"Somebody said something to Sara.\"\n",
    "print(phrase.replace(\"s\",\"x\"))"
   ]
  },
  {
   "cell_type": "code",
   "execution_count": 64,
   "id": "d372a0c8",
   "metadata": {},
   "outputs": [
    {
     "name": "stdout",
     "output_type": "stream",
     "text": [
      "Somebody xaid xomething to Sara.\n"
     ]
    }
   ],
   "source": [
    "#solution\n",
    "phrase = \"Somebody said something to Sara.\"\n",
    "phrase = phrase.replace(\"s\", \"x\")\n",
    "print(phrase)"
   ]
  },
  {
   "cell_type": "code",
   "execution_count": null,
   "id": "a245f49c",
   "metadata": {},
   "outputs": [],
   "source": []
  },
  {
   "cell_type": "code",
   "execution_count": 66,
   "id": "280df731",
   "metadata": {},
   "outputs": [
    {
     "data": {
      "text/plain": [
       "2.5"
      ]
     },
     "execution_count": 66,
     "metadata": {},
     "output_type": "execute_result"
    }
   ],
   "source": [
    "5/2"
   ]
  },
  {
   "cell_type": "code",
   "execution_count": 67,
   "id": "611c1b7e",
   "metadata": {},
   "outputs": [
    {
     "data": {
      "text/plain": [
       "2"
      ]
     },
     "execution_count": 67,
     "metadata": {},
     "output_type": "execute_result"
    }
   ],
   "source": [
    "5//2"
   ]
  },
  {
   "cell_type": "markdown",
   "id": "fea8ba90",
   "metadata": {},
   "source": [
    "Coding Exercise (11)\n",
    "In one of  Famous Coffee Mixer shops chain every 6 days with every day one cup of coffee customer buys, customer gets a 7th cup free in the weekend (Sunday)!\n",
    "Create a Python program that takes numbers of cups bought and return the total number of cups that customer would get and\n",
    "also the number of  free cups for one month( for both 30 days & 31 days):"
   ]
  },
  {
   "cell_type": "code",
   "execution_count": 72,
   "id": "a75fd4ae",
   "metadata": {},
   "outputs": [
    {
     "name": "stdout",
     "output_type": "stream",
     "text": [
      "Total cups for 30 days = 35\n",
      "Free cups in 30 days = 6.0\n",
      "Total cups for 31 days = 36\n",
      "Free cups in 31 days = 6.0\n"
     ]
    }
   ],
   "source": [
    "n = 30\n",
    "def total_cups_cust(n):\n",
    "    return n//6 + n\n",
    "\n",
    "total_cups = total_cups_cust(n)\n",
    "def total_cups_gets_free(total_cups):\n",
    "        return round(total_cups/6, 0)\n",
    "\n",
    "print(('Total cups for 30 days = ') + str(total_cups_cust(n)))\n",
    "print(('Free cups in 30 days = ') + str(total_cups_gets_free(total_cups)))\n",
    "     \n",
    "n = 31\n",
    "print(('Total cups for 31 days = ') + str(total_cups_cust(n)))\n",
    "print(('Free cups in 31 days = ') + str(total_cups_gets_free(total_cups)))"
   ]
  },
  {
   "cell_type": "code",
   "execution_count": null,
   "id": "a6b64440",
   "metadata": {},
   "outputs": [],
   "source": [
    "https://www.udemy.com/course/python-exercises-workbook/learn/lecture/22536678#overview"
   ]
  },
  {
   "cell_type": "code",
   "execution_count": null,
   "id": "1d8c8a99",
   "metadata": {},
   "outputs": [],
   "source": []
  },
  {
   "cell_type": "markdown",
   "id": "40b5a366",
   "metadata": {},
   "source": [
    "Coding Exercise (12)\n",
    "Write a Python program to return the last item in a list ?\n",
    "x = [1,2,3,4,5,6,7,8,9,10]\n",
    "y = [10,20,30,40,50,60,70,80,90,100]\n",
    "z = [110,220,330,440,550,660,770,880,990]"
   ]
  },
  {
   "cell_type": "code",
   "execution_count": 1,
   "id": "af6f4b29",
   "metadata": {},
   "outputs": [],
   "source": [
    "def last_num(n):\n",
    "    return(n[-1])"
   ]
  },
  {
   "cell_type": "code",
   "execution_count": 2,
   "id": "f50754cd",
   "metadata": {},
   "outputs": [],
   "source": [
    "x = [1,2,3,4,5,6,7,8,9,10]\n",
    "y = [10,20,30,40,50,60,70,80,90,100]\n",
    "z = [110,220,330,440,550,660,770,880,990]"
   ]
  },
  {
   "cell_type": "code",
   "execution_count": 3,
   "id": "ee1e163a",
   "metadata": {},
   "outputs": [
    {
     "data": {
      "text/plain": [
       "10"
      ]
     },
     "execution_count": 3,
     "metadata": {},
     "output_type": "execute_result"
    }
   ],
   "source": [
    "last_num(x)"
   ]
  },
  {
   "cell_type": "markdown",
   "id": "c2e07fbd",
   "metadata": {},
   "source": [
    "Coding Exercise (13)\n",
    "Write a Python program to reverse a list."
   ]
  },
  {
   "cell_type": "code",
   "execution_count": 4,
   "id": "a1ad96cc",
   "metadata": {},
   "outputs": [],
   "source": [
    "def return_list(x):\n",
    "    return(x[::-1])"
   ]
  },
  {
   "cell_type": "code",
   "execution_count": 5,
   "id": "8245bf77",
   "metadata": {},
   "outputs": [
    {
     "data": {
      "text/plain": [
       "[10, 9, 8, 7, 6, 5, 4, 3, 2, 1]"
      ]
     },
     "execution_count": 5,
     "metadata": {},
     "output_type": "execute_result"
    }
   ],
   "source": [
    "return_list(x)"
   ]
  },
  {
   "cell_type": "markdown",
   "id": "fbda16ff",
   "metadata": {},
   "source": [
    "Coding Exercise (14)\n",
    "Write a python program that return the difference between first and last items in a list?\n",
    "a = [110,140,170,200,230,260,290,320,350,380,410,440,470,500]"
   ]
  },
  {
   "cell_type": "code",
   "execution_count": 8,
   "id": "fcc20461",
   "metadata": {},
   "outputs": [],
   "source": [
    "def difference(n):\n",
    "    return x[0]-x[-1]"
   ]
  },
  {
   "cell_type": "code",
   "execution_count": 9,
   "id": "800c6e96",
   "metadata": {},
   "outputs": [
    {
     "data": {
      "text/plain": [
       "-9"
      ]
     },
     "execution_count": 9,
     "metadata": {},
     "output_type": "execute_result"
    }
   ],
   "source": [
    "difference(x)"
   ]
  },
  {
   "cell_type": "markdown",
   "id": "f2636e6d",
   "metadata": {},
   "source": [
    "Coding Exercise (15)\n",
    "Write a python program that return the sum of the absolute value of each element of a list :\n",
    "x = [10,20,30,40,50]"
   ]
  },
  {
   "cell_type": "code",
   "execution_count": 12,
   "id": "51a50432",
   "metadata": {},
   "outputs": [],
   "source": [
    "def sum_of_abs(list):\n",
    "    sum_s = 0\n",
    "    for i in list:\n",
    "        sum_s += abs(i)\n",
    "    return sum_s\n",
    "        "
   ]
  },
  {
   "cell_type": "code",
   "execution_count": 13,
   "id": "a4f41347",
   "metadata": {},
   "outputs": [
    {
     "data": {
      "text/plain": [
       "55"
      ]
     },
     "execution_count": 13,
     "metadata": {},
     "output_type": "execute_result"
    }
   ],
   "source": [
    "sum_of_abs(x)"
   ]
  },
  {
   "cell_type": "code",
   "execution_count": 14,
   "id": "b022b686",
   "metadata": {},
   "outputs": [],
   "source": [
    "# solution\n",
    "def abs_sum(x):\n",
    "    return sum(map(abs, x))"
   ]
  },
  {
   "cell_type": "code",
   "execution_count": 15,
   "id": "df763414",
   "metadata": {},
   "outputs": [
    {
     "data": {
      "text/plain": [
       "55"
      ]
     },
     "execution_count": 15,
     "metadata": {},
     "output_type": "execute_result"
    }
   ],
   "source": [
    "abs_sum(x)"
   ]
  },
  {
   "cell_type": "code",
   "execution_count": 19,
   "id": "b24326b8",
   "metadata": {},
   "outputs": [
    {
     "name": "stdout",
     "output_type": "stream",
     "text": [
      "1 2 3 4 5 6 7 8 9 10\n"
     ]
    }
   ],
   "source": [
    "print(*map(abs,x))"
   ]
  },
  {
   "cell_type": "markdown",
   "id": "ceb4ea11",
   "metadata": {},
   "source": [
    "Coding Exercise (16)\n",
    "Write a python program that Return the largest number in the list.\n",
    "x = [10,20,30,40,50,60,70,80,90,100]"
   ]
  },
  {
   "cell_type": "code",
   "execution_count": 20,
   "id": "7ba0a3bc",
   "metadata": {},
   "outputs": [],
   "source": [
    "def largest(list):\n",
    "    return max(list)"
   ]
  },
  {
   "cell_type": "code",
   "execution_count": 21,
   "id": "e5fbd84c",
   "metadata": {},
   "outputs": [
    {
     "data": {
      "text/plain": [
       "10"
      ]
     },
     "execution_count": 21,
     "metadata": {},
     "output_type": "execute_result"
    }
   ],
   "source": [
    "largest(x)"
   ]
  },
  {
   "cell_type": "code",
   "execution_count": null,
   "id": "69e8c383",
   "metadata": {},
   "outputs": [],
   "source": [
    "Write a Python program that accepts a list and returns the last item in the list.\n",
    "Try it for the following list:\n",
    "x= [ 1,2,3,4,5,'a','b','c','d','e']"
   ]
  },
  {
   "cell_type": "code",
   "execution_count": 22,
   "id": "0ce6ce29",
   "metadata": {},
   "outputs": [],
   "source": [
    "def last_item(list):\n",
    "    return list[-1]"
   ]
  },
  {
   "cell_type": "code",
   "execution_count": 24,
   "id": "b8a49e7e",
   "metadata": {},
   "outputs": [],
   "source": [
    "x= [ 1,2,3,4,5,'a','b','c','d','e']"
   ]
  },
  {
   "cell_type": "code",
   "execution_count": 25,
   "id": "aaf76238",
   "metadata": {},
   "outputs": [
    {
     "data": {
      "text/plain": [
       "'e'"
      ]
     },
     "execution_count": 25,
     "metadata": {},
     "output_type": "execute_result"
    }
   ],
   "source": [
    "last_item(x)"
   ]
  },
  {
   "cell_type": "markdown",
   "id": "91824b41",
   "metadata": {},
   "source": [
    "Coding Exercise (18)\n",
    "create a Python program to sort a list in ascending order which starting from the left of the list and,compare numbers by pairs. If the first pair is ordered [smaller number, larger number], and  so on.\n",
    "If the first pair is ordered [larger number, smaller number], swap the two integers before moving on to the next pair.\n",
    "then repeat this process again until you get to the end of the list.\n",
    "Then, return to the beginning of the list and repeats this process again until the entire list is sorted.\n",
    "If the unsorted list is: [5,100,20,15,150,80,210,30], what is the number of swaps you will need?"
   ]
  },
  {
   "cell_type": "code",
   "execution_count": 26,
   "id": "bbb9c9cb",
   "metadata": {},
   "outputs": [],
   "source": [
    "#solution\n",
    "\n",
    "def number_of_swaps(lst):\n",
    "\n",
    "    swaps, target = 0, sorted(lst)\n",
    "\n",
    "    while lst != target:\n",
    "\n",
    "        for i in range(len(lst) - 1):\n",
    "\n",
    "            lst[i], lst[i+1] = lst[i+1], lst[i]\n",
    "\n",
    "            swaps += 1\n",
    "\n",
    "        return swaps"
   ]
  },
  {
   "cell_type": "code",
   "execution_count": 27,
   "id": "17d7cef7",
   "metadata": {},
   "outputs": [
    {
     "data": {
      "text/plain": [
       "7"
      ]
     },
     "execution_count": 27,
     "metadata": {},
     "output_type": "execute_result"
    }
   ],
   "source": [
    "number_of_swaps([5,100,20,15,150,80,210,30])"
   ]
  },
  {
   "cell_type": "code",
   "execution_count": null,
   "id": "c1b1156a",
   "metadata": {},
   "outputs": [],
   "source": []
  },
  {
   "cell_type": "code",
   "execution_count": null,
   "id": "f7e168c2",
   "metadata": {},
   "outputs": [],
   "source": []
  },
  {
   "cell_type": "code",
   "execution_count": null,
   "id": "4110e797",
   "metadata": {},
   "outputs": [],
   "source": []
  },
  {
   "cell_type": "code",
   "execution_count": 3,
   "id": "89dd5c30",
   "metadata": {},
   "outputs": [],
   "source": [
    "def return_num(liste):\n",
    "    numb, target = 0, sorted(liste)\n",
    "    while liste != target:\n",
    "        for i in range(len(liste)-1):\n",
    "            liste[i], liste[i+1] = liste[i+1], liste[i]\n",
    "            \n",
    "            numb += 1\n",
    "        return numb"
   ]
  },
  {
   "cell_type": "code",
   "execution_count": 4,
   "id": "61f02e9e",
   "metadata": {},
   "outputs": [
    {
     "data": {
      "text/plain": [
       "7"
      ]
     },
     "execution_count": 4,
     "metadata": {},
     "output_type": "execute_result"
    }
   ],
   "source": [
    "return_num([5,100,20,15,150,80,210,30])"
   ]
  },
  {
   "cell_type": "code",
   "execution_count": null,
   "id": "f22c82e0",
   "metadata": {},
   "outputs": [],
   "source": []
  },
  {
   "cell_type": "markdown",
   "id": "d8ff19d4",
   "metadata": {},
   "source": [
    "Coding Exercise (19)\n",
    "Create a function that accepts a list of numbers and return both the minimum and maximum numbers, in that order (as a list)."
   ]
  },
  {
   "cell_type": "code",
   "execution_count": 14,
   "id": "65b81657",
   "metadata": {},
   "outputs": [],
   "source": [
    "def re_num(liste):\n",
    "    return \"min value:\", min(liste), \"max value:\", max(liste)"
   ]
  },
  {
   "cell_type": "code",
   "execution_count": 15,
   "id": "391b3523",
   "metadata": {},
   "outputs": [
    {
     "data": {
      "text/plain": [
       "('min value:', 5, 'max value:', 210)"
      ]
     },
     "execution_count": 15,
     "metadata": {},
     "output_type": "execute_result"
    }
   ],
   "source": [
    "re_num([5,100,20,15,150,80,210,30])"
   ]
  },
  {
   "cell_type": "code",
   "execution_count": 16,
   "id": "1d0b4484",
   "metadata": {},
   "outputs": [],
   "source": [
    "def min_max(nums):\n",
    "\n",
    "  return [min(nums), max(nums)]"
   ]
  },
  {
   "cell_type": "code",
   "execution_count": 17,
   "id": "7e9f8a67",
   "metadata": {},
   "outputs": [
    {
     "data": {
      "text/plain": [
       "[5, 210]"
      ]
     },
     "execution_count": 17,
     "metadata": {},
     "output_type": "execute_result"
    }
   ],
   "source": [
    "min_max([5,100,20,15,150,80,210,30])"
   ]
  },
  {
   "cell_type": "markdown",
   "id": "f82da070",
   "metadata": {},
   "source": [
    "Write a Python program that complete an array with random numbers:"
   ]
  },
  {
   "cell_type": "code",
   "execution_count": 19,
   "id": "a383b6cf",
   "metadata": {},
   "outputs": [
    {
     "name": "stdout",
     "output_type": "stream",
     "text": [
      "\n"
     ]
    }
   ],
   "source": [
    "from random import randint\n",
    "\n",
    "x = 20\n",
    "array =[]\n",
    "\n",
    "for i in range(x):\n",
    "    array.append(randint(1,99))\n",
    "\n",
    "for i in array:\n",
    "    print(i, end= ' ')\n",
    "\n",
    "print()"
   ]
  },
  {
   "cell_type": "markdown",
   "id": "22053cd0",
   "metadata": {},
   "source": [
    "Create a Python program that takes a number and returns a list with the digits of the number in reverse order."
   ]
  },
  {
   "cell_type": "code",
   "execution_count": 21,
   "id": "fbc796bb",
   "metadata": {},
   "outputs": [],
   "source": [
    "def reverse_list(num):\n",
    "\n",
    "    return [int(i) for i in str(num)[::-1]]"
   ]
  },
  {
   "cell_type": "code",
   "execution_count": null,
   "id": "cbc55b94",
   "metadata": {},
   "outputs": [],
   "source": []
  }
 ],
 "metadata": {
  "kernelspec": {
   "display_name": "Python 3 (ipykernel)",
   "language": "python",
   "name": "python3"
  },
  "language_info": {
   "codemirror_mode": {
    "name": "ipython",
    "version": 3
   },
   "file_extension": ".py",
   "mimetype": "text/x-python",
   "name": "python",
   "nbconvert_exporter": "python",
   "pygments_lexer": "ipython3",
   "version": "3.9.7"
  }
 },
 "nbformat": 4,
 "nbformat_minor": 5
}
