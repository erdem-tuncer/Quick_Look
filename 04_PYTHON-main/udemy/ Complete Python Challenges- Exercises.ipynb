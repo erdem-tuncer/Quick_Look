{
 "cells": [
  {
   "cell_type": "markdown",
   "id": "bb81d953",
   "metadata": {},
   "source": [
    "# Write a python program that takes a name and returns a greeting in the form of a string."
   ]
  },
  {
   "cell_type": "code",
   "execution_count": 8,
   "id": "86c7ec00",
   "metadata": {},
   "outputs": [],
   "source": [
    "def merhaba():\n",
    "    name = str(input(\"please write your name\"))\n",
    "    return \"Wellcome\", name, \":). How are you today?\""
   ]
  },
  {
   "cell_type": "code",
   "execution_count": 9,
   "id": "036e44c7",
   "metadata": {},
   "outputs": [
    {
     "name": "stdout",
     "output_type": "stream",
     "text": [
      "please write your nameerdem\n"
     ]
    },
    {
     "data": {
      "text/plain": [
       "('Wellcome', 'erdem', ':). How are you today?')"
      ]
     },
     "execution_count": 9,
     "metadata": {},
     "output_type": "execute_result"
    }
   ],
   "source": [
    "merhaba()"
   ]
  },
  {
   "cell_type": "code",
   "execution_count": 5,
   "id": "a0ed12b3",
   "metadata": {},
   "outputs": [],
   "source": [
    "#solution\n",
    "def hello_there(name):\n",
    "    return \"Hello {}!\".format(name)\n"
   ]
  },
  {
   "cell_type": "code",
   "execution_count": 6,
   "id": "942662aa",
   "metadata": {},
   "outputs": [
    {
     "data": {
      "text/plain": [
       "'Hello Tamer!'"
      ]
     },
     "execution_count": 6,
     "metadata": {},
     "output_type": "execute_result"
    }
   ],
   "source": [
    "hello_there('Tamer')"
   ]
  },
  {
   "cell_type": "code",
   "execution_count": 12,
   "id": "06adb0f1",
   "metadata": {},
   "outputs": [],
   "source": [
    "def hello(name):\n",
    "    return 'Hello {}'.format(name)"
   ]
  },
  {
   "cell_type": "code",
   "execution_count": 13,
   "id": "79107f92",
   "metadata": {},
   "outputs": [
    {
     "data": {
      "text/plain": [
       "'Hello mah'"
      ]
     },
     "execution_count": 13,
     "metadata": {},
     "output_type": "execute_result"
    }
   ],
   "source": [
    "hello('mah')"
   ]
  },
  {
   "cell_type": "markdown",
   "id": "5f1ab845",
   "metadata": {},
   "source": [
    "#Coding Exercise (2)\n",
    "https://www.udemy.com/course/python-exercises-workbook/learn/lecture/22528266#overview"
   ]
  },
  {
   "cell_type": "code",
   "execution_count": null,
   "id": "a1aa668f",
   "metadata": {},
   "outputs": [],
   "source": []
  }
 ],
 "metadata": {
  "kernelspec": {
   "display_name": "Python 3 (ipykernel)",
   "language": "python",
   "name": "python3"
  },
  "language_info": {
   "codemirror_mode": {
    "name": "ipython",
    "version": 3
   },
   "file_extension": ".py",
   "mimetype": "text/x-python",
   "name": "python",
   "nbconvert_exporter": "python",
   "pygments_lexer": "ipython3",
   "version": "3.9.7"
  }
 },
 "nbformat": 4,
 "nbformat_minor": 5
}
