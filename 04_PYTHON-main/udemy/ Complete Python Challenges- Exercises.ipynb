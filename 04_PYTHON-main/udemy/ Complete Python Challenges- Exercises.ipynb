{
 "cells": [
  {
   "cell_type": "markdown",
   "id": "bb81d953",
   "metadata": {},
   "source": [
    "# Write a python program that takes a name and returns a greeting in the form of a string."
   ]
  },
  {
   "cell_type": "code",
   "execution_count": 8,
   "id": "86c7ec00",
   "metadata": {},
   "outputs": [],
   "source": [
    "def merhaba():\n",
    "    name = str(input(\"please write your name\"))\n",
    "    return \"Wellcome\", name, \":). How are you today?\""
   ]
  },
  {
   "cell_type": "code",
   "execution_count": 9,
   "id": "036e44c7",
   "metadata": {},
   "outputs": [
    {
     "name": "stdout",
     "output_type": "stream",
     "text": [
      "please write your nameerdem\n"
     ]
    },
    {
     "data": {
      "text/plain": [
       "('Wellcome', 'erdem', ':). How are you today?')"
      ]
     },
     "execution_count": 9,
     "metadata": {},
     "output_type": "execute_result"
    }
   ],
   "source": [
    "merhaba()"
   ]
  },
  {
   "cell_type": "code",
   "execution_count": 5,
   "id": "a0ed12b3",
   "metadata": {},
   "outputs": [],
   "source": [
    "#solution\n",
    "def hello_there(name):\n",
    "    return \"Hello {}!\".format(name)\n"
   ]
  },
  {
   "cell_type": "code",
   "execution_count": 6,
   "id": "942662aa",
   "metadata": {},
   "outputs": [
    {
     "data": {
      "text/plain": [
       "'Hello Tamer!'"
      ]
     },
     "execution_count": 6,
     "metadata": {},
     "output_type": "execute_result"
    }
   ],
   "source": [
    "hello_there('Tamer')"
   ]
  },
  {
   "cell_type": "code",
   "execution_count": 12,
   "id": "06adb0f1",
   "metadata": {},
   "outputs": [],
   "source": [
    "def hello(name):\n",
    "    return 'Hello {}'.format(name)"
   ]
  },
  {
   "cell_type": "code",
   "execution_count": 13,
   "id": "79107f92",
   "metadata": {},
   "outputs": [
    {
     "data": {
      "text/plain": [
       "'Hello mah'"
      ]
     },
     "execution_count": 13,
     "metadata": {},
     "output_type": "execute_result"
    }
   ],
   "source": [
    "hello('mah')"
   ]
  },
  {
   "cell_type": "markdown",
   "id": "5f1ab845",
   "metadata": {},
   "source": [
    "#Coding Exercise (2)\n",
    "https://www.udemy.com/course/python-exercises-workbook/learn/lecture/22528266#overview"
   ]
  },
  {
   "cell_type": "markdown",
   "id": "2ac0ab31",
   "metadata": {},
   "source": [
    " Write a Python program that Create a function that gives True if a string is empty and False otherwise.\n",
    "- Try it for '' and '   5gh'"
   ]
  },
  {
   "cell_type": "code",
   "execution_count": 1,
   "id": "21b394b2",
   "metadata": {},
   "outputs": [],
   "source": [
    "def empty(st):\n",
    "    return not st\n"
   ]
  },
  {
   "cell_type": "code",
   "execution_count": 2,
   "id": "b9e77a0b",
   "metadata": {},
   "outputs": [
    {
     "data": {
      "text/plain": [
       "True"
      ]
     },
     "execution_count": 2,
     "metadata": {},
     "output_type": "execute_result"
    }
   ],
   "source": [
    "empty('')"
   ]
  },
  {
   "cell_type": "code",
   "execution_count": 3,
   "id": "d99c76d6",
   "metadata": {},
   "outputs": [
    {
     "data": {
      "text/plain": [
       "False"
      ]
     },
     "execution_count": 3,
     "metadata": {},
     "output_type": "execute_result"
    }
   ],
   "source": [
    "empty('   5gh')"
   ]
  },
  {
   "cell_type": "markdown",
   "id": "b6792d7a",
   "metadata": {},
   "source": [
    "- Write a Python program that remove the extra spaces from the following string:\n",
    "' I am        learning Python      bject        oriented     programming '"
   ]
  },
  {
   "cell_type": "code",
   "execution_count": 19,
   "id": "4dd95b41",
   "metadata": {},
   "outputs": [],
   "source": [
    "sadasdasd = ' I am        learning Python      bject        oriented     programming '"
   ]
  },
  {
   "cell_type": "code",
   "execution_count": 21,
   "id": "dfb3608a",
   "metadata": {
    "scrolled": true
   },
   "outputs": [
    {
     "data": {
      "text/plain": [
       "['I', 'am', 'learning', 'Python', 'bject', 'oriented', 'programming']"
      ]
     },
     "execution_count": 21,
     "metadata": {},
     "output_type": "execute_result"
    }
   ],
   "source": [
    "sadasdasd.split()"
   ]
  },
  {
   "cell_type": "code",
   "execution_count": 23,
   "id": "ecc39b29",
   "metadata": {},
   "outputs": [],
   "source": [
    "def clean_up(sentnce):\n",
    "    res = \" \".join(sentnce.split())\n",
    "    return res"
   ]
  },
  {
   "cell_type": "code",
   "execution_count": 24,
   "id": "f9f7c379",
   "metadata": {},
   "outputs": [
    {
     "data": {
      "text/plain": [
       "'I am learning Python bject oriented programming'"
      ]
     },
     "execution_count": 24,
     "metadata": {},
     "output_type": "execute_result"
    }
   ],
   "source": [
    "clean_up(' I am        learning Python      bject        oriented     programming ')"
   ]
  },
  {
   "cell_type": "code",
   "execution_count": null,
   "id": "f857f441",
   "metadata": {},
   "outputs": [],
   "source": [
    "#solution"
   ]
  },
  {
   "cell_type": "code",
   "execution_count": 12,
   "id": "ebe0007c",
   "metadata": {},
   "outputs": [],
   "source": [
    "def remove_extra_spacing(st):\n",
    "    return ' '.join(st.split())\n"
   ]
  },
  {
   "cell_type": "code",
   "execution_count": 13,
   "id": "4263bd0c",
   "metadata": {},
   "outputs": [
    {
     "data": {
      "text/plain": [
       "'I am learning Python bject oriented programming'"
      ]
     },
     "execution_count": 13,
     "metadata": {},
     "output_type": "execute_result"
    }
   ],
   "source": [
    "remove_extra_spacing(' I am        learning Python      bject        oriented     programming ')"
   ]
  },
  {
   "cell_type": "markdown",
   "id": "5e55fdcd",
   "metadata": {},
   "source": [
    "Coding Exercise (4)\n",
    "- Write a python program that reverse the case of string :\n",
    "string = \"I am a python developer\""
   ]
  },
  {
   "cell_type": "code",
   "execution_count": 25,
   "id": "0c5ed643",
   "metadata": {},
   "outputs": [],
   "source": [
    "#def reverse_sent(st):\n",
    "#    return st[::-1]"
   ]
  },
  {
   "cell_type": "code",
   "execution_count": 26,
   "id": "7f329d52",
   "metadata": {},
   "outputs": [],
   "source": [
    "#string = \"I am a python developer\""
   ]
  },
  {
   "cell_type": "code",
   "execution_count": 27,
   "id": "8ffa4414",
   "metadata": {},
   "outputs": [
    {
     "data": {
      "text/plain": [
       "'repoleved nohtyp a ma I'"
      ]
     },
     "execution_count": 27,
     "metadata": {},
     "output_type": "execute_result"
    }
   ],
   "source": [
    "#reverse_sent(string)\n",
    "#wrong answer"
   ]
  },
  {
   "cell_type": "code",
   "execution_count": 30,
   "id": "541fd84a",
   "metadata": {},
   "outputs": [],
   "source": [
    "#solution\n",
    "\n",
    "def reverse_case(s):\n",
    "    return s.swapcase()\n",
    "    "
   ]
  },
  {
   "cell_type": "code",
   "execution_count": 31,
   "id": "d6698550",
   "metadata": {},
   "outputs": [
    {
     "data": {
      "text/plain": [
       "'i AM A PYTHON DEVELOPER'"
      ]
     },
     "execution_count": 31,
     "metadata": {},
     "output_type": "execute_result"
    }
   ],
   "source": [
    "\n",
    "reverse_case(\"I am a python developer\")"
   ]
  },
  {
   "cell_type": "markdown",
   "id": "6fe55682",
   "metadata": {},
   "source": [
    "Coding Exercise (5)\n",
    "- Display the number of letters in the string:\n",
    "my_word = \"Python is wonderful\""
   ]
  },
  {
   "cell_type": "code",
   "execution_count": 35,
   "id": "08fbc91e",
   "metadata": {},
   "outputs": [],
   "source": [
    "def count_letter(st):\n",
    "    return len(st)"
   ]
  },
  {
   "cell_type": "code",
   "execution_count": 38,
   "id": "249268e1",
   "metadata": {},
   "outputs": [
    {
     "data": {
      "text/plain": [
       "19"
      ]
     },
     "execution_count": 38,
     "metadata": {},
     "output_type": "execute_result"
    }
   ],
   "source": [
    "count_letter('Python is wonderful')"
   ]
  },
  {
   "cell_type": "code",
   "execution_count": 37,
   "id": "647bc357",
   "metadata": {},
   "outputs": [
    {
     "name": "stdout",
     "output_type": "stream",
     "text": [
      "19\n"
     ]
    }
   ],
   "source": [
    "#solution\n",
    "my_word = \"Python is wonderful\"\n",
    "\n",
    "print(len(my_word))"
   ]
  },
  {
   "cell_type": "markdown",
   "id": "eecfbf6f",
   "metadata": {},
   "source": [
    "Coding Exercise (6)\n",
    "- Concatenate the following two strings together:\n",
    "string_left = \"Spider\"\n",
    "string_right = \"man\""
   ]
  },
  {
   "cell_type": "code",
   "execution_count": 39,
   "id": "d72e2cc3",
   "metadata": {},
   "outputs": [],
   "source": [
    "def concat_baby(str1,str2):\n",
    "    return str1 + str2"
   ]
  },
  {
   "cell_type": "code",
   "execution_count": 40,
   "id": "5e98e051",
   "metadata": {},
   "outputs": [
    {
     "data": {
      "text/plain": [
       "'Spiderman'"
      ]
     },
     "execution_count": 40,
     "metadata": {},
     "output_type": "execute_result"
    }
   ],
   "source": [
    "str1= \"Spider\"\n",
    "str2=\"man\"\n",
    "concat_baby(str1,str2)"
   ]
  },
  {
   "cell_type": "code",
   "execution_count": 41,
   "id": "41820e14",
   "metadata": {},
   "outputs": [
    {
     "name": "stdout",
     "output_type": "stream",
     "text": [
      "Spiderman\n"
     ]
    }
   ],
   "source": [
    "#solution\n",
    "string_left = \"Spider\"\n",
    "\n",
    "\n",
    "\n",
    "string_right = \"man\"\n",
    "\n",
    "\n",
    "\n",
    "print(string_left + string_right)"
   ]
  },
  {
   "cell_type": "code",
   "execution_count": null,
   "id": "ef90fc30",
   "metadata": {},
   "outputs": [],
   "source": [
    "Coding Exercise (7)\n",
    "- Display two strings together, with a space in between\n",
    "string_one = \"Python\"\n",
    "string_two = \"Programming\""
   ]
  },
  {
   "cell_type": "code",
   "execution_count": 44,
   "id": "8eea20b3",
   "metadata": {},
   "outputs": [],
   "source": [
    "def concat_baby_spc(str1,str2):\n",
    "    return str1 + ' ' + str2"
   ]
  },
  {
   "cell_type": "code",
   "execution_count": 45,
   "id": "4a05ac3b",
   "metadata": {},
   "outputs": [
    {
     "data": {
      "text/plain": [
       "'Spider man'"
      ]
     },
     "execution_count": 45,
     "metadata": {},
     "output_type": "execute_result"
    }
   ],
   "source": [
    "concat_baby_spc(str1,str2)"
   ]
  },
  {
   "cell_type": "code",
   "execution_count": 46,
   "id": "493e0c55",
   "metadata": {},
   "outputs": [
    {
     "name": "stdout",
     "output_type": "stream",
     "text": [
      "Python Programming\n"
     ]
    }
   ],
   "source": [
    "#solution\n",
    "string_one = \"Python\"\n",
    "string_two = \"Programming\"\n",
    "\n",
    "print(string_one + \" \" + string_two)"
   ]
  },
  {
   "cell_type": "markdown",
   "id": "8ba7aa55",
   "metadata": {},
   "source": [
    "- Use sub scripting to display part of a string\n",
    "\"Python\""
   ]
  },
  {
   "cell_type": "code",
   "execution_count": 47,
   "id": "36d3791d",
   "metadata": {},
   "outputs": [
    {
     "name": "stdout",
     "output_type": "stream",
     "text": [
      "ho\n"
     ]
    }
   ],
   "source": [
    "print(\"python\"[3:5])"
   ]
  },
  {
   "cell_type": "code",
   "execution_count": 51,
   "id": "f8968583",
   "metadata": {},
   "outputs": [],
   "source": [
    "##- Switch the case of the following strings into lower case :\n",
    "string1 = \"Python\"\n",
    "string2 = \"Programming\"\n",
    "string3 = \"Language\""
   ]
  },
  {
   "cell_type": "code",
   "execution_count": 61,
   "id": "e4f811ee",
   "metadata": {},
   "outputs": [
    {
     "name": "stdout",
     "output_type": "stream",
     "text": [
      "python\n",
      "programming\n",
      "language\n"
     ]
    }
   ],
   "source": [
    "print(string1.lower())\n",
    "print(string2.lower())\n",
    "print(string3.lower())"
   ]
  },
  {
   "cell_type": "markdown",
   "id": "36cf355d",
   "metadata": {},
   "source": [
    "Coding Exercise (10)\n",
    "- Replace every occurrence of the character \"s\" with the character \"x\"\n",
    "phrase = \"Somebody said something to Sara.\""
   ]
  },
  {
   "cell_type": "code",
   "execution_count": 63,
   "id": "5dc5f590",
   "metadata": {},
   "outputs": [
    {
     "name": "stdout",
     "output_type": "stream",
     "text": [
      "Somebody xaid xomething to Sara.\n"
     ]
    }
   ],
   "source": [
    "phrase = \"Somebody said something to Sara.\"\n",
    "print(phrase.replace(\"s\",\"x\"))"
   ]
  },
  {
   "cell_type": "code",
   "execution_count": 64,
   "id": "d372a0c8",
   "metadata": {},
   "outputs": [
    {
     "name": "stdout",
     "output_type": "stream",
     "text": [
      "Somebody xaid xomething to Sara.\n"
     ]
    }
   ],
   "source": [
    "#solution\n",
    "phrase = \"Somebody said something to Sara.\"\n",
    "phrase = phrase.replace(\"s\", \"x\")\n",
    "print(phrase)"
   ]
  },
  {
   "cell_type": "code",
   "execution_count": null,
   "id": "a245f49c",
   "metadata": {},
   "outputs": [],
   "source": []
  },
  {
   "cell_type": "code",
   "execution_count": 66,
   "id": "280df731",
   "metadata": {},
   "outputs": [
    {
     "data": {
      "text/plain": [
       "2.5"
      ]
     },
     "execution_count": 66,
     "metadata": {},
     "output_type": "execute_result"
    }
   ],
   "source": [
    "5/2"
   ]
  },
  {
   "cell_type": "code",
   "execution_count": 67,
   "id": "611c1b7e",
   "metadata": {},
   "outputs": [
    {
     "data": {
      "text/plain": [
       "2"
      ]
     },
     "execution_count": 67,
     "metadata": {},
     "output_type": "execute_result"
    }
   ],
   "source": [
    "5//2"
   ]
  },
  {
   "cell_type": "markdown",
   "id": "fea8ba90",
   "metadata": {},
   "source": [
    "Coding Exercise (11)\n",
    "In one of  Famous Coffee Mixer shops chain every 6 days with every day one cup of coffee customer buys, customer gets a 7th cup free in the weekend (Sunday)!\n",
    "Create a Python program that takes numbers of cups bought and return the total number of cups that customer would get and\n",
    "also the number of  free cups for one month( for both 30 days & 31 days):"
   ]
  },
  {
   "cell_type": "code",
   "execution_count": 72,
   "id": "a75fd4ae",
   "metadata": {},
   "outputs": [
    {
     "name": "stdout",
     "output_type": "stream",
     "text": [
      "Total cups for 30 days = 35\n",
      "Free cups in 30 days = 6.0\n",
      "Total cups for 31 days = 36\n",
      "Free cups in 31 days = 6.0\n"
     ]
    }
   ],
   "source": [
    "n = 30\n",
    "def total_cups_cust(n):\n",
    "    return n//6 + n\n",
    "\n",
    "total_cups = total_cups_cust(n)\n",
    "def total_cups_gets_free(total_cups):\n",
    "        return round(total_cups/6, 0)\n",
    "\n",
    "print(('Total cups for 30 days = ') + str(total_cups_cust(n)))\n",
    "print(('Free cups in 30 days = ') + str(total_cups_gets_free(total_cups)))\n",
    "     \n",
    "n = 31\n",
    "print(('Total cups for 31 days = ') + str(total_cups_cust(n)))\n",
    "print(('Free cups in 31 days = ') + str(total_cups_gets_free(total_cups)))"
   ]
  },
  {
   "cell_type": "code",
   "execution_count": null,
   "id": "a6b64440",
   "metadata": {},
   "outputs": [],
   "source": [
    "https://www.udemy.com/course/python-exercises-workbook/learn/lecture/22536678#overview"
   ]
  },
  {
   "cell_type": "code",
   "execution_count": null,
   "id": "1d8c8a99",
   "metadata": {},
   "outputs": [],
   "source": []
  },
  {
   "cell_type": "code",
   "execution_count": null,
   "id": "0b87d17b",
   "metadata": {},
   "outputs": [],
   "source": []
  }
 ],
 "metadata": {
  "kernelspec": {
   "display_name": "Python 3 (ipykernel)",
   "language": "python",
   "name": "python3"
  },
  "language_info": {
   "codemirror_mode": {
    "name": "ipython",
    "version": 3
   },
   "file_extension": ".py",
   "mimetype": "text/x-python",
   "name": "python",
   "nbconvert_exporter": "python",
   "pygments_lexer": "ipython3",
   "version": "3.9.7"
  }
 },
 "nbformat": 4,
 "nbformat_minor": 5
}
