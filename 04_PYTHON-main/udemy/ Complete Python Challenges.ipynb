{
 "cells": [
  {
   "cell_type": "markdown",
   "id": "58a6586b",
   "metadata": {},
   "source": [
    "Python Basics cheat Sheet\n",
    "Variable name:\n",
    "Variable name in Python can only contain letters (a - z, A - B), numbers or underscores (_).\n",
    "\n",
    "\n",
    "\n",
    "However, the first character cannot be a number. Hence, you can name your variables user_car or user_car2 but not 2user_car.\n",
    "\n",
    "\n",
    "\n",
    "variable names are case sensitive so user_car is not the same as user_Car or User_car or User_Car.\n",
    "\n",
    "Variable name:\n",
    "\n",
    "Special words can’t be used because these words are built in as a part of python expressions and functions like print, input, if, while, for etc.\n",
    "\n",
    "\n",
    "\n",
    "These words are (False, class, finally, is, return, None, continue,For, lambda, try, True, def, from, nonlocal, while, and, with, as, elif, if, else, or, yield, assert, import, pass, break, except, in, raise)\n",
    "\n",
    "Operators types :\n",
    "\n",
    "Assignment Operators:\n",
    "give you new value of variable\n",
    "x = x + 5 can be coded by another way as x + = 5\n",
    "\n",
    "x = x – 5 can be coded by another way as x - = 5\n",
    "\n",
    "Logic operators : give you False or True\n",
    "\n",
    "x > 5 x more than 5 or x >= 5 x more than or equal to 5\n",
    "\n",
    "x < 5 x less than 5 or x >= 5 x less than or equal to 5\n",
    "\n",
    "also\n",
    "\n",
    "x != 5 x not equal to 5\n",
    "\n",
    "Arithmetic Operators:\n",
    "Suppose x = 3, y = 2\n",
    "\n",
    "Addition:\n",
    "\n",
    "x + y = 5\n",
    "\n",
    "Subtraction:\n",
    "\n",
    "x - y = 1\n",
    "\n",
    "Multiplication:\n",
    "\n",
    "x*y = 6\n",
    "\n",
    "Division:\n",
    "\n",
    "x/y = 1.5\n",
    "\n",
    "Floor Division:\n",
    "\n",
    "x//y = 1 (rounds down the answer to the nearest whole number)\n",
    "\n",
    "Modulus:\n",
    "\n",
    "x%y = 1 (gives the remainder when 3 is divided by 2)\n",
    "\n",
    "Exponent:\n",
    "\n",
    "x**y = 9 (3 to the power of 2)\n",
    "\n",
    "Python data types:\n",
    "\n",
    "Integers:\n",
    "\n",
    "integers are numbers with no decimal parts, such as -3, -1, -2\n",
    "\n",
    ", 0, 6, 10 etc.\n",
    "\n",
    "To declare an integer in Python, simply code as following :\n",
    "\n",
    "Variable_name = interger value\n",
    "\n",
    "Examples:\n",
    "\n",
    "user_car_speed = 100\n",
    "\n",
    "car_ number_plate= 123569\n",
    "\n",
    "\n",
    "\n",
    "Python data types:Floats\n",
    "Floats are numbers that have decimal parts, such as 1.56, -0.0056,\n",
    "\n",
    "10.015\n",
    "\n",
    "To declare a float in Python, you will code as following:\n",
    "\n",
    "Variable_name = float value\n",
    "\n",
    "\n",
    "\n",
    "Examples:\n",
    "\n",
    "user_car_speed = 100.55\n",
    "\n",
    "User_height = 1.72\n",
    "\n",
    "\n",
    "\n",
    "Python data types: strings\n",
    "String are composed of elements like letters, numbers, special characters to build a text. To declare a string, you can either use variable_name = ‘string’ (single quotes)\n",
    "\n",
    "Variable_name = “string” (double quotes)\n",
    "\n",
    "Example:\n",
    "\n",
    "user_car_speed = ‘100’ or user_car_speed = “100”\n",
    "\n",
    "user_car_color = ‘red !?’ or user_car_color = “red !?”\n",
    "\n",
    "\n",
    "\n",
    "Casting in python:\n",
    "Casting in python is converting one data type to another data type.\n",
    "\n",
    "Using build_in python functions int(), float(), and str()\n",
    "\n",
    "Examples:\n",
    "\n",
    "user_car_speed = “ 100.55 ”\n",
    "\n",
    "float (user_car_speed) = 100.55\n",
    "\n",
    "int(float (user_car_speed) ) = 100\n",
    "\n",
    "int(user_car_speed) = 100\n",
    "\n",
    "\n",
    "\n",
    "\n",
    "\n",
    "String functions in python:\n",
    "Format() function :\n",
    "\n",
    ">>>name = “Alexander”\n",
    "\n",
    ">>>car_color = “red.”\n",
    "\n",
    ">>>print(“hello world, my name is”+ “ ”+name+“ ”+“,and my car color is”\n",
    "\n",
    "+ “ “+car_color)\n",
    "\n",
    "hello world, my name is Alexander ,and my car color is red\n",
    "\n",
    "msg = “hello world, my name is {} , and my car color is {}.format(name, car_color)\n",
    "\n",
    ">>> print(msg)\n",
    "\n",
    "hello world, my name is Alexander ,and my car color is red.\n",
    "\n",
    "\n",
    "\n",
    "\n",
    "\n",
    "String len() function:\n",
    ">>> print(len(msg))\n",
    "\n",
    "58\n",
    "\n",
    ">>> print(len(name))\n",
    "\n",
    "9\n",
    "\n",
    ">>> print(len(name[0:4]))\n",
    "\n",
    "4\n",
    "\n",
    ">>> Print(Name[0:4])\n",
    "\n",
    "Alex\n",
    "\n",
    "\n",
    "\n",
    "Used to count the entire string or specific character of a string\n",
    "\n",
    ">>>‘This is user car’.count(‘r’)\n",
    "\n",
    "2\n",
    "\n",
    "In order to count from index 5 to end of string\n",
    "\n",
    ">>>‘This is user car’.count(‘r’, 5)\n",
    "\n",
    "2\n",
    "\n",
    "In order to count from index 5 to 12\n",
    ">>> ‘This is user car(‘s’, 5, 12 )\n",
    "\n",
    "1\n",
    "\n",
    "\n",
    "\n",
    "In orde count ‘T’. There’s only 1 ‘T’ as the function is case sensitive:\n",
    "\n",
    "Example:\n",
    "\n",
    "\n",
    "\n",
    ">>>‘This is user car’.count(‘T’)\n",
    "\n",
    "1\n",
    "\n",
    ">>>‘This is user car’.count(‘u’)\n",
    "\n",
    "1\n",
    "\n",
    ">>>‘This is user car’.count(‘U’)\n",
    "\n",
    "0\n",
    "\n",
    "\n",
    "\n",
    "\n",
    "\n",
    "\n",
    "\n",
    "endswith () and startswith() functions:\n",
    "\n",
    "this function Return True if the string ends with the specified suffix, otherwise return False and it is case-sensitive function.\n",
    "\n",
    "Example:\n",
    "\n",
    "In order to check if a string contain specific suffix like car\n",
    "\n",
    ">>>‘user_car’.endswith(‘car’)\n",
    "\n",
    "True\n",
    "\n",
    "# check from index 4 to end of string\n",
    "\n",
    ">>>‘‘user_car’.endswith(‘car’, 4)\n",
    "\n",
    "True\n",
    "\n",
    "\n",
    "\n",
    "\n",
    "\n",
    "\n",
    "\n",
    "To check from index 5 to 7\n",
    "\n",
    ">>>‘user_car’.endswith(‘car’, 5, 7)\n",
    "\n",
    "False\n",
    "\n",
    "To check from index 4 to 8\n",
    "\n",
    ">>>‘‘user_car’.endswith(‘car’,4, 8)\n",
    "\n",
    "True\n",
    "\n",
    "In order to use a tuple of suffixes as we check from index 4 to 8\n",
    "\n",
    ">>>‘‘user_car’.endswith((‘car’, ‘ar’), 4, 8)\n",
    "\n",
    "True\n",
    "\n",
    "Startswith() like endwiths() but used for bega\n",
    "\n",
    "\n",
    "\n",
    "\n",
    "\n",
    "Find() string function:\n",
    "\n",
    "Return the index in the string where the first occurrence of the substring sub is found\n",
    "\n",
    "Examples:\n",
    "\n",
    "In order to check specific character in a string\n",
    "\n",
    ">>>‘This is user_car’.find(‘i’)\n",
    "\n",
    "2\n",
    "\n",
    "In order to check from index 2 to end of a string\n",
    "\n",
    ">>>‘This is user_car’.find(‘s’, 2)\n",
    "\n",
    "3\n",
    "\n",
    "\n",
    "\n",
    "\n",
    "\n",
    "In order to check from index 8 to 12\n",
    "\n",
    ">>>‘This is user_car’.find(‘s’, 8,12 )\n",
    "\n",
    "9\n",
    "\n",
    "In order to check special character which is not found in string\n",
    "\n",
    ".find() function is like .index() function but differ in the next example:\n",
    "\n",
    ">>> 'This is user_car'.find(‘d’)\n",
    "\n",
    "-1\n",
    "\n",
    ">>> 'This is user_car'.index(‘d’)\n",
    "\n",
    "ValueError\n",
    "\n",
    "\n",
    "\n",
    "\n",
    "\n",
    "islower () and isupper() functions:\n",
    "\n",
    "islower() return True if all characters in the string are lowercase and return False otherwise.\n",
    "\n",
    "[Example]\n",
    "\n",
    ">>>‘abc’.islower()\n",
    "\n",
    "True\n",
    "\n",
    ">>>‘ABc’.islower()\n",
    "\n",
    "False\n",
    "\n",
    ">>>‘ABC’.islower()\n",
    "\n",
    "False\n",
    "\n",
    "\n",
    "\n",
    "\n",
    "\n",
    "\n",
    "\n",
    "isupper() :\n",
    "\n",
    "return True if all characters in the string are uppercase and return False otherwise.\n",
    "\n",
    "Examples:\n",
    "\n",
    ">>>‘ABC’.isupper()\n",
    "\n",
    "True\n",
    "\n",
    ">>>‘AbC’.isupper()\n",
    "\n",
    "False\n",
    "\n",
    ">>>‘abc’.isupper()\n",
    "\n",
    "False\n",
    "\n",
    "\n",
    "\n",
    "\n",
    "\n",
    "\n",
    "\n",
    "lower() and upper() functions:\n",
    "\n",
    "Lower (): the function that convert string case into lower case.\n",
    "\n",
    "Example:\n",
    "\n",
    ">>>‘This is User Car’.lower()\n",
    "\n",
    "this is user car\n",
    "\n",
    "Example:\n",
    "\n",
    "\n",
    "\n",
    "upper (): the function that convert string case into upper case.\n",
    "\n",
    ">>>‘This is User Car’.upper ()\n",
    "\n",
    "THIS IS USER CAR\n",
    "\n",
    "\n",
    "\n",
    "\n",
    "replace() string function:\n",
    "\n",
    "This function return a copy of the string with all occurrences of substring old replaced by new.\n",
    "\n",
    "[Example]\n",
    "\n",
    ">>>‘This is user car’.replace(‘user’, ‘my’)\n",
    "\n",
    "This is my car\n",
    "\n",
    "In order to replace a character many times:\n",
    "\n",
    ">>>‘This is user car’.replace(‘s’, ‘c’, 3)\n",
    "\n",
    "'Thic ic ucer car'\n",
    "\n",
    "\n",
    "\n",
    "\n",
    "strip() string functions:\n",
    "\n",
    "This function return a copy of the string with the starting orending character removed but If character is not provided, whitespaces will be removed.\n",
    "\n",
    "Example:\n",
    "\n",
    ">>>‘ This is my car’.strip()\n",
    "\n",
    "'This is my car'\n",
    "\n",
    ">>>‘ This is my car’.strip(‘p’)\n",
    "\n",
    "'This is a my car'\n",
    "\n",
    ">>>‘This is my car’.strip(‘r’)\n",
    "\n",
    "‘This is my ca’\n",
    "\n",
    "\n",
    "\n",
    "Print and Input functions:\n",
    "\n",
    "We take and practice print() function which is so simple, now we will take about input() function which store variable data as string\n",
    "\n",
    "Example:\n",
    "\n",
    ">>> user_name = input(“Please enter your name”)\n",
    "\n",
    "Please enter your name\n",
    "\n",
    ">>> Alex\n",
    "\n",
    ">>> print(user_name)\n",
    "\n",
    "Alex\n",
    "\n",
    "How to deal with string special characters in python?\n",
    "\n",
    "In order to print string without errors we should use back slash\n",
    "\n",
    "Character to prevent interfere of these characters with string quotes.\n",
    "\n",
    "Example:\n",
    "\n",
    ">>> msg1= “I’m”\n",
    "\n",
    ">>> msg1= “I\\’m”\n",
    "\n",
    ">>> msg2= “I can’t”\n",
    "\n",
    ">>> msg2 =\" can\\’t”\n",
    "\n",
    ">>> print(msg1+” “ +msg2)\n",
    "\n",
    "I’m can’t\n",
    "\n",
    "\n",
    "\n",
    "\n",
    "\n",
    "\n",
    "\n",
    "Lists in python : []\n",
    "\n",
    "Lists are a collection of data values stored as a list and values are separated by a comma.\n",
    "\n",
    "To declare a list, you code as following :\n",
    "\n",
    "We use square brackets [ ] when declaring a list.\n",
    "\n",
    "list_name = [Multiple values are separated by a comma]\n",
    "\n",
    "Example:\n",
    "\n",
    "user_cars_colors = [‘red’, ‘yellow’, ‘black’, ‘blue’]\n",
    "\n",
    "List commands in python\n",
    "\n",
    "user_cars_colors = [‘red’, ‘yellow’, ‘black’, ‘blue’]\n",
    "\n",
    "To assign user_cars_colors (from index 1 to 3) and print\n",
    "\n",
    "user_cars_colors = user_cars_colors[1:3]\n",
    "\n",
    "print (user_cars_colors)\n",
    "\n",
    ">>>You’ll get [yellow, black]\n",
    "\n",
    "In order to modify the second item in List and print the updated list\n",
    "\n",
    "user_cars_colors[1] = ‘green’\n",
    "\n",
    "print(user_cars_colors)\n",
    "\n",
    ">>> [‘red’, ‘green’, ‘black’, ‘blue’]\n",
    "\n",
    "\n",
    "\n",
    "To append a new item to user_cars_colors and print the list :\n",
    "\n",
    "user_cars_colors.append(“white”)\n",
    "\n",
    "print(user_cars_colors)\n",
    "\n",
    ">>>[‘red’, ‘green’, ‘black’, ‘blue’, ‘white’]\n",
    "\n",
    "To remove the fifth item from user_cars_colors and print the list :\n",
    "\n",
    "del user_cars_colors [4]\n",
    "\n",
    "print(user_cars_colors)\n",
    "\n",
    ">>>[‘red’, ‘green’, ‘black’, ‘blue’]\n",
    "\n",
    "\n",
    "\n",
    "len(): returns how many elements are in a list.\n",
    "\n",
    "Users_cars_speeds = [100, 50, 30, 20,120]\n",
    "\n",
    "len(Users_cars_speeds)\n",
    "\n",
    ">>> 5\n",
    "\n",
    "max() returns the greatest element of the list.\n",
    "\n",
    "Users_cars_speeds = [100, 50, 30, 20,120]\n",
    "\n",
    "max(Users_cars_speeds)\n",
    "\n",
    ">>> 120\n",
    "\n",
    "\n",
    "\n",
    "\n",
    "\n",
    "\n",
    "\n",
    "\n",
    "\n",
    "\n",
    "\n",
    "min(): returns the smallest element in a list.\n",
    "\n",
    "Users_cars_speeds = [100, 50, 30, 20,120]\n",
    "\n",
    "min(Users_cars_speeds)\n",
    "\n",
    ">>> 20\n",
    "\n",
    "sorted() returns a copy of a list ordered from smallest to largest\n",
    "\n",
    "Users_cars_speeds = [100, 50, 30, 20,120]\n",
    "\n",
    "sorted(Users_cars_speeds)\n",
    "\n",
    ">>> 120, 100, 50, 30, 20\n",
    "\n",
    "\n",
    "\n",
    "\n",
    "\n",
    "\n",
    "\n",
    "\n",
    "\n",
    "Sum():\n",
    "\n",
    "returns the sum of the elements in a list.\n",
    "\n",
    ">>> Users_cars_speeds = [100, 50, 30, 20,120]\n",
    "\n",
    ">>>sum(Users_cars_speeds)\n",
    "\n",
    "320\n",
    "\n",
    "pop():\n",
    "\n",
    "removes the last element from a list and returns it.\n",
    "\n",
    ">>> Users_cars_speeds = [100, 50, 30, 20,120]\n",
    "\n",
    ">>> Users_cars_speeds.pop\n",
    "\n",
    "120\n",
    "\n",
    "\n",
    "\n",
    "\n",
    "\n",
    "Using range( ) in list:\n",
    "\n",
    ">>> x = range(5)\n",
    "\n",
    ">>> print(x)\n",
    "[0,1,2,3,4]\n",
    "Zero = x[0] equals 0, lists are 0-indexed\n",
    "One = x[1]\n",
    "Two = x[2]\n",
    "\n",
    "Three = x[3]\n",
    "\n",
    "Four = x[4] fifth element of the x list of range(5).\n",
    "Four = x[-1] fifth element of the x list of range(5).\n",
    ">>>\n",
    "\n",
    "Tuples : ()\n",
    "\n",
    "Tuples are just like lists, but we cannot modify their data values.\n",
    "\n",
    "Example:\n",
    "\n",
    "Year_monthes = (“January”, “February”, “March”, “April”, “May”, “June”, “July”, “August”, “September”, “October”, “November”, “December”)\n",
    "\n",
    "In order to access specific values of a tuple use their indexes like what we do with a list.\n",
    "\n",
    "so, year_monthes [0] = “January”, & year_monthes [-1] = “December”\n",
    "\n",
    "\n",
    "\n",
    "\n",
    "\n",
    "\n",
    "\n",
    "Del() tuple function:\n",
    "\n",
    "This function will delete the whole tuple\n",
    "\n",
    "[Example]\n",
    "\n",
    "year_monthes = (“January”, “February”, “March”, “April”, “May”, “June”, “July”, “August”, “September”, “October”, “November”, “December”)\n",
    "\n",
    "del year_monthes\n",
    "\n",
    "print (year_monthes)\n",
    "\n",
    "=> NameError: name ' year_monthes ' is not defined\n",
    "\n",
    "\n",
    "\n",
    "\n",
    "\n",
    "\n",
    "\n",
    "In use for tuples:\n",
    "\n",
    "This function will check if an item is in a tuple\n",
    "\n",
    "[Example]\n",
    "\n",
    "year_monthes = (“January”, “February”, “March”, “April”, “May”, “June”, “July”, “August”, “September”, “October”, “November”, “December”)\n",
    "\n",
    "‘1’ in year_monthes\n",
    "\n",
    "=> False\n",
    "\n",
    "‘January’ in year_monthes\n",
    "\n",
    "=> True\n",
    "\n",
    "\n",
    "\n",
    "\n",
    "\n",
    "len( ) tuple function:\n",
    "\n",
    "This function will calculate number of items in tuple.\n",
    "\n",
    "\n",
    "\n",
    "[Example]\n",
    "\n",
    "year_monthes = (“January”, “February”, “March”, “April”, “May”, “June”, “July”, “August”, “September”, “October”, “November”, “December”)\n",
    "\n",
    "print (len(year_monthes))\n",
    "\n",
    ">>> 12\n",
    "\n",
    "\n",
    "\n",
    "\n",
    "\n",
    "\n",
    "\n",
    "Addition of tuples:\n",
    "\n",
    "\n",
    "\n",
    "year_monthes = (“January”, “February”, “March”, “April”, “May”, “June”, “July”, “August”, “September”, “October”, “November”, “December”)\n",
    "\n",
    "print (year_monthes +(1, 2, 3, 4, 5, 6, 7, 8, 9, 10, 11, 12))\n",
    "\n",
    ">>>(“January”, “February”, “March”, “April”, “May”, “June”, “July”, “August”, “September”, “October”, “November”, “December”, 1, 2, 3, 4, 5, 6, 7, 8, 9, 10, 11, 12)\n",
    "\n",
    "\n",
    "\n",
    "\n",
    "\n",
    "multiplication of tuples:\n",
    "\n",
    "\n",
    "\n",
    "year_monthes = (“January”, “February”, “March”, “April”, “May”, “June”, “July”, “August”, “September”, “October”, “November”, “December”)\n",
    "\n",
    "print (year_monthes * 2)\n",
    "\n",
    ">>>(“January”, “February”, “March”, “April”, “May”, “June”, “July”, “August”, “September”, “October”, “November”, “December”, “January”, “February”, “March”, “April”, “May”, “June”, “July”, “August”, “September”, “October”, “November”, “December”)\n",
    "\n",
    "\n",
    "\n",
    "Dictionary : {}\n",
    "\n",
    "Dictionary is group of pairs of data values each pair have two parts\n",
    "\n",
    "Dictionary key and data value {key1:value1, key2:value 2, etc….}\n",
    "\n",
    "Example:\n",
    "\n",
    ">>> User_name_and_car_color = { “David”:”red”, “John”:”green”, ”Sara”: “yellow”}\n",
    "\n",
    "In order to declare a dictionary we use dict() method\n",
    "\n",
    ">>> User_name_and_car_color = dict(David = red, John = green, Sara = yellow)\n",
    "\n",
    "{“David”:”red”, “John”:”green”, ”Sara”: “yellow”}\n",
    "\n",
    "\n",
    "\n",
    "In order to add a new item and print the updated dictionary:\n",
    "\n",
    ">>>user_name_and_car_color[“Kate”] = “black”\n",
    "\n",
    ">>>print(user_name_and_car_color)\n",
    "\n",
    "{“Kate”, “black”, “David”:”red”, “John”:”green”, ”Sara”: “yellow”}\n",
    "\n",
    "In order to remove the item with key = “Kate” and print dictionary:\n",
    "\n",
    ">>>del user_name_and_car_color [“Kate”]\n",
    "\n",
    ">>>print(user_name_and_car_color)\n",
    "\n",
    "{“David”:”red”, “John”:”green”, ”Sara”: “yellow”}\n",
    "\n",
    "\n",
    "\n",
    "\n",
    "\n",
    "\n",
    "\n",
    "Example:\n",
    "\n",
    ">>>Print(user_name_and_car_color)\n",
    "\n",
    "{“David”:”red”, “John”:”green”, ”Sara”: “yellow”}\n",
    "\n",
    "\n",
    "\n",
    "In order to print the item with key = “David” code as following:\n",
    "\n",
    ">>>print(user_name_and_car_color[“David”]) red\n",
    "\n",
    "\n",
    "\n",
    "In order to print the item with key =Sara code as following:\n",
    "\n",
    ">>> print(user_name_and_car_color[“Sara”])\n",
    "\n",
    "yellow\n",
    "\n",
    "\n",
    "\n",
    "In order modify the item with key = John and print the dictionary\n",
    "\n",
    ">>> user_name_and_car_color[“John”] = “white”\n",
    "\n",
    ">>>print(user_name_and_car_color”David”)\n",
    "\n",
    "red\n",
    "\n",
    "\n",
    "\n",
    "\n",
    "\n",
    "\n",
    "\n",
    "Dictionary .get() :\n",
    "\n",
    "returns a value for the given key If the key is not found, it’ll return the keyword None.\n",
    "\n",
    "Example:\n",
    "\n",
    "user_name_and_car_color = {“David”:”red”, “John”:”green”, ”Sara”: “yellow”}\n",
    "\n",
    "print(user_name_and_car_color)\n",
    "\n",
    ">>>{“David”:”red”, “John”:”green”, ”Sara”: “yellow”}\n",
    "\n",
    "print(user_name_and_car_color. get(“John”))\n",
    "\n",
    ">>>green\n",
    "\n",
    "\n",
    "\n",
    "\n",
    "\n",
    "\n",
    "\n",
    "user_name_and_car_color = {“David”:”red”,“John”:”green”, ”Sara”: “yellow”}\n",
    "\n",
    "\n",
    "\n",
    ">>>print(user_name_and_car_color)\n",
    "\n",
    "{“David”:”red”, “John”:”green”, ”Sara”: “yellow”}\n",
    "\n",
    "\n",
    "\n",
    "print(user_name_and_car_color. get(“kate”))\n",
    "\n",
    "None\n",
    "\n",
    "\n",
    "\n",
    "\n",
    "\n",
    "\n",
    "\n",
    "Dictionary .del( ):\n",
    "\n",
    "It delete the whole dictionary.\n",
    "\n",
    "Example:\n",
    "\n",
    ">>> user_name_and_car_color = {“David”:”red”, “John”:”green”, ”Sara”: “yellow”}\n",
    "\n",
    ">>> user_name_and_car_color.del()\n",
    "\n",
    ">>>print (user_name_and_car_color)\n",
    "\n",
    "NameError: name 'dic1' is not defined\n",
    "\n",
    "\n",
    "\n",
    "\n",
    "\n",
    "\n",
    "\n",
    "\n",
    "\n",
    "Dictionary .clear( ):\n",
    "\n",
    "It removes all elements of the dictionary, returning an empty dictionary\n",
    "\n",
    "Example:\n",
    "\n",
    ">>> user_name_and_car_color = {“David”:”red”, “John”:”green”, ”Sara”: “yellow”}\n",
    "\n",
    ">>> user_name_and_car_color.clear()\n",
    "\n",
    ">>>print (user_name_and_car_color)\n",
    "\n",
    "{ }\n",
    "\n",
    "\n",
    "\n",
    "\n",
    "\n",
    "Dictionary In( ):\n",
    "\n",
    "We use it to check if an item is in a dictionary\n",
    "\n",
    "Example:\n",
    "\n",
    ">>>user_name_and_car_color = {“David”:”red”, “John”:”green”, ”Sara”: “yellow”}\n",
    "\n",
    "Use it on the key\n",
    "\n",
    ">>>David in user_name_and_car_color\n",
    "\n",
    "True\n",
    "\n",
    ">>>Kate in user_name_and_car_color\n",
    "\n",
    "False\n",
    "\n",
    "\n",
    "\n",
    "\n",
    "\n",
    "Use It on the value:\n",
    "\n",
    "Example:\n",
    "\n",
    "user_name_and_car_color = {“David”:”red”, “John”:”green”, ”Sara”: “yellow”}\n",
    "\n",
    "‘red’ in user_name_and_car_colo.values()\n",
    "\n",
    "=> True\n",
    "\n",
    "‘black’ in user_name_and_car_colo.values()\n",
    "\n",
    "=> False\n",
    "\n",
    "\n",
    "\n",
    "\n",
    "\n",
    "Dictionary .items( )\n",
    "\n",
    "We use it to return a list of dictionary’s pairs as tuples\n",
    "\n",
    "[Example]\n",
    "\n",
    "user_name_and_car_color = {“David”:”red”, “John”:”green”, ”Sara”: “yellow”}\n",
    "\n",
    "user_name_and_car_color.items()\n",
    "\n",
    ">>> dict_items([(“David”:”red”), (“John”:”green”), (”Sara”: “yellow”)])\n",
    "\n",
    "\n",
    "\n",
    "\n",
    "\n",
    "Dictionary .len( ):\n",
    "\n",
    "We use it to calculate the number of items in a dictionary\n",
    "\n",
    "Example:\n",
    "\n",
    ">>>year_monthes = {“January” : 1, “February” : 2, “March” : 3, “April”: 4, “May”: 5, “June”: 6, “July”: 7, “August”: 8, “September”: 9, “October”: 10, “November”: 11, “December”: 12 }\n",
    "\n",
    ">>> print (len(year_monthes))\n",
    "\n",
    "12\n",
    "\n",
    "\n",
    "\n",
    ">>>\n",
    "\n",
    "\n",
    "\n",
    "Dictionary . update( ):\n",
    "\n",
    "We use this to Add one dictionary’s key-values pairs to another. Duplicates are removed.\n",
    "\n",
    "Example:\n",
    "\n",
    ">>> year_monthes = {“January” : 1, “February” : 2, “March” : 3, “April”: 4, “May”: 5, “June”: 6}\n",
    "\n",
    ">>> second_six_year_monthes = {“July”: 7, “August”: 8, “September”: 9, “October”: 10, “November”: 11, “December”: 12}\n",
    "\n",
    "\n",
    "\n",
    ">>> year_monthes.update(second_six_year_monthes)\n",
    "\n",
    "\n",
    "\n",
    ">>> print (year_monthes)\n",
    "\n",
    "{“January” : 1, “February” : 2, “March” : 3, “April”: 4, “May”: 5, “June”: 6, “July”: 7, “August”: 8, “September”: 9, “October”: 10, “November”: 11, “December”: 12 }\n",
    "\n",
    ">>>print second_six_year_monthes\n",
    "\n",
    "{“July”: 7, “August”: 8, “September”: 9, “October”: 10, “November”: 11, “December”: 12}\n",
    "\n",
    "So there is no change in second_six_year_monthes dictionary.\n",
    "\n",
    "\n",
    "\n",
    "Dictionary . values( )\n",
    "\n",
    "This will returns list of the dictionary's values\n",
    "\n",
    "Example:\n",
    "\n",
    ">>> year_monthes = {“January” : 1, “February” : 2, “March” : 3, “April”: 4, “May”: 5, “June”: 6, “July”: 7, “August”: 8, “September”: 9, “October”: 10, “November”: 11, “December”: 12 }\n",
    "\n",
    ">>>year_monthes.values()\n",
    "\n",
    "dict_values([‘1', ‘2‘, ‘3', ‘4‘, ‘5', ‘6‘, ‘7', ‘8‘, ‘9', ‘10‘, ‘11', ‘12‘])\n",
    "\n",
    "\n",
    "\n",
    "\n",
    "\n",
    "\n",
    "\n",
    "Dictionary . keys( )\n",
    "\n",
    "We use it to returns list of the dictionary's keys\n",
    "\n",
    "[Example]\n",
    "\n",
    ">>> year_monthes = {“January” : 1, “February” : 2, “March” : 3, “April”: 4, “May”: 5, “June”: 6, “July”: 7, “August”: 8, “September”: 9, “October”: 10, “November”: 11, “December”: 12 }\n",
    "\n",
    ">>> year_monthes.keys()\n",
    "\n",
    "dict_keys([“January”, “February”, “March”, “April”, “May”, “June”, “July”, “August”, “September”, “October”, “November”, “December”])\n",
    "\n",
    "\n",
    "\n",
    "\n",
    "\n",
    "\n",
    "\n",
    "Sets:\n",
    "\n",
    "\n",
    "set is data structure, which represents a collection ofspecific elements:\n",
    "set = set()\n",
    "set.add(a)\n",
    "set.add(b)\n",
    "set.add(c)\n",
    "x = len(set) print(x) >>>x= 3\n",
    "y = d in set print(y) >>>y= False\n",
    "z = c in set print(z) >>>z= False\n",
    "\n",
    "\n",
    "\n",
    "\n",
    "Why it is preferred to use sets?\n",
    "\n",
    "1. It is a very fast code operation on sets than lists.\n",
    "2. set is it more appropriate than a list, If we have a large collection of items that we want to use for elements presence in set test:\n",
    "\n",
    ">>> x = [1,2,3,4,5,6,7,8,9,10]\n",
    "\n",
    "\n",
    "\n",
    ">>>print(1 in set(x), 15 in set(x),20 in set(x))\n",
    "\n",
    "\n",
    "(True, False, False)\n",
    "\n",
    "\n",
    "\n",
    "\n",
    "\n",
    "Types of Exception & Cause of Error:\n",
    "\n",
    "\n",
    "AssertionError :  Raised when assert statement fails.\n",
    "\n",
    "AttributeError : Raised when attribute assignment or reference fails.\n",
    "\n",
    "EOFError : Raised when the input() functions hits end-of-file condition.\n",
    "\n",
    "FloatingPointError : Raised when a floating point operation fails.\n",
    "\n",
    "GeneratorExit : Raise when a generator's close() method is called.\n",
    "\n",
    "ImportError : Raised when the imported module is not found.\n",
    "\n",
    "IndexError : Raised when index of a sequence is out of range.\n",
    "\n",
    "KeyError : Raised when a key is not found in a dictionary. KeyboardInterrupt Raised when the user hits interrupt key (Ctrl+c or delete).\n",
    "\n",
    "MemoryError : Raised when an operation runs out of memory.\n",
    "\n",
    "NameError : Raised when a variable is not found in local or global scope.\n",
    "\n",
    "NotImplementedError : Raised by abstract methods.\n",
    "\n",
    "OSError : Raised when system operation causes system related error.\n",
    "\n",
    "OverflowError : Raised when result of an arithmetic operation is too large to be represented. ReferenceError Raised when a weak reference proxy is used to access a garbage collected referent.\n",
    "\n",
    "RuntimeError : Raised when an error does not fall under any other category.\n",
    "\n",
    "StopIteration : Raised by next() function to indicate that there is no further item to be returned by iterator.\n",
    "\n",
    "SyntaxError : Raised by parser when syntax error is encountered.\n",
    "\n",
    "IndentationError : Raised when there is incorrect indentation.\n",
    "\n",
    "TabError : Raised when indentation consists of inconsistent tabs and spaces.\n",
    "\n",
    "SystemError :Raised when interpreter detects internal error.\n",
    "\n",
    "SystemExit : Raised by sys.exit() function.\n",
    "\n",
    "TypeError : Raised when a function or operation is applied to an object of incorrect type.\n",
    "\n",
    "UnboundLocalError : Raised when a reference is made to a local variable in a function or method, but no value has been bound to that variable.\n",
    "\n",
    "UnicodeError : Raised when a Unicode-related encoding or decoding error occurs.\n",
    "\n",
    "UnicodeEncodeError : Raised when a Unicode-related error occurs during encoding.\n",
    "\n",
    "UnicodeDecodeError : Raised when a Unicode-related error occurs during decoding.\n",
    "\n",
    "UnicodeTranslateError : Raised when a Unicode-related error occurs during translating.\n",
    "\n",
    "ValueError : Raised when a function gets argument of correct type but improper value.\n",
    "\n",
    "ZeroDivisionError : Raised when second operand of division or modulo operation is zero.\n",
    "\n",
    "\n",
    "\n",
    "Python functions:\n",
    "Function: are pre-written lines of code that do a specific task.\n",
    "\n",
    "\n",
    "\n",
    "Function: are composed of:\n",
    "\n",
    "\n",
    "\n",
    "1. Definition code line.\n",
    "\n",
    "2. Argument.\n",
    "\n",
    "3. Retrun or print or yield or result making lines of code.\n",
    "\n",
    "\n",
    "\n",
    "Python functions:\n",
    "\n",
    "We define our own functions in Python and reuse them in the same program as many times as we need.\n",
    "\n",
    "\n",
    "\n",
    "def function_name(parameters):\n",
    "\n",
    "lines of code of the function should do\n",
    "\n",
    "return something\n",
    "\n",
    "\n",
    "\n",
    "Variable Scope:\n",
    "\n",
    "There two types of variables according to variable scope:\n",
    "\n",
    "Local variable:\n",
    "\n",
    "When the variable located and assigned to data value inside the function only, so it will affect that data value of the that variable inside that function only.\n",
    "\n",
    "Global variable:\n",
    "\n",
    "When the variable located and assigned to data value outside the function, so it will affect that data value of the that variable inside and out side that function.\n",
    "\n",
    "\n",
    "\n",
    "Python functions examples:\n",
    "\n",
    "1.Function That returns a value according to its argument :\n",
    "\n",
    ">>>def rectangle_area(width, length)\n",
    "\n",
    "area = width * length\n",
    "\n",
    "return area\n",
    "\n",
    ">>>def rectangle_area(6, 9)\n",
    "\n",
    "Result :54\n",
    "\n",
    ">>>def rectangle_area(4, l5)\n",
    "\n",
    "Result : 20\n",
    "\n",
    "2. Function that returns Boolean value :\n",
    "\n",
    "Example 1:\n",
    "\n",
    "def is_even(x):\n",
    "if x % 2 == 0:\n",
    "return True\n",
    "else:\n",
    "return False\n",
    ">>>def is_even(10)\n",
    "\n",
    "Result: True\n",
    "\n",
    "\n",
    "\n",
    "2. Function that returns Boolean value:\n",
    "\n",
    "Example 2:\n",
    "\n",
    "def is_odd(y):\n",
    "if y % 2 == 0:\n",
    "return True\n",
    "else:\n",
    "return False\n",
    ">>>def is_odd(8)\n",
    "\n",
    "Result: False\n",
    "\n",
    "3.Function that prints specific data:\n",
    "\n",
    "Example 1:\n",
    "\n",
    "def countdown(x):\n",
    "while x> 0:\n",
    "print n\n",
    "x = x-1\n",
    "print “Stop this is the end!\"\n",
    ">>>def countdown(2)\n",
    "\n",
    "Result: 2\n",
    "\n",
    "1\n",
    "\n",
    "Stop this is the end!\n",
    "\n",
    "\n",
    "\n",
    "3. Function that print specific data:\n",
    "\n",
    "Example 2:\n",
    "\n",
    "def is_even_or_odd(n):\n",
    "if n % 2 == 0:\n",
    "return “this number is even”\n",
    "else:\n",
    "return “this number is odd”\n",
    ">>>def is_even_or_odd(2)\n",
    "\n",
    "Result: this number is even\n",
    "\n",
    ">>>def is_even_or_odd(7)\n",
    "\n",
    "Result: this number is odd\n",
    "\n",
    "\n",
    "\n",
    "\n",
    "\n",
    "If statement:\n",
    "If statement is commonly used in programs coded in python and the strcture of if statement as follow:\n",
    "\n",
    "if condition = value:\n",
    "\n",
    "do something\n",
    "\n",
    "elif condition = value:\n",
    "\n",
    "do something\n",
    "\n",
    "else:\n",
    "\n",
    "do some thing\n",
    "\n",
    "\n",
    "\n",
    "\n",
    "\n",
    "If name == “Alex”:\n",
    "\n",
    "print(“Hi Alex”)\n",
    "\n",
    "elif name == “Sara”:\n",
    "\n",
    "print(“Hi Sara”)\n",
    "\n",
    "elif name == “kate”:\n",
    "\n",
    "print(“Hi Kate”)\n",
    "\n",
    "else:\n",
    "\n",
    "print(“Hi everybody”)\n",
    "\n",
    "\n",
    "\n",
    "distance = input(“what is the distance of this road?”)\n",
    "\n",
    ">>> what is the distance of this road?\n",
    "\n",
    "25\n",
    "\n",
    "msg= “this road 11 if distance == 20 else “this is another road”\n",
    "\n",
    ">>>Print (msg)\n",
    "\n",
    "we observe that user input distance = 25\n",
    "\n",
    "So it will print :\n",
    "\n",
    "this is another road\n",
    "\n",
    "\n",
    "\n",
    "\n",
    "For Loop:\n",
    "\n",
    "The for loop Looping through an iterable executes a block of code repeatedly until the condition in the for statement is no longer valid.\n",
    "\n",
    "\n",
    "\n",
    "an iterable In Python refers to anything that can be looped over, such as a string, list or tuple.\n",
    "\n",
    "The syntax for looping through an iterable is as follows:\n",
    "\n",
    "for i in iterable:\n",
    "\n",
    "print (i)\n",
    "\n",
    "\n",
    "\n",
    "\n",
    "\n",
    "Example:\n",
    "\n",
    "colors = [‘red', ‘yellow', ‘green', ‘blue‘, black]\n",
    "\n",
    "for color in colors:\n",
    "\n",
    "print (color)\n",
    "\n",
    "\n",
    "\n",
    "1. we first declare the list of colors and give it the members ‘red', ‘yellow', ‘green', ‘blue‘, black.\n",
    "\n",
    "\n",
    "\n",
    "2. Next the statement for color in colors, so the program loops through the colors list and assigns each member in the list to the variable color.\n",
    "\n",
    "\n",
    "\n",
    "If you run the program, you’ll get\n",
    "\n",
    "red\n",
    "\n",
    "yellow\n",
    "\n",
    "green\n",
    "\n",
    "blue\n",
    "\n",
    "black\n",
    "\n",
    "\n",
    "\n",
    "the index of the members in the list can be displayed by use the enumerate() function.\n",
    "\n",
    "for index, color in enumerate(colors):\n",
    "\n",
    "print (index, color)\n",
    "\n",
    ">>>0 red\n",
    "\n",
    "1 yellow\n",
    "\n",
    "2 green\n",
    "\n",
    "3 blue\n",
    "\n",
    "4 black\n",
    "\n",
    "\n",
    "\n",
    "\n",
    "\n",
    "Looping through a sequence of numbers\n",
    "\n",
    "\n",
    "\n",
    "\n",
    "\n",
    "Example :\n",
    "\n",
    "loop through a string data.\n",
    "\n",
    "msg = ‘Hi’\n",
    "\n",
    "for i in msg:\n",
    "\n",
    "print (i)\n",
    "\n",
    "\n",
    "\n",
    ">>>H\n",
    "\n",
    "i\n",
    "\n",
    "\n",
    "\n",
    "range() function:\n",
    "\n",
    "if start is not given, the numbers generated start from zero.\n",
    "\n",
    "For instance,\n",
    "\n",
    "range(5) will generate the list [0, 1, 2, 3, 4]\n",
    "\n",
    "range(3, 10) will generate [3, 4, 5, 6, 7, 8, 9]\n",
    "\n",
    "range(4, 10, 2) will generate [4, 6, 8]\n",
    "\n",
    "\n",
    "\n",
    "\n",
    "\n",
    "\n",
    "\n",
    "\n",
    "\n",
    "\n",
    "\n",
    "the range() function works inside a for statement:\n",
    "\n",
    "Example:\n",
    "\n",
    "\n",
    "\n",
    "for i in range(3):\n",
    "\n",
    "print (i)\n",
    "\n",
    ">>>0\n",
    "\n",
    "1\n",
    "\n",
    "2\n",
    "\n",
    "\n",
    "\n",
    "\n",
    "\n",
    "\n",
    "break: using break in for loop:\n",
    "\n",
    "sometimes we want to stop the loop when meet specific certain condition so we use the break.\n",
    "\n",
    "Example:\n",
    "\n",
    "a = 0\n",
    "\n",
    "for i in range(10):\n",
    "\n",
    "a+= 2\n",
    "\n",
    "print (‘i = ’, i, ‘, a= ’, a)\n",
    "\n",
    "if a== 4:\n",
    "\n",
    "break\n",
    "\n",
    "\n",
    "\n",
    "we will get:\n",
    "\n",
    "i = 0 , a = 2\n",
    "\n",
    "i = 1 , a= 4\n",
    "\n",
    "\n",
    "\n",
    "Without the break, the coder will loop from i = 0 to i = 10 because we used the function range(10).\n",
    "\n",
    "\n",
    "\n",
    "However with the break keyword, the program ends prematurely at i = 2. This is because when i = 2, j reaches the value of 6 and the break keyword causes the loop to end.\n",
    "\n",
    "\n",
    "\n",
    "\n",
    "\n",
    "continue: using continue in for loop:\n",
    "\n",
    "We use continue to skip specific step in the iteration process.\n",
    "\n",
    "Example:\n",
    "\n",
    "for num in range(3)\n",
    "\n",
    "if num == 1:\n",
    "\n",
    "continue\n",
    "\n",
    "print('Current number :', num)\n",
    "\n",
    "Result: Current number : 0\n",
    "\n",
    "Current number : 2\n",
    "\n",
    "\n",
    "\n",
    "\n",
    "\n",
    "\n",
    "\n",
    "\n",
    "\n",
    "While Loop\n",
    "\n",
    "while loop repeatedly executes code which inside the loop while specific condition remains valid.\n",
    "\n",
    "Composition of while loop is as follow:\n",
    "\n",
    "while condition is true:\n",
    "\n",
    "do something\n",
    "\n",
    "Firstly we declare a variable to function as a loop counter(variable counter)\n",
    "\n",
    "The condition in which the while statement will evaluate the value of counter to determine if it something more than or less than, so the loop\n",
    "\n",
    "will be executed.\n",
    "\n",
    "\n",
    "\n",
    "\n",
    "\n",
    "Example:\n",
    "\n",
    ">>>variable_count= 3\n",
    "\n",
    "while variable_count > 0:\n",
    "\n",
    "variable_count = variable_count - 1\n",
    "\n",
    "print (\"Variable_count =\" , variable_count)\n",
    "\n",
    "\n",
    "\n",
    "variable_count = 3\n",
    "\n",
    "variable_count = 2\n",
    "\n",
    "variable_count = 1\n",
    "\n",
    "\n",
    "\n",
    "\n",
    "\n",
    "\n",
    "\n",
    "\n",
    "\n",
    "Continue: using continue in while loop:\n",
    "\n",
    "We use continue to skip specific step in the iteration process of while loop.\n",
    "\n",
    "Example:\n",
    "\n",
    "num = 3\n",
    "\n",
    "while num > 0:\n",
    "\n",
    "num -= 1\n",
    "\n",
    "if num == 1:\n",
    "\n",
    "continue\n",
    "\n",
    "print('Current number:', num)\n",
    "\n",
    "Result: Current number : 0\n",
    "\n",
    "Current number : 2\n",
    "\n",
    "\n",
    "\n",
    "\n",
    "\n",
    "\n",
    "\n",
    "Zip( ) iterator examples:\n",
    "\n",
    "print(list(zip(['red', 'yellow', 'green'], [1, 2, 3])))\n",
    "\n",
    ">>>[('red ', 1), ('yellow ', 2), ('green', 3)]\n",
    "colors = ['red', 'yellow', 'green']\n",
    "\n",
    "nums = [1, 2, 3]\n",
    "\n",
    "for color, num in zip(colors, nums):\n",
    "\n",
    "print(\"{}: {}\".format(color, num))\n",
    "\n",
    "'red’: 1\n",
    "\n",
    "'yellow': 2\n",
    "\n",
    "'green': 3\n",
    "\n",
    "\n",
    "\n",
    "\n",
    "\n",
    "\n",
    "\n",
    "\n",
    "\n",
    "Zip( ) iterator +* examples for lists : unzip nested lists\n",
    "\n",
    "Eaxmple 3:\n",
    "\n",
    ">>>colors = ['red', 'yellow', 'green']\n",
    "\n",
    ">>>nums = [1, 2, 3]\n",
    "\n",
    ">>>colors_list = [colors, nums]\n",
    "\n",
    ">>>for colors, nums in zip(*colors_list):\n",
    "\n",
    "print(colors, nums)\n",
    "\n",
    "red 1\n",
    "\n",
    "yellow 2\n",
    "\n",
    "green 3\n",
    "\n",
    "Zip( ) iterator+ * example for tuples: unzip nested tuples\n",
    "\n",
    ">>>colors = ('red', 'yellow', 'green')\n",
    "\n",
    ">>>nums = (1, 2, 3)\n",
    "\n",
    ">>>colors_list = (colors, nums)\n",
    "\n",
    ">>>for colors, nums in zip(*colors_list):\n",
    "\n",
    "print(colors, nums)\n",
    "\n",
    "red 1\n",
    "\n",
    "yellow 2\n",
    "\n",
    "green 3\n",
    "\n",
    "enumerate( ) iterator: for lists:\n",
    "\n",
    "It returns an iterator of tuples containing indices and values of a list. use this when you want the index along with each element of an iterable in a loop.\n",
    ">>>letters = ['a', 'b', 'c', 'd', 'e']\n",
    "\n",
    ">>>for i, letter in enumerate(letters):\n",
    "\n",
    "print(i, letter))\n",
    "0 a\n",
    "1 b\n",
    "2 c\n",
    "3 d\n",
    "4 e\n",
    "\n",
    "enumerate( ) iterator:for tuples\n",
    "\n",
    "Example 2:\n",
    "\n",
    "letters =('a', 'b', 'c', 'd', 'e‘)\n",
    "for i, letter in enumerate(letters):\n",
    "print(i, letter)\n",
    "0 a\n",
    "1 b\n",
    "2 c\n",
    "3 d\n",
    "4 e\n",
    "\n",
    "\n",
    "\n"
   ]
  },
  {
   "cell_type": "code",
   "execution_count": null,
   "id": "fdc63043",
   "metadata": {},
   "outputs": [],
   "source": [
    "# Python3 program showing pop() method\n",
    "# and remaining list after each pop\n",
    " \n",
    "list1 = [ 1, 2, 3, 4, 5, 6 ]\n",
    " \n",
    "# Pops and removes the last\n",
    "# element from the list\n",
    "print(list1.pop(), list1)\n",
    " \n",
    "# Pops and removes the 0th index\n",
    "# element from the list\n",
    "print(list1.pop(0), list1)"
   ]
  },
  {
   "cell_type": "code",
   "execution_count": 2,
   "id": "f5ee8a5a",
   "metadata": {},
   "outputs": [
    {
     "name": "stdout",
     "output_type": "stream",
     "text": [
      "[5, 4, 3, 2, 1, 0, 5, 10]\n"
     ]
    }
   ],
   "source": [
    "#Soru 19:\n",
    "x = [5, 4, 3, 2, 1]\n",
    "\n",
    "y = [0, 5, 10]\n",
    "\n",
    "x.extend(y)\n",
    "\n",
    "print(x)"
   ]
  },
  {
   "cell_type": "code",
   "execution_count": null,
   "id": "d736b686",
   "metadata": {},
   "outputs": [],
   "source": [
    "x = ['16', 'Sunday', '10', 'Friday', '14']\n",
    "\n",
    "x.sort()\n",
    "\n",
    "print(x)"
   ]
  },
  {
   "cell_type": "code",
   "execution_count": 3,
   "id": "130aee3a",
   "metadata": {},
   "outputs": [
    {
     "name": "stdout",
     "output_type": "stream",
     "text": [
      "19\n"
     ]
    }
   ],
   "source": [
    "x = [1, 5, 9]\n",
    "\n",
    "y = str(x[0]) + str(x[2])\n",
    "\n",
    "print(y)"
   ]
  },
  {
   "cell_type": "code",
   "execution_count": null,
   "id": "9b967118",
   "metadata": {},
   "outputs": [],
   "source": [
    "#Which of the following function can be used to find the data type of avariable?\n",
    "\n",
    "type()"
   ]
  },
  {
   "cell_type": "code",
   "execution_count": 5,
   "id": "176749f9",
   "metadata": {},
   "outputs": [
    {
     "name": "stdout",
     "output_type": "stream",
     "text": [
      "16\n"
     ]
    }
   ],
   "source": [
    "#the output after the following statements\n",
    "\n",
    "x = {0:4, 1:8, 2:16, 3:32}\n",
    "\n",
    "print(list(x.values())[2])"
   ]
  },
  {
   "cell_type": "code",
   "execution_count": 6,
   "id": "f7e166ef",
   "metadata": {},
   "outputs": [
    {
     "name": "stdout",
     "output_type": "stream",
     "text": [
      "32\n"
     ]
    }
   ],
   "source": [
    "#the output after the following statements\n",
    "\n",
    "x = {0:4, 1:8, 2:16, 3:32}\n",
    "\n",
    "print(x[3])"
   ]
  },
  {
   "cell_type": "code",
   "execution_count": 7,
   "id": "ffaec2c8",
   "metadata": {},
   "outputs": [
    {
     "name": "stdout",
     "output_type": "stream",
     "text": [
      "[(3, 16), (5, 4), (8, 8), (9, 32)]\n"
     ]
    }
   ],
   "source": [
    "x = {5:4, 8:8, 3:16, 9:32}\n",
    "\n",
    "print(sorted(x.items()))"
   ]
  },
  {
   "cell_type": "code",
   "execution_count": 8,
   "id": "52c250ee",
   "metadata": {},
   "outputs": [
    {
     "name": "stdout",
     "output_type": "stream",
     "text": [
      "30\n"
     ]
    }
   ],
   "source": [
    "x = 50\n",
    "\n",
    "if x > 10: print(30)\n",
    "\n",
    "elif x == 40: print(20)\n",
    "\n",
    "else: print(10)"
   ]
  },
  {
   "cell_type": "code",
   "execution_count": null,
   "id": "beda55c8",
   "metadata": {},
   "outputs": [],
   "source": [
    "x = 40\n",
    "\n",
    "if x > 10 and x < 20:\n",
    "\n",
    "    print('true')\n",
    "\n",
    "elif x > 20 and x < 25:\n",
    "\n",
    "    print('not true')\n",
    "\n",
    "elif x > 25 and x < 35:\n",
    "\n",
    "    print('false')\n",
    "\n",
    "else:\n",
    "\n",
    "    print('not false')"
   ]
  },
  {
   "cell_type": "code",
   "execution_count": 9,
   "id": "40265844",
   "metadata": {},
   "outputs": [
    {
     "name": "stdout",
     "output_type": "stream",
     "text": [
      "345"
     ]
    }
   ],
   "source": [
    "x = 3\n",
    "\n",
    "y = 4\n",
    "\n",
    "while x+y < 10:\n",
    "\n",
    "  print(x, end='')\n",
    "\n",
    "  x += 1"
   ]
  },
  {
   "cell_type": "code",
   "execution_count": 11,
   "id": "7673c782",
   "metadata": {},
   "outputs": [
    {
     "name": "stdout",
     "output_type": "stream",
     "text": [
      "1 26 "
     ]
    }
   ],
   "source": [
    "for i in range(1,50,25):\n",
    "    print(i, end=' ')"
   ]
  },
  {
   "cell_type": "code",
   "execution_count": 12,
   "id": "501d472b",
   "metadata": {},
   "outputs": [
    {
     "name": "stdout",
     "output_type": "stream",
     "text": [
      "(0, 'P')(1, 'y')(2, 't')(3, 'h')(4, 'o')(5, 'n')"
     ]
    }
   ],
   "source": [
    "x = ['P', 'y', 't', 'h', 'o', 'n']\n",
    "\n",
    "for i in enumerate(x):\n",
    "    print(i, end='')"
   ]
  },
  {
   "cell_type": "code",
   "execution_count": 13,
   "id": "3e768a7a",
   "metadata": {},
   "outputs": [
    {
     "name": "stdout",
     "output_type": "stream",
     "text": [
      "x 1 y 2 z 3 "
     ]
    }
   ],
   "source": [
    "x = {'x':1, 'y':2, 'z':3}\n",
    "\n",
    "for i, j in x.items():\n",
    "\n",
    "    print(i, j, end=' ')\n"
   ]
  },
  {
   "cell_type": "code",
   "execution_count": 14,
   "id": "ca462214",
   "metadata": {},
   "outputs": [
    {
     "name": "stdout",
     "output_type": "stream",
     "text": [
      "('p', '1')('y', '2')('t', '3')('h', '4')('o', '5')('n', '6')"
     ]
    }
   ],
   "source": [
    "x = ['p', 'y', 't', 'h', 'o', 'n']\n",
    "\n",
    "y = ['1', '2', '3', '4', '5', '6']\n",
    "\n",
    "for i in zip(x, y):\n",
    "\n",
    "    print(i, end='')"
   ]
  },
  {
   "cell_type": "code",
   "execution_count": 15,
   "id": "fb7b8edc",
   "metadata": {},
   "outputs": [
    {
     "name": "stdout",
     "output_type": "stream",
     "text": [
      "2.0\n"
     ]
    }
   ],
   "source": [
    "def func(y, x) :\n",
    "\n",
    "    return x / y\n",
    "\n",
    "z = func(4.5, 9)\n",
    "\n",
    "print(z)"
   ]
  },
  {
   "cell_type": "code",
   "execution_count": 19,
   "id": "fc86a9e7",
   "metadata": {},
   "outputs": [
    {
     "name": "stdout",
     "output_type": "stream",
     "text": [
      "012"
     ]
    }
   ],
   "source": [
    "def func():\n",
    "    \n",
    "    x = 0\n",
    "\n",
    "    while True:\n",
    "        yield x   #Yield is a keyword in Python that is used to return from a function without destroying the states of its local variable and when the function is called, the execution starts from the last yield statement.\n",
    "        x += 1\n",
    "\n",
    "\n",
    "\n",
    "y = func()\n",
    "\n",
    "\n",
    "\n",
    "print(next(y), end='')\n",
    "\n",
    "\n",
    "\n",
    "print(next(y), end='')\n",
    "\n",
    "\n",
    "\n",
    "print(next(y), end='')"
   ]
  },
  {
   "cell_type": "code",
   "execution_count": 20,
   "id": "2434fd51",
   "metadata": {},
   "outputs": [
    {
     "name": "stdout",
     "output_type": "stream",
     "text": [
      "12\n"
     ]
    }
   ],
   "source": [
    "import random as rd\n",
    "\n",
    "print(rd.randint(5,12))\n",
    "\n",
    "# A random integer value between 5 and 12, including 5 and 12"
   ]
  },
  {
   "cell_type": "code",
   "execution_count": 21,
   "id": "519a37f6",
   "metadata": {},
   "outputs": [
    {
     "name": "stdout",
     "output_type": "stream",
     "text": [
      "0.42127311845404314\n"
     ]
    }
   ],
   "source": [
    "import random as rd\n",
    "\n",
    "print(rd.random())\n",
    "#A RANDOM FLOAT VALUE  BETWEEN 0 AND 1"
   ]
  },
  {
   "cell_type": "code",
   "execution_count": 22,
   "id": "8f27ed4e",
   "metadata": {},
   "outputs": [
    {
     "name": "stdout",
     "output_type": "stream",
     "text": [
      "[2, 6, 0, 10, 8]\n"
     ]
    }
   ],
   "source": [
    "from random import *\n",
    "\n",
    "x = [0, 2, 4, 6, 8, 10]\n",
    "\n",
    "print(sample(x, 5))\n",
    "\n",
    "# A list containing 5 random elements from list x"
   ]
  },
  {
   "cell_type": "code",
   "execution_count": null,
   "id": "f05c2516",
   "metadata": {},
   "outputs": [],
   "source": [
    "from random import *\n",
    "\n",
    "print(sample(range(0,9), 5))"
   ]
  },
  {
   "cell_type": "code",
   "execution_count": 23,
   "id": "0a8f6287",
   "metadata": {},
   "outputs": [
    {
     "name": "stdout",
     "output_type": "stream",
     "text": [
      "3.9.7 (default, Sep 16 2021, 16:59:28) [MSC v.1916 64 bit (AMD64)]\n"
     ]
    }
   ],
   "source": [
    "import sys\n",
    "\n",
    "print(sys.version)"
   ]
  },
  {
   "cell_type": "code",
   "execution_count": 24,
   "id": "46d882a2",
   "metadata": {},
   "outputs": [
    {
     "name": "stdout",
     "output_type": "stream",
     "text": [
      "C:\\Users\\erdem\\anaconda3\\python.exe\n"
     ]
    }
   ],
   "source": [
    "import sys\n",
    "\n",
    "print(sys.executable)"
   ]
  },
  {
   "cell_type": "code",
   "execution_count": 25,
   "id": "5cb52b33",
   "metadata": {},
   "outputs": [
    {
     "name": "stdout",
     "output_type": "stream",
     "text": [
      "['False', 'None', 'True', '__peg_parser__', 'and', 'as', 'assert', 'async', 'await', 'break', 'class', 'continue', 'def', 'del', 'elif', 'else', 'except', 'finally', 'for', 'from', 'global', 'if', 'import', 'in', 'is', 'lambda', 'nonlocal', 'not', 'or', 'pass', 'raise', 'return', 'try', 'while', 'with', 'yield']\n"
     ]
    }
   ],
   "source": [
    "import keyword\n",
    "\n",
    "print(keyword.kwlist) #print python keywords"
   ]
  },
  {
   "cell_type": "code",
   "execution_count": 26,
   "id": "3dc54e4d",
   "metadata": {},
   "outputs": [
    {
     "name": "stdout",
     "output_type": "stream",
     "text": [
      "100\n"
     ]
    }
   ],
   "source": [
    "import math\n",
    "\n",
    "print(math.floor(100.2))"
   ]
  },
  {
   "cell_type": "code",
   "execution_count": 27,
   "id": "99f338a0",
   "metadata": {},
   "outputs": [
    {
     "name": "stdout",
     "output_type": "stream",
     "text": [
      "50\n"
     ]
    }
   ],
   "source": [
    "import math\n",
    "\n",
    "print(math.ceil(49.5))"
   ]
  },
  {
   "cell_type": "code",
   "execution_count": 28,
   "id": "6bbf660a",
   "metadata": {},
   "outputs": [
    {
     "name": "stdout",
     "output_type": "stream",
     "text": [
      "64.8074069840786\n"
     ]
    }
   ],
   "source": [
    "import math\n",
    "\n",
    "print(math.sqrt(4200))"
   ]
  },
  {
   "cell_type": "code",
   "execution_count": 29,
   "id": "d9e9daf3",
   "metadata": {},
   "outputs": [
    {
     "name": "stdout",
     "output_type": "stream",
     "text": [
      "1024.0\n"
     ]
    }
   ],
   "source": [
    "import math\n",
    "\n",
    "print(math.pow(4,5))"
   ]
  },
  {
   "cell_type": "code",
   "execution_count": 30,
   "id": "39f42f6a",
   "metadata": {},
   "outputs": [
    {
     "name": "stdout",
     "output_type": "stream",
     "text": [
      "2022-01-31 21:06:39.756089\n"
     ]
    }
   ],
   "source": [
    "import datetime\n",
    "\n",
    "print(datetime.datetime.today())"
   ]
  },
  {
   "cell_type": "code",
   "execution_count": 31,
   "id": "1e6f54d5",
   "metadata": {},
   "outputs": [
    {
     "name": "stdout",
     "output_type": "stream",
     "text": [
      "21\n"
     ]
    }
   ],
   "source": [
    "from datetime import *\n",
    "\n",
    "print(getattr(datetime.today(),'hour'))"
   ]
  },
  {
   "cell_type": "code",
   "execution_count": 32,
   "id": "8112b8b4",
   "metadata": {},
   "outputs": [
    {
     "name": "stdout",
     "output_type": "stream",
     "text": [
      "Monday\n"
     ]
    }
   ],
   "source": [
    "from datetime import *\n",
    "\n",
    "print(datetime.today().strftime('%A')) #return the day"
   ]
  },
  {
   "cell_type": "code",
   "execution_count": 33,
   "id": "d343f5ee",
   "metadata": {},
   "outputs": [
    {
     "name": "stdout",
     "output_type": "stream",
     "text": [
      "Mon Jan 31 21:08:29 2022\n"
     ]
    }
   ],
   "source": [
    "from datetime import *\n",
    "\n",
    "print(datetime.today().strftime('%c')) #return day, month, year and full time format"
   ]
  },
  {
   "cell_type": "code",
   "execution_count": 35,
   "id": "19d66266",
   "metadata": {},
   "outputs": [
    {
     "name": "stdout",
     "output_type": "stream",
     "text": [
      "21:11:52\n"
     ]
    }
   ],
   "source": [
    "from datetime import *\n",
    "\n",
    "print(datetime.today().strftime('%X')) #display the time zone appropriate for the location"
   ]
  },
  {
   "cell_type": "code",
   "execution_count": 36,
   "id": "501be923",
   "metadata": {},
   "outputs": [],
   "source": [
    "from time import *\n",
    "\n",
    "sleep(3) #delay the execution of the code for 3 msec"
   ]
  },
  {
   "cell_type": "code",
   "execution_count": 37,
   "id": "2f94425f",
   "metadata": {},
   "outputs": [
    {
     "name": "stdout",
     "output_type": "stream",
     "text": [
      "Python Job Ready\n"
     ]
    }
   ],
   "source": [
    "x = 'python job ready'\n",
    "\n",
    "print(x.title())"
   ]
  },
  {
   "cell_type": "code",
   "execution_count": 38,
   "id": "4d6600b1",
   "metadata": {},
   "outputs": [
    {
     "name": "stdout",
     "output_type": "stream",
     "text": [
      "PythonjobQuestions\n"
     ]
    }
   ],
   "source": [
    "x = ' Python '\n",
    "\n",
    "y = ' job '\n",
    "\n",
    "z = ' Questions '\n",
    "\n",
    "print(x.strip()+y.strip()+z.strip())"
   ]
  },
  {
   "cell_type": "code",
   "execution_count": 39,
   "id": "5b76966b",
   "metadata": {},
   "outputs": [
    {
     "name": "stdout",
     "output_type": "stream",
     "text": [
      "**Python**\n"
     ]
    }
   ],
   "source": [
    "x = 'Python'\n",
    "\n",
    "print(x.center(10,'*'))"
   ]
  },
  {
   "cell_type": "code",
   "execution_count": 40,
   "id": "4c995317",
   "metadata": {},
   "outputs": [
    {
     "name": "stdout",
     "output_type": "stream",
     "text": [
      "-1\n"
     ]
    }
   ],
   "source": [
    "x = 'Python'\n",
    "\n",
    "print(x.find('p')) #string.find(value, start, end) \n",
    "\n",
    "#If the value is not found, the find() method returns -1\n"
   ]
  },
  {
   "cell_type": "code",
   "execution_count": 42,
   "id": "d4cae944",
   "metadata": {},
   "outputs": [
    {
     "name": "stdout",
     "output_type": "stream",
     "text": [
      "True\n"
     ]
    }
   ],
   "source": [
    "x = '\\n'\n",
    "\n",
    "print(x.isspace())"
   ]
  },
  {
   "cell_type": "code",
   "execution_count": null,
   "id": "0e0d45b1",
   "metadata": {},
   "outputs": [],
   "source": [
    "# x = open('python.txt', 'r+')\n"
   ]
  },
  {
   "cell_type": "code",
   "execution_count": null,
   "id": "da9dad3f",
   "metadata": {},
   "outputs": [],
   "source": [
    "x = open('python.bat', 'wb')\n",
    "\n",
    "# opens or creates a binary file named python.bat to write"
   ]
  },
  {
   "cell_type": "code",
   "execution_count": 44,
   "id": "9ca763c3",
   "metadata": {},
   "outputs": [
    {
     "data": {
      "text/plain": [
       "16.0"
      ]
     },
     "execution_count": 44,
     "metadata": {},
     "output_type": "execute_result"
    }
   ],
   "source": [
    "x= 27 / 3 % 2 * 4**2\n",
    "x"
   ]
  },
  {
   "cell_type": "code",
   "execution_count": 45,
   "id": "1d065ac7",
   "metadata": {},
   "outputs": [
    {
     "name": "stdout",
     "output_type": "stream",
     "text": [
      "[3, 5, 7, 9] [7, 9, 11, 13, 15, 17, 19]\n"
     ]
    }
   ],
   "source": [
    "a = [1,3,5,7,9,11,13,15,17,19]\n",
    "\n",
    "print(a[1:5],a[3:17])"
   ]
  },
  {
   "cell_type": "code",
   "execution_count": 47,
   "id": "59f1d712",
   "metadata": {},
   "outputs": [
    {
     "name": "stdout",
     "output_type": "stream",
     "text": [
      "Python\n",
      "Python\n",
      "Python\n",
      "Python\n"
     ]
    }
   ],
   "source": [
    "for i in range(1, 5):\n",
    "    print('Python')"
   ]
  },
  {
   "cell_type": "code",
   "execution_count": 48,
   "id": "5a741ec7",
   "metadata": {},
   "outputs": [
    {
     "ename": "ValueError",
     "evalue": "invalid literal for int() with base 10: 'hello'",
     "output_type": "error",
     "traceback": [
      "\u001b[1;31m---------------------------------------------------------------------------\u001b[0m",
      "\u001b[1;31mValueError\u001b[0m                                Traceback (most recent call last)",
      "\u001b[1;32m~\\AppData\\Local\\Temp/ipykernel_2892/1187691295.py\u001b[0m in \u001b[0;36m<module>\u001b[1;34m\u001b[0m\n\u001b[1;32m----> 1\u001b[1;33m \u001b[0ma\u001b[0m \u001b[1;33m=\u001b[0m \u001b[0mint\u001b[0m\u001b[1;33m(\u001b[0m\u001b[1;34m'hello'\u001b[0m\u001b[1;33m)\u001b[0m\u001b[1;33m\u001b[0m\u001b[1;33m\u001b[0m\u001b[0m\n\u001b[0m",
      "\u001b[1;31mValueError\u001b[0m: invalid literal for int() with base 10: 'hello'"
     ]
    }
   ],
   "source": [
    "a = int('hello')"
   ]
  },
  {
   "cell_type": "code",
   "execution_count": 49,
   "id": "c0008b71",
   "metadata": {},
   "outputs": [
    {
     "name": "stdout",
     "output_type": "stream",
     "text": [
      "[0, 1, 4, 9, 16]\n"
     ]
    }
   ],
   "source": [
    "a = list(map(lambda a:a**2, range(5)))\n",
    "\n",
    "print(a)\n"
   ]
  },
  {
   "cell_type": "code",
   "execution_count": 50,
   "id": "5693793c",
   "metadata": {},
   "outputs": [
    {
     "name": "stdout",
     "output_type": "stream",
     "text": [
      "[0, 1, 4, 9]\n"
     ]
    }
   ],
   "source": [
    "b = [i**2 for i in range(4)]\n",
    "\n",
    "print(b)"
   ]
  },
  {
   "cell_type": "code",
   "execution_count": 51,
   "id": "cb9db3b7",
   "metadata": {},
   "outputs": [
    {
     "name": "stdout",
     "output_type": "stream",
     "text": [
      "[(0, 5), (0, 4), (3, 5), (3, 4), (3, 0), (5, 4), (5, 0)]\n"
     ]
    }
   ],
   "source": [
    "b = [(x, y) for x in [0, 3, 5] for y in [5, 4, 0] if x!=y]\n",
    "\n",
    "print(b)"
   ]
  },
  {
   "cell_type": "code",
   "execution_count": 52,
   "id": "096bbd9b",
   "metadata": {},
   "outputs": [
    {
     "name": "stdout",
     "output_type": "stream",
     "text": [
      "[(0, 3), (0, 4), (0, 5), (1, 3), (1, 4), (1, 5), (2, 3), (2, 4), (2, 5)]\n"
     ]
    }
   ],
   "source": [
    "b = []\n",
    "\n",
    "\n",
    "\n",
    "for x in [0, 1, 2]:\n",
    "\n",
    "    for y in [3, 4, 5]:\n",
    "\n",
    "        if x!=y:\n",
    "            b.append((x,y))\n",
    "\n",
    "\n",
    "\n",
    "print(b)"
   ]
  },
  {
   "cell_type": "code",
   "execution_count": 53,
   "id": "3646afe9",
   "metadata": {},
   "outputs": [
    {
     "name": "stdout",
     "output_type": "stream",
     "text": [
      "[-8, -1, 0, 1, 8]\n"
     ]
    }
   ],
   "source": [
    "x= [-2, -1, 0, 1, 2]\n",
    "\n",
    "print([i**3 for i in x])"
   ]
  },
  {
   "cell_type": "code",
   "execution_count": 54,
   "id": "15139f2d",
   "metadata": {},
   "outputs": [
    {
     "name": "stdout",
     "output_type": "stream",
     "text": [
      "['3.0', '3.1', '3.14', '3.142', '3.1416']\n"
     ]
    }
   ],
   "source": [
    "from math import pi\n",
    "\n",
    "x = [str(round(pi, i)) for i in range(0,5)]\n",
    "\n",
    "print(x)"
   ]
  },
  {
   "cell_type": "code",
   "execution_count": 55,
   "id": "9b0fc89b",
   "metadata": {},
   "outputs": [
    {
     "name": "stdout",
     "output_type": "stream",
     "text": [
      "[[0, 4, 8], [1, 5, 9], [2, 6, 10], [3, 7, 11]]\n"
     ]
    }
   ],
   "source": [
    "a = [[0, 1, 2, 3], [4, 5, 6, 7], [8, 9, 10, 11]]\n",
    "\n",
    "b = [[x[i] for x in a] for i in range(4)]\n",
    "\n",
    "print(b)"
   ]
  },
  {
   "cell_type": "code",
   "execution_count": 56,
   "id": "ec6c5cb6",
   "metadata": {},
   "outputs": [
    {
     "name": "stdout",
     "output_type": "stream",
     "text": [
      "[[0, 4, 8], [1, 5, 9], [2, 6, 11], [4, 9, 12]]\n"
     ]
    }
   ],
   "source": [
    "a = []\n",
    "b = [[0, 1, 2, 4], [4, 5, 6, 9], [8, 9, 11, 12]]\n",
    "\n",
    "for i in range(4):\n",
    "    a.append([row[i] for row in b])\n",
    "\n",
    "print(a)"
   ]
  },
  {
   "cell_type": "code",
   "execution_count": 57,
   "id": "b8797e45",
   "metadata": {},
   "outputs": [
    {
     "ename": "NameError",
     "evalue": "name 'a' is not defined",
     "output_type": "error",
     "traceback": [
      "\u001b[1;31m---------------------------------------------------------------------------\u001b[0m",
      "\u001b[1;31mNameError\u001b[0m                                 Traceback (most recent call last)",
      "\u001b[1;32m~\\AppData\\Local\\Temp/ipykernel_2892/1426855552.py\u001b[0m in \u001b[0;36m<module>\u001b[1;34m\u001b[0m\n\u001b[0;32m      3\u001b[0m \u001b[1;32mdel\u001b[0m \u001b[0ma\u001b[0m\u001b[1;33m\u001b[0m\u001b[1;33m\u001b[0m\u001b[0m\n\u001b[0;32m      4\u001b[0m \u001b[1;33m\u001b[0m\u001b[0m\n\u001b[1;32m----> 5\u001b[1;33m \u001b[0mprint\u001b[0m\u001b[1;33m(\u001b[0m\u001b[0ma\u001b[0m\u001b[1;33m)\u001b[0m\u001b[1;33m\u001b[0m\u001b[1;33m\u001b[0m\u001b[0m\n\u001b[0m",
      "\u001b[1;31mNameError\u001b[0m: name 'a' is not defined"
     ]
    }
   ],
   "source": [
    "a = [1, 2, 3, 4]\n",
    "\n",
    "del a\n",
    "\n",
    "print(a)"
   ]
  },
  {
   "cell_type": "code",
   "execution_count": 58,
   "id": "6fa104a4",
   "metadata": {},
   "outputs": [
    {
     "name": "stdout",
     "output_type": "stream",
     "text": [
      "[-4, -2, 0, 2, 4]\n"
     ]
    }
   ],
   "source": [
    "x = [i*2-4 for i in range(5)]\n",
    "\n",
    "print(x)"
   ]
  },
  {
   "cell_type": "code",
   "execution_count": 59,
   "id": "9fd2b445",
   "metadata": {},
   "outputs": [
    {
     "name": "stdout",
     "output_type": "stream",
     "text": [
      "[-3, 6, 33]\n"
     ]
    }
   ],
   "source": [
    "x = [i**2-3 for i in range(0,7,3)]\n",
    "\n",
    "print(x)"
   ]
  },
  {
   "cell_type": "code",
   "execution_count": 60,
   "id": "2ba9b71a",
   "metadata": {},
   "outputs": [
    {
     "name": "stdout",
     "output_type": "stream",
     "text": [
      "[0, 1, 12, 43, 102]\n"
     ]
    }
   ],
   "source": [
    "x = [i**3//5 for i in range(0,9,2)]\n",
    "\n",
    "print(x)"
   ]
  },
  {
   "cell_type": "code",
   "execution_count": 61,
   "id": "d3a8069f",
   "metadata": {},
   "outputs": [
    {
     "name": "stdout",
     "output_type": "stream",
     "text": [
      "[0, 2, 21]\n"
     ]
    }
   ],
   "source": [
    "x = [int(i**3/3) for i in range(0,5,2)]\n",
    "\n",
    "print(x)"
   ]
  },
  {
   "cell_type": "code",
   "execution_count": 62,
   "id": "b10c44ac",
   "metadata": {},
   "outputs": [
    {
     "name": "stdout",
     "output_type": "stream",
     "text": [
      "31 21\n"
     ]
    }
   ],
   "source": [
    "x = 30\n",
    "\n",
    "y = 20\n",
    "\n",
    "while x < 31 and y < 21:     \n",
    "\n",
    "    x = x + 1     \n",
    "\n",
    "    y = y + 1     \n",
    "\n",
    "print(x,y)"
   ]
  },
  {
   "cell_type": "code",
   "execution_count": 64,
   "id": "08aae49e",
   "metadata": {},
   "outputs": [
    {
     "name": "stdout",
     "output_type": "stream",
     "text": [
      "Hello Python developer\n"
     ]
    }
   ],
   "source": [
    "def abc(x, y):\n",
    "    print('Hello %s %s' % (x, y))\n",
    "\n",
    "\n",
    "abc('Python', 'developer')"
   ]
  },
  {
   "cell_type": "code",
   "execution_count": 66,
   "id": "ce086f8e",
   "metadata": {},
   "outputs": [
    {
     "name": "stdout",
     "output_type": "stream",
     "text": [
      "contain dogs and cats\n"
     ]
    }
   ],
   "source": [
    "class Animal:\n",
    "    def mammals():\n",
    "        print('contain dogs and cats')\n",
    "\n",
    "\n",
    "Animal.mammals()"
   ]
  },
  {
   "cell_type": "code",
   "execution_count": 67,
   "id": "05975894",
   "metadata": {},
   "outputs": [
    {
     "name": "stdout",
     "output_type": "stream",
     "text": [
      "0\n"
     ]
    }
   ],
   "source": [
    "x = -5\n",
    "\n",
    "if abs(x) < 5:  #abs : absolute\n",
    "\n",
    "    print(x)\n",
    "\n",
    "else: print(0)"
   ]
  },
  {
   "cell_type": "code",
   "execution_count": 68,
   "id": "c63199d1",
   "metadata": {},
   "outputs": [
    {
     "name": "stdout",
     "output_type": "stream",
     "text": [
      "-5\n"
     ]
    }
   ],
   "source": [
    "x = -5\n",
    "\n",
    "if bool(x):\n",
    "    print(x)\n",
    "\n",
    "else: print(0)"
   ]
  },
  {
   "cell_type": "code",
   "execution_count": 69,
   "id": "4100a370",
   "metadata": {},
   "outputs": [
    {
     "name": "stdout",
     "output_type": "stream",
     "text": [
      "Yes\n"
     ]
    }
   ],
   "source": [
    "x = [2, 5, 10]\n",
    "\n",
    "if bool(x):     \n",
    "\n",
    "    print('Yes')\n",
    "\n",
    "else:     \n",
    "\n",
    "    print('No')"
   ]
  },
  {
   "cell_type": "code",
   "execution_count": 70,
   "id": "3e576b2e",
   "metadata": {},
   "outputs": [
    {
     "name": "stdout",
     "output_type": "stream",
     "text": [
      "d\n"
     ]
    }
   ],
   "source": [
    "x = ['a', 'b', 'c', 'd','1', '2','3', 'A', 'B']\n",
    "\n",
    "print(max(x))"
   ]
  },
  {
   "cell_type": "code",
   "execution_count": 71,
   "id": "760d86ae",
   "metadata": {},
   "outputs": [
    {
     "name": "stdout",
     "output_type": "stream",
     "text": [
      "1\n"
     ]
    }
   ],
   "source": [
    "x = ['a', 'b', 'c', 'd','1', '2','3', 'A', 'B']\n",
    "\n",
    "print(min(x))"
   ]
  },
  {
   "cell_type": "code",
   "execution_count": 72,
   "id": "2b8fb3ee",
   "metadata": {},
   "outputs": [
    {
     "name": "stdout",
     "output_type": "stream",
     "text": [
      "54\n"
     ]
    }
   ],
   "source": [
    "x = list(range(0,30,9))\n",
    "\n",
    "print(sum(x))"
   ]
  },
  {
   "cell_type": "code",
   "execution_count": 73,
   "id": "f9310bf4",
   "metadata": {},
   "outputs": [
    {
     "name": "stdout",
     "output_type": "stream",
     "text": [
      "10\n"
     ]
    }
   ],
   "source": [
    "import copy\n",
    "\n",
    "x = [10, 8, 6, 4, 2]\n",
    "\n",
    "y = copy.copy(x)\n",
    "\n",
    "x.append(15)\n",
    "\n",
    "print(y[0])"
   ]
  },
  {
   "cell_type": "code",
   "execution_count": 74,
   "id": "9164c02e",
   "metadata": {},
   "outputs": [
    {
     "name": "stdout",
     "output_type": "stream",
     "text": [
      "True\n"
     ]
    }
   ],
   "source": [
    "import keyword\n",
    "\n",
    "print(keyword.iskeyword('for'))  #Return True if s is a Python keyword."
   ]
  },
  {
   "cell_type": "code",
   "execution_count": 75,
   "id": "6df68660",
   "metadata": {},
   "outputs": [
    {
     "name": "stdout",
     "output_type": "stream",
     "text": [
      "40\n"
     ]
    }
   ],
   "source": [
    "import random\n",
    "\n",
    "x = [10, 20, 30, 40, 50]\n",
    "\n",
    "print(random.choice(x)) # a random element from the list x"
   ]
  },
  {
   "cell_type": "code",
   "execution_count": 76,
   "id": "eea9107b",
   "metadata": {},
   "outputs": [
    {
     "name": "stdout",
     "output_type": "stream",
     "text": [
      "[3, 7, 0, 4, 10]\n"
     ]
    }
   ],
   "source": [
    "import random\n",
    "\n",
    "x = [3, 7, 10, 4, 0]\n",
    "\n",
    "random.shuffle(x)\n",
    "\n",
    "print(x)"
   ]
  },
  {
   "cell_type": "code",
   "execution_count": 77,
   "id": "fbfaad8d",
   "metadata": {},
   "outputs": [
    {
     "name": "stdout",
     "output_type": "stream",
     "text": [
      "46\n"
     ]
    }
   ],
   "source": [
    "import random\n",
    "\n",
    "print(int(random.random()*50)) # a random integer number within the range 0 to 49"
   ]
  },
  {
   "cell_type": "code",
   "execution_count": 78,
   "id": "c9d901d7",
   "metadata": {},
   "outputs": [
    {
     "name": "stdout",
     "output_type": "stream",
     "text": [
      "28\n"
     ]
    }
   ],
   "source": [
    "import random\n",
    "\n",
    "print(int(random.random()*50) + 1) # a random integer number within the range 0 to 50"
   ]
  },
  {
   "cell_type": "code",
   "execution_count": 79,
   "id": "ecd092e3",
   "metadata": {},
   "outputs": [
    {
     "name": "stdout",
     "output_type": "stream",
     "text": [
      "[42, 26, 34, 8, 12, 6, 36, 7, 1, 38]\n"
     ]
    }
   ],
   "source": [
    "import random\n",
    "\n",
    "print(random.sample(range(50),10))"
   ]
  },
  {
   "cell_type": "code",
   "execution_count": 80,
   "id": "baf3ecc8",
   "metadata": {},
   "outputs": [
    {
     "name": "stdout",
     "output_type": "stream",
     "text": [
      "[1, 2, 3, 4, 5, 6, 7, 'Sunday', 'Monday', 'Tuesday', 'Wednesday', 'Thrusday', 'Friday', 'Saturday']\n"
     ]
    }
   ],
   "source": [
    "x = ['Sunday', 'Monday', 'Tuesday', 'Wednesday', 'Thrusday', 'Friday', 'Saturday']\n",
    "\n",
    "y = [1, 2, 3, 4, 5, 6, 7]\n",
    "\n",
    "print(y + x)"
   ]
  },
  {
   "cell_type": "code",
   "execution_count": 81,
   "id": "f905dabd",
   "metadata": {},
   "outputs": [
    {
     "name": "stdout",
     "output_type": "stream",
     "text": [
      "John 33 male\n"
     ]
    }
   ],
   "source": [
    "x = ['John', '33', 'male']\n",
    "\n",
    "name, age, gender = x\n",
    "\n",
    "print(name, age, gender)"
   ]
  },
  {
   "cell_type": "code",
   "execution_count": null,
   "id": "e0d30140",
   "metadata": {},
   "outputs": [],
   "source": []
  }
 ],
 "metadata": {
  "kernelspec": {
   "display_name": "Python 3 (ipykernel)",
   "language": "python",
   "name": "python3"
  },
  "language_info": {
   "codemirror_mode": {
    "name": "ipython",
    "version": 3
   },
   "file_extension": ".py",
   "mimetype": "text/x-python",
   "name": "python",
   "nbconvert_exporter": "python",
   "pygments_lexer": "ipython3",
   "version": "3.9.7"
  }
 },
 "nbformat": 4,
 "nbformat_minor": 5
}
