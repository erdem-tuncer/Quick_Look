{
  "nbformat": 4,
  "nbformat_minor": 0,
  "metadata": {
    "colab": {
      "name": "19-Phyton-ders-05.05-*K-Ders-LAMBDA.ipynb",
      "provenance": [],
      "collapsed_sections": [],
      "authorship_tag": "ABX9TyOiuxxRtoKjZBQHrrBMFbcv",
      "include_colab_link": true
    },
    "kernelspec": {
      "name": "python3",
      "display_name": "Python 3"
    },
    "language_info": {
      "name": "python"
    }
  },
  "cells": [
    {
      "cell_type": "markdown",
      "metadata": {
        "id": "view-in-github",
        "colab_type": "text"
      },
      "source": [
        "<a href=\"https://colab.research.google.com/github/erdem-tuncer/Quick_Look/blob/main/19_Phyton_ders_05_05_K_Ders_LAMBDA.ipynb\" target=\"_parent\"><img src=\"https://colab.research.google.com/assets/colab-badge.svg\" alt=\"Open In Colab\"/></a>"
      ]
    },
    {
      "cell_type": "code",
      "metadata": {
        "id": "KNSOkoIVJlHl"
      },
      "source": [
        "def square(x):\n",
        "    return x**2"
      ],
      "execution_count": null,
      "outputs": []
    },
    {
      "cell_type": "code",
      "metadata": {
        "colab": {
          "base_uri": "https://localhost:8080/"
        },
        "id": "HYl0348iJvXC",
        "outputId": "661ecc35-8950-4cf3-8e75-5aa19ad98b12"
      },
      "source": [
        "lambda x: x**2"
      ],
      "execution_count": null,
      "outputs": [
        {
          "output_type": "execute_result",
          "data": {
            "text/plain": [
              "<function __main__.<lambda>>"
            ]
          },
          "metadata": {
            "tags": []
          },
          "execution_count": 2
        }
      ]
    },
    {
      "cell_type": "code",
      "metadata": {
        "id": "vwDL-nUbJ254"
      },
      "source": [
        "#parametrelere argüman atamazsan sonucu nasıl alacaksın?"
      ],
      "execution_count": null,
      "outputs": []
    },
    {
      "cell_type": "code",
      "metadata": {
        "id": "roFB61mDJxx9"
      },
      "source": [
        "lambdalarda return statement tabi ki yok"
      ],
      "execution_count": null,
      "outputs": []
    },
    {
      "cell_type": "code",
      "metadata": {
        "colab": {
          "base_uri": "https://localhost:8080/"
        },
        "id": "HEmPeDU_J08R",
        "outputId": "b15fcca3-2dc6-4d55-c5a7-c00eb0dd7c93"
      },
      "source": [
        "lambda x, y: (x+y)/2 (2,3)"
      ],
      "execution_count": null,
      "outputs": [
        {
          "output_type": "execute_result",
          "data": {
            "text/plain": [
              "<function __main__.<lambda>>"
            ]
          },
          "metadata": {
            "tags": []
          },
          "execution_count": 6
        }
      ]
    },
    {
      "cell_type": "code",
      "metadata": {
        "colab": {
          "base_uri": "https://localhost:8080/"
        },
        "id": "Cd97pBSoKFKR",
        "outputId": "bd806649-74d1-4bcd-adbb-76a561792eeb"
      },
      "source": [
        "lambda x: \"odd\" if x%2 !=0 else \"even\""
      ],
      "execution_count": null,
      "outputs": [
        {
          "output_type": "execute_result",
          "data": {
            "text/plain": [
              "<function __main__.<lambda>>"
            ]
          },
          "metadata": {
            "tags": []
          },
          "execution_count": 7
        }
      ]
    },
    {
      "cell_type": "code",
      "metadata": {
        "id": "JvCg8IT4KaM6"
      },
      "source": [
        "lambda x: \"odd\" if x%2 else \"even\"  "
      ],
      "execution_count": null,
      "outputs": []
    },
    {
      "cell_type": "code",
      "metadata": {
        "colab": {
          "base_uri": "https://localhost:8080/",
          "height": 35
        },
        "id": "wKej6kcpPfbF",
        "outputId": "91b23a89-9811-4ca7-9fcf-c8156b46180a"
      },
      "source": [
        "(lambda x: \"odd\" if x%2 else \"even\")(3526812)"
      ],
      "execution_count": null,
      "outputs": [
        {
          "output_type": "execute_result",
          "data": {
            "application/vnd.google.colaboratory.intrinsic+json": {
              "type": "string"
            },
            "text/plain": [
              "'even'"
            ]
          },
          "metadata": {
            "tags": []
          },
          "execution_count": 10
        }
      ]
    },
    {
      "cell_type": "code",
      "metadata": {
        "id": "mTkSjW14PyK6"
      },
      "source": [
        "average = (lambda a, b : a**2 + b**2)(3, 5)"
      ],
      "execution_count": null,
      "outputs": []
    },
    {
      "cell_type": "code",
      "metadata": {
        "colab": {
          "base_uri": "https://localhost:8080/"
        },
        "id": "kDJGnXOLQ0BI",
        "outputId": "6f23e3bd-e8e8-46f8-e711-f6d9e6d2d612"
      },
      "source": [
        "print(average)"
      ],
      "execution_count": null,
      "outputs": [
        {
          "output_type": "stream",
          "text": [
            "34\n"
          ],
          "name": "stdout"
        }
      ]
    },
    {
      "cell_type": "code",
      "metadata": {
        "id": "5nkwzh5-Q1ag"
      },
      "source": [
        "dafine a lambda func. to reverse the elements of any iterables. liste, tupple, string vs\n",
        "-Use paranthesis for arguments and print the result"
      ],
      "execution_count": null,
      "outputs": []
    },
    {
      "cell_type": "code",
      "metadata": {
        "id": "cO0EYegmRFca"
      },
      "source": [
        "iterable = \"cayocagi\"\n",
        "reverser = (lambda x: x[::-1] )(iterable)"
      ],
      "execution_count": null,
      "outputs": []
    },
    {
      "cell_type": "code",
      "metadata": {
        "colab": {
          "base_uri": "https://localhost:8080/",
          "height": 35
        },
        "id": "OPrHICGZRe0E",
        "outputId": "38abb056-c4e8-44b9-e46e-2f2f273e723f"
      },
      "source": [
        "reverser"
      ],
      "execution_count": null,
      "outputs": [
        {
          "output_type": "execute_result",
          "data": {
            "application/vnd.google.colaboratory.intrinsic+json": {
              "type": "string"
            },
            "text/plain": [
              "'igacoyac'"
            ]
          },
          "metadata": {
            "tags": []
          },
          "execution_count": 14
        }
      ]
    },
    {
      "cell_type": "markdown",
      "metadata": {
        "id": "yssS9GgKT0aO"
      },
      "source": [
        "write a phyton program that types even or odd accordance with rhe numbers in a list.\n",
        "- Use lambda func. and loop\n",
        "- your coda must contain no more than 2 lines\n",
        "-the smaple list and desired outpıut:"
      ]
    },
    {
      "cell_type": "code",
      "metadata": {
        "id": "KtCuniJVRf0m"
      },
      "source": [
        "liste = [1, 2, 3, 4]\n",
        "print(lambda x: for i in liste:\n",
        "      if i%2==0:\n",
        "        print(i \": even\") \n",
        "      else:\n",
        "        print(i \": odd\")) (liste) "
      ],
      "execution_count": null,
      "outputs": []
    },
    {
      "cell_type": "code",
      "metadata": {
        "colab": {
          "base_uri": "https://localhost:8080/"
        },
        "id": "EuXfPAT3STvm",
        "outputId": "44a65d89-c8da-4506-84e4-74610ca78b5d"
      },
      "source": [
        "for i in [1, 2, 3, 4, 5, 6] :\n",
        "    print(i, \":\", (lambda x : \"odd\" if x%2 !=0 else \"even\")(i))"
      ],
      "execution_count": null,
      "outputs": [
        {
          "output_type": "stream",
          "text": [
            "1 : odd\n",
            "2 : even\n",
            "3 : odd\n",
            "4 : even\n",
            "5 : odd\n",
            "6 : even\n"
          ],
          "name": "stdout"
        }
      ]
    },
    {
      "cell_type": "code",
      "metadata": {
        "id": "GI8UeIA_UDz6"
      },
      "source": [
        "hipotanus = lambda a, b : a**2 + b**2"
      ],
      "execution_count": null,
      "outputs": []
    },
    {
      "cell_type": "code",
      "metadata": {
        "colab": {
          "base_uri": "https://localhost:8080/"
        },
        "id": "MFb1gOHCUobL",
        "outputId": "7c86eb8c-3049-47c4-facf-e8b85241341f"
      },
      "source": [
        "hipotanus(3,5)"
      ],
      "execution_count": null,
      "outputs": [
        {
          "output_type": "execute_result",
          "data": {
            "text/plain": [
              "34"
            ]
          },
          "metadata": {
            "tags": []
          },
          "execution_count": 28
        }
      ]
    },
    {
      "cell_type": "code",
      "metadata": {
        "id": "MAl7C5qDYlWV"
      },
      "source": [
        "iterable = [1, 2, 3, 4, 5]"
      ],
      "execution_count": null,
      "outputs": []
    },
    {
      "cell_type": "code",
      "metadata": {
        "id": "6YNJdlpcUrep"
      },
      "source": [
        "result = map(lambda x : x**2, iterable)"
      ],
      "execution_count": null,
      "outputs": []
    },
    {
      "cell_type": "code",
      "metadata": {
        "colab": {
          "base_uri": "https://localhost:8080/"
        },
        "id": "2VU8q_efYBGe",
        "outputId": "391bc95d-e36f-46c6-dfb6-51482156070e"
      },
      "source": [
        "print(*result)"
      ],
      "execution_count": null,
      "outputs": [
        {
          "output_type": "stream",
          "text": [
            "1 4 9 16 25\n"
          ],
          "name": "stdout"
        }
      ]
    },
    {
      "cell_type": "code",
      "metadata": {
        "id": "mtxSvKhNYDH7"
      },
      "source": [
        "TASK: do the same thing using user-defined function def\n",
        "use the def in map() function"
      ],
      "execution_count": null,
      "outputs": []
    },
    {
      "cell_type": "code",
      "metadata": {
        "id": "J-Oc9EDiYXun"
      },
      "source": [
        "def karesinial(x) :\n",
        "    return x**2"
      ],
      "execution_count": null,
      "outputs": []
    },
    {
      "cell_type": "code",
      "metadata": {
        "id": "zh_PscEFYbmv"
      },
      "source": [
        "result = map(karesinial, iterable)"
      ],
      "execution_count": null,
      "outputs": []
    },
    {
      "cell_type": "code",
      "metadata": {
        "colab": {
          "base_uri": "https://localhost:8080/"
        },
        "id": "zLV1l3PbYgPh",
        "outputId": "2507208a-7407-4236-8a1b-c8976a569047"
      },
      "source": [
        "print(*result)"
      ],
      "execution_count": null,
      "outputs": [
        {
          "output_type": "stream",
          "text": [
            "1 4 9 16 25\n"
          ],
          "name": "stdout"
        }
      ]
    },
    {
      "cell_type": "code",
      "metadata": {
        "id": "zIkOvEuoYiWI"
      },
      "source": [
        "iterable_2 = [\"ahmet\", \"merkaf\", \"adawd sad \"]"
      ],
      "execution_count": null,
      "outputs": []
    },
    {
      "cell_type": "code",
      "metadata": {
        "id": "4Eala9ZkYz1d"
      },
      "source": [
        "result_2 = map(len, iterable_2) #map fonksiyonu ne yapıyordu?\n",
        "#iterablein elemanlarına tek tek fonksiyonu uygular\n",
        "#bir sonuç döndürür. onu hafızasında tutar"
      ],
      "execution_count": null,
      "outputs": []
    },
    {
      "cell_type": "code",
      "metadata": {
        "colab": {
          "base_uri": "https://localhost:8080/"
        },
        "id": "SuFKQ9m2Y51v",
        "outputId": "faf4b164-df19-4d4f-ed90-a3c796c6444b"
      },
      "source": [
        "print(*result_2)"
      ],
      "execution_count": null,
      "outputs": [
        {
          "output_type": "stream",
          "text": [
            "5 6 10\n"
          ],
          "name": "stdout"
        }
      ]
    },
    {
      "cell_type": "code",
      "metadata": {
        "id": "y3f8M7EWY76H"
      },
      "source": [
        "#aşağıyı anladın mı :)"
      ],
      "execution_count": null,
      "outputs": []
    },
    {
      "cell_type": "code",
      "metadata": {
        "id": "T2PgFX72Z3Zo"
      },
      "source": [
        "letter1 = [\"a\", \"b\", \"v\"]\n",
        "letter2 = [\"x\", \"y\", \"z\"]"
      ],
      "execution_count": null,
      "outputs": []
    },
    {
      "cell_type": "code",
      "metadata": {
        "id": "Mj3kg1-ecQoe"
      },
      "source": [
        "yapıştır =map(zip, letter1, letter2)"
      ],
      "execution_count": null,
      "outputs": []
    },
    {
      "cell_type": "code",
      "metadata": {
        "colab": {
          "base_uri": "https://localhost:8080/"
        },
        "id": "UTBUQF1mcUw7",
        "outputId": "cbd981fe-f5db-495e-8ac7-04e75c540d2f"
      },
      "source": [
        "for i in yapıştır:\n",
        "      for j in i:\n",
        "          print(j)"
      ],
      "execution_count": null,
      "outputs": [
        {
          "output_type": "stream",
          "text": [
            "('a', 'x')\n",
            "('b', 'y')\n",
            "('v', 'z')\n"
          ],
          "name": "stdout"
        }
      ]
    },
    {
      "cell_type": "code",
      "metadata": {
        "id": "PGeAyVSociTD"
      },
      "source": [
        ""
      ],
      "execution_count": null,
      "outputs": []
    }
  ]
}